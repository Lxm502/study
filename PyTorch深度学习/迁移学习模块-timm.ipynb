{
 "cells": [
  {
   "cell_type": "markdown",
   "id": "bcbc588a-c5ac-4119-9dd4-761630c76fbb",
   "metadata": {},
   "source": [
    "# timm（PyTorch Image Models）\n",
    "迁移学习模块，这是目前最强大的 `PyTorch `视觉模型库之一，提供了大量 预训练好的模型（CNN、ViT、Swin、ConvNeXt 等），非常适合做迁移学习。\n",
    "\n",
    "## 一、`timm` 简介\n",
    "\n",
    "功能：提供大量 `SOTA` 图像分类、检测、分割模型，带预训练权重。\n",
    "\n",
    "- 优势：\n",
    "    \n",
    "    - 模型数量非常多（700+）\n",
    "    \n",
    "    - 支持 `ImageNet-1K`、`ImageNet-21K` 等预训练\n",
    "    \n",
    "    - API 统一，方便调用\n",
    " \n",
    "---\n",
    "\n",
    "## 二、timm 的基本用法\n",
    "### 1. 查看可用模型"
   ]
  },
  {
   "cell_type": "code",
   "execution_count": null,
   "id": "c39ea826-3430-4e1f-8a01-f17a2970f154",
   "metadata": {},
   "outputs": [],
   "source": [
    "import timm\n",
    "\n",
    "# 列出所有模型\n",
    "print(timm.list_models())\n",
    "\n",
    "# 按关键字搜索，例如只看 resnet 系列\n",
    "print(timm.list_models('*resnet*'))\n"
   ]
  },
  {
   "cell_type": "markdown",
   "id": "4583db04-ed72-4588-ae8f-fe0486632706",
   "metadata": {},
   "source": [
    "### 验证是否支持动态尺寸\n",
    "- 可以通过以下代码测试："
   ]
  },
  {
   "cell_type": "code",
   "execution_count": null,
   "id": "0375c881-73b1-4c4f-b6c2-78ba1ab90f1b",
   "metadata": {},
   "outputs": [],
   "source": [
    "import torch\n",
    "\n",
    "model = timm.create_model('efficientnet_b0', pretrained=True)\n",
    "dummy_input = torch.randn(1, 3, 32, 32)  # 尝试 32×32 输入\n",
    "try:\n",
    "    output = model(dummy_input)\n",
    "    print(\"模型支持动态尺寸！输出形状：\", output.shape)\n",
    "except RuntimeError as e:\n",
    "    print(\"报错：\", e)"
   ]
  },
  {
   "cell_type": "markdown",
   "id": "ac608331-0431-4e3c-8232-9d7e7b8491bb",
   "metadata": {},
   "source": [
    "### 2. 创建模型"
   ]
  },
  {
   "cell_type": "code",
   "execution_count": null,
   "id": "320c4229-fe09-4d22-a9c5-cc916457f8b5",
   "metadata": {},
   "outputs": [],
   "source": [
    "import timm\n",
    "import torch.nn as nn\n",
    "\n",
    "# 创建一个预训练的 resnet50\n",
    "model = timm.create_model('resnet50', pretrained=True)\n",
    "\n",
    "# 替换最后分类层（默认 1000 类 → 修改为 10 类）\n",
    "num_classes = 10\n",
    "model.fc = nn.Linear(model.fc.in_features, num_classes)\n"
   ]
  },
  {
   "cell_type": "markdown",
   "id": "7a74794b-ed83-4d4e-9175-eda7676fde58",
   "metadata": {},
   "source": [
    "### 3. 迁移学习（特征提取 vs 微调）\n",
    "\n",
    "- 特征提取：冻结主干网络参数，只训练最后一层"
   ]
  },
  {
   "cell_type": "code",
   "execution_count": null,
   "id": "6dc2a9bb-26f0-4571-8ca6-6c1649e23940",
   "metadata": {},
   "outputs": [],
   "source": [
    "for param in model.parameters():\n",
    "    param.requires_grad = False   # 作用是冻结模型的所有参数​（即关闭梯度计算）\n"
   ]
  },
  {
   "cell_type": "markdown",
   "id": "d23e882f-57d3-4e82-b2bd-3cb8a155b5f8",
   "metadata": {},
   "source": [
    "- 部分冻结​：若只需冻结部分层，可通过筛选参数实现"
   ]
  },
  {
   "cell_type": "code",
   "execution_count": null,
   "id": "e6e6eaa1-d287-4394-a4a4-6b47a4c059ac",
   "metadata": {},
   "outputs": [],
   "source": [
    "for name, param in model.named_parameters():\n",
    "    if 'layer1' in name: # 只冻结特定层\n",
    "        param.requires_grad = False"
   ]
  },
  {
   "cell_type": "markdown",
   "id": "2391dd7d-bf60-4caa-9309-3631914a5b11",
   "metadata": {},
   "source": [
    "### 注意事项\n",
    "​验证模式​：冻结参数后，通常需调用 `model.eval()`关闭`BatchNorm`和`Dropout`的随机性。\n",
    "\n",
    "---\n",
    "- 微调：允许全部参数训练（更耗时）"
   ]
  },
  {
   "cell_type": "code",
   "execution_count": null,
   "id": "c9803b34-3ace-44e0-9589-2f09240793b0",
   "metadata": {},
   "outputs": [],
   "source": [
    "for param in model.parameters():\n",
    "    param.requires_grad = True\n",
    "    "
   ]
  },
  {
   "cell_type": "markdown",
   "id": "a729b0a4-aab9-4771-a349-a179b2fb9678",
   "metadata": {},
   "source": [
    "---\n",
    "## 三、timm.create_model 常见参数\n",
    "\n",
    "```python\n",
    "timm.create_model(\n",
    "    model_name,               # 模型名称（必须参数）\n",
    "    pretrained=False,         # 是否加载预训练权重\n",
    "    num_classes=1000,         # 分类类别数\n",
    "    in_chans=3,              # 输入通道数\n",
    "    checkpoint_path='',      # 自定义权重路径\n",
    "    scriptable=None,         # 是否可脚本化\n",
    "    exportable=None,         # 是否可导出\n",
    "    pretrained_cfg=None,     # 预训练配置\n",
    "    **kwargs                 # 其他关键字参数\n",
    ")\n",
    "```"
   ]
  },
  {
   "cell_type": "markdown",
   "id": "dd957a3b-2e90-47ed-be34-7446b8db8014",
   "metadata": {},
   "source": [
    "| 参数                | 作用                                                                               |\n",
    "| ----------------- | -------------------------------------------------------------------------------- |\n",
    "| `model_name`      | 模型名称，例如 `\"resnet50\"`, `\"vit_base_patch16_224\"`, `\"swin_base_patch4_window7_224\"` |\n",
    "| `pretrained`      | 是否加载预训练权重（`True/False`）                                                          |\n",
    "| `num_classes`     | 输出类别数（默认 1000，需改为你的任务类别数）                                                        |\n",
    "| `in_chans`        | 输入通道数（默认 3，可改成 1 适应灰度图）                                                          |\n",
    "| `checkpoint_path` | 自定义权重路径                                                                          |\n",
    "| `scriptable`      | 是否兼容 TorchScript                                                                 |\n",
    "| `exportable`      | 是否兼容 ONNX 导出                                                                     |\n",
    "| `pretrained_cfg`  | 选择具体的预训练配置（例如 imagenet-1k / 21k）                                                 |\n"
   ]
  },
  {
   "cell_type": "markdown",
   "id": "60f13056-4c3b-4b3d-ab77-bac8adaa7ec8",
   "metadata": {},
   "source": [
    "---\n",
    "\n",
    "## 四、迁移学习完整示例\n",
    "\n",
    "以 ViT (Vision Transformer) 为例："
   ]
  },
  {
   "cell_type": "code",
   "execution_count": null,
   "id": "47245fe2-3993-43cd-94f3-759ffd67b007",
   "metadata": {},
   "outputs": [],
   "source": [
    "import timm\n",
    "import torch\n",
    "import torch.nn as nn\n",
    "import torch.optim as optim\n",
    "\n",
    "# 1. 加载预训练模型\n",
    "model = timm.create_model('vit_base_patch16_224', pretrained=True, num_classes=10)\n",
    "\n",
    "# 2. 迁移学习：只训练分类头\n",
    "for param in model.parameters():\n",
    "    param.requires_grad = False\n",
    "for param in model.head.parameters():\n",
    "    param.requires_grad = True\n",
    "\n",
    "# 3. 损失函数 & 优化器\n",
    "criterion = nn.CrossEntropyLoss()\n",
    "optimizer = optim.Adam(model.head.parameters(), lr=1e-3)\n",
    "\n",
    "# 4. 前向传播测试\n",
    "x = torch.randn(4, 3, 224, 224)  # batch=4, 输入224x224\n",
    "y = model(x)\n",
    "print(y.shape)  # torch.Size([4, 10])\n"
   ]
  },
  {
   "cell_type": "markdown",
   "id": "b5985d72-7840-41f0-92eb-539bdf1f7a3e",
   "metadata": {},
   "source": [
    "## 五、常见技巧\n",
    "\n",
    "- 1.快速更换模型：只要改 `model_name` 就能切换 `ResNet`、`EfficientNet`、`ViT` 等。\n",
    "\n",
    "- 2.自定义输入通道：例如医学影像是单通道灰度图 → `in_chans`=1。\n",
    "\n",
    "- 3.大规模预训练模型：很多模型支持 `imagenet21k`，适合小数据集迁移学习。\n",
    "\n",
    "- 4.冻结/解冻策略：\n",
    "\n",
    "    - 前期只训练分类头 → 收敛快。\n",
    "    \n",
    "    - 后期解冻部分 `backbone` → 提升性能。\n",
    "\n",
    "---\n",
    "## 六、总结\n",
    "\n",
    "- timm.create_model() 是入口，核心参数：model_name、pretrained、num_classes、in_chans。\n",
    "\n",
    "- 小数据集 → 特征提取（冻结 backbone）。\n",
    "\n",
    "- 大数据集 → 微调（解冻 backbone）。\n",
    "\n",
    "- `timm` 的优势是 模型库丰富，基本涵盖所有主流 CNN & Transformer。"
   ]
  },
  {
   "cell_type": "code",
   "execution_count": null,
   "id": "9f386a0f-5212-426b-ba5b-71a7c27c6a82",
   "metadata": {},
   "outputs": [],
   "source": []
  },
  {
   "cell_type": "markdown",
   "id": "1dfd1379-2e37-47cb-be0a-2264cbf85270",
   "metadata": {},
   "source": [
    "# 使用 timm 做特征提取"
   ]
  },
  {
   "cell_type": "markdown",
   "id": "abd1d79f-a9d0-4dc0-9cce-08f4174fa76d",
   "metadata": {},
   "source": [
    "## 1. timm 加载模型（去掉分类头）"
   ]
  },
  {
   "cell_type": "code",
   "execution_count": null,
   "id": "5917c9c9-30b4-4d6b-8c2b-83668f7ee3bb",
   "metadata": {},
   "outputs": [],
   "source": [
    "import timm\n",
    "import torch\n",
    "import torch.nn as nn\n",
    "\n",
    "# 以 ViT 为例\n",
    "model = timm.create_model('vit_base_patch16_224', pretrained=True)\n",
    "\n",
    "# 查看模型结构\n",
    "print(model)\n"
   ]
  },
  {
   "cell_type": "markdown",
   "id": "a6b17ee3-f268-4edd-ac28-1a715a98ff95",
   "metadata": {},
   "source": [
    "- 如果只想要特征，不要分类头，可以直接："
   ]
  },
  {
   "cell_type": "code",
   "execution_count": null,
   "id": "a6c76bb7-d613-4822-9400-7766e664a316",
   "metadata": {},
   "outputs": [],
   "source": [
    "model = timm.create_model('vit_base_patch16_224', pretrained=True, num_classes=0) # 输出改为 0 \n"
   ]
  },
  {
   "cell_type": "markdown",
   "id": "45009d58-b4ab-441b-8ba9-c662a439c160",
   "metadata": {},
   "source": [
    "- 这样 `model(x)`· 的输出就是 特征向量（默认是 `global pooled feature`）。"
   ]
  },
  {
   "cell_type": "markdown",
   "id": "f00ad309-ac59-46e4-9e66-e7c5cb168871",
   "metadata": {},
   "source": [
    "## 2. 获取特征维度"
   ]
  },
  {
   "cell_type": "code",
   "execution_count": null,
   "id": "d4755d3a-7093-4de4-886e-70ecf5d88f8b",
   "metadata": {},
   "outputs": [],
   "source": [
    "dummy = torch.randn(1, 3, 224, 224)  # 假输入\n",
    "features = model(dummy)\n",
    "print(features.shape)  # [1, feature_dim]\n",
    "\n",
    "# 比如 vit_base_patch16_224 输出 [1, 768] 特征。"
   ]
  },
  {
   "cell_type": "markdown",
   "id": "ef11a667-5b15-4f54-91a2-ba36858676ef",
   "metadata": {},
   "source": [
    "## 3. 接上自定义分类器\n",
    "\n",
    "- 如果你要在提取的特征上加自己的分类头："
   ]
  },
  {
   "cell_type": "code",
   "execution_count": null,
   "id": "a832c27f-dbed-42b6-b972-747316151d95",
   "metadata": {},
   "outputs": [],
   "source": [
    "class CustomNet(nn.Module):\n",
    "    def __init__(self, backbone_name='vit_base_patch16_224', num_classes=10):\n",
    "        super().__init__()\n",
    "        # 去掉最后分类头\n",
    "        self.backbone = timm.create_model(backbone_name, pretrained=True, num_classes=0)\n",
    "        in_features = self.backbone.num_features  # 特征维度\n",
    "\n",
    "        # 自定义分类器\n",
    "        self.classifier = nn.Sequential(\n",
    "            nn.Linear(in_features, 512),\n",
    "            nn.ReLU(),\n",
    "            nn.Dropout(0.5),\n",
    "            nn.Linear(512, num_classes),\n",
    "            # nn.Softmax(dim=1)   # 如果做分类  分类任务里，通常 不写 Softmax，而是直接输出 logits，然后配合 nn.CrossEntropyLoss\n",
    "        )\n",
    "\n",
    "    def forward(self, x):\n",
    "        feats = self.backbone(x)      # 提取特征\n",
    "        out = self.classifier(feats)  # 分类\n",
    "        return out\n"
   ]
  },
  {
   "cell_type": "markdown",
   "id": "68c82a56-7f39-4662-a92c-140015c420c6",
   "metadata": {},
   "source": [
    "## 4. 提取中间层特征\n",
    "\n",
    "- 有时不想只要最终 `pooled feature`，可以用 `forward_features`："
   ]
  },
  {
   "cell_type": "code",
   "execution_count": null,
   "id": "a945b6bd-572d-4f83-8d2e-525ab56ce375",
   "metadata": {},
   "outputs": [],
   "source": [
    "backbone = timm.create_model('resnet50', pretrained=True)\n",
    "\n",
    "x = torch.randn(1, 3, 224, 224)\n",
    "feats = backbone.forward_features(x)  # 中间层特征\n",
    "print(feats.shape)  # e.g. [1, 2048, 7, 7]\n"
   ]
  },
  {
   "cell_type": "markdown",
   "id": "fa11d698-faab-44bc-9642-70e26980e8cb",
   "metadata": {},
   "source": [
    "- 这样你能拿到卷积特征图，再自己做 `pooling` 或`attention`。\n",
    "- `pooling（池化）`：像“缩小图片”，让特征变小，但仍保留关键信息。\n",
    "- `attention（注意力机制）`：像“聚光灯”，让模型自动决定该重点关注哪些部分。"
   ]
  },
  {
   "cell_type": "markdown",
   "id": "fffec662-445b-428e-9ea2-647a0972a56c",
   "metadata": {},
   "source": [
    "## 5. 冻结特征提取器\n",
    "\n",
    "- 如果你只想用预训练特征，不训练 `backbone`，可以："
   ]
  },
  {
   "cell_type": "code",
   "execution_count": null,
   "id": "d208dfd5-e181-4d21-b74d-c684a925f749",
   "metadata": {},
   "outputs": [],
   "source": [
    "for param in model.backbone.parameters():\n",
    "    param.requires_grad = False\n"
   ]
  },
  {
   "cell_type": "code",
   "execution_count": null,
   "id": "d0a2e910-d71d-45d9-acb9-fe17bd763413",
   "metadata": {},
   "outputs": [],
   "source": [
    "- 这样训练时只更新你定义的 `classifier`"
   ]
  },
  {
   "cell_type": "markdown",
   "id": "4517cd22-d26e-4a65-9351-db26709929e2",
   "metadata": {},
   "source": [
    "# ⚡ 总结：\n",
    "\n",
    "- `num_classes`=0 → 去掉分类头，直接提取特征。\n",
    "\n",
    "- `forward_features(x)` → 提取中间层特征图。\n",
    "\n",
    "- 接上 `nn.Sequential` 就能替换为你自己的分类器"
   ]
  },
  {
   "cell_type": "code",
   "execution_count": null,
   "id": "a555ee60-42a2-4290-b01d-0b82adfa66a9",
   "metadata": {},
   "outputs": [],
   "source": []
  }
 ],
 "metadata": {
  "kernelspec": {
   "display_name": "Python [conda env:pytorch_env]",
   "language": "python",
   "name": "conda-env-pytorch_env-py"
  },
  "language_info": {
   "codemirror_mode": {
    "name": "ipython",
    "version": 3
   },
   "file_extension": ".py",
   "mimetype": "text/x-python",
   "name": "python",
   "nbconvert_exporter": "python",
   "pygments_lexer": "ipython3",
   "version": "3.12.11"
  }
 },
 "nbformat": 4,
 "nbformat_minor": 5
}

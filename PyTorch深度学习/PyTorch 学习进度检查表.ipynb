{
 "cells": [
  {
   "cell_type": "markdown",
   "id": "1f2fe94c-ada3-4ffc-b2bf-c6ceda198e11",
   "metadata": {},
   "source": [
    "\n",
    "# ✅ PyTorch 深度学习进阶学习 Checklist\n",
    "\n",
    "## 1. 基础\n",
    "- [✔] 了解 `torch.tensor` 的创建与操作（张量运算）\n",
    "- [✔] 学会在 CPU / GPU 之间切换 (`.to(device)`)\n",
    "- [✔abs ] 使用 `requires_grad` 和 `autograd` 完成自动求导\n",
    "- [✔ ] 理解计算图与反向传播原理\n",
    "\n",
    "## 2. 神经网络构建\n",
    "- [✔] 熟悉 `nn.Module` 的基本用法\n",
    "- [✔ ] 使用 `nn.Linear` 构建全连接层\n",
    "- [✔ ] 使用 `nn.Conv2d` 搭建卷积网络\n",
    "- [ ] 使用 `nn.RNN` / `nn.LSTM` / `nn.GRU` 处理序列数据\n",
    "- [✔ ] 掌握常用激活函数 (`ReLU`, `Sigmoid`, `Tanh`, `GELU`)\n",
    "- [✔ ] 使用常见损失函数 (`CrossEntropyLoss`, `MSELoss`)\n",
    "\n",
    "## 3. 训练与优化\n",
    "- [✔ ] 熟悉优化器 (`SGD`, `Adam`, `RMSprop`)\n",
    "- [✔ ] 编写完整训练循环（forward → loss → backward → step）\n",
    "- [ ] 使用学习率调度器 (`StepLR`, `CosineAnnealingLR`)\n",
    "- [✔ ] 理解过拟合与正则化 (`Dropout`, `BatchNorm`)\n",
    "\n",
    "## 4. 数据加载与预处理\n",
    "- [✔ ] 使用 `Dataset` 和 `DataLoader` 加载数据\n",
    "- [✔ ] 使用 `torchvision.datasets`（MNIST / CIFAR10 / ImageNet）\n",
    "- [ ✔] 应用 `torchvision.transforms` 进行数据增强\n",
    "- [✔ ] 编写自定义 `Dataset` 类\n",
    "\n",
    "## 5. 模型保存与加载\n",
    "- [ ✔] 保存模型参数 (`torch.save`)\n",
    "- [✔ ] 加载模型参数 (`torch.load`)\n",
    "- [✔ ] 保存与加载完整模型\n",
    "- [✔ ] 使用预训练模型并进行迁移学习\n",
    "\n",
    "## 6. 高级应用\n",
    "- [ ] 计算机视觉：使用 `torchvision.models` (ResNet / VGG)\n",
    "- [ ] 自然语言处理：使用 `torchtext`\n",
    "- [ ] 语音任务：使用 `torchaudio`\n",
    "- [ ] 分布式训练：使用 `torch.distributed`\n",
    "\n",
    "## 7. 工程与优化\n",
    "- [ ] 使用 `torch.jit` 将模型转为 TorchScript\n",
    "- [ ] 使用 `torch.quantization` 进行模型量化\n",
    "- [ ] 使用 `torch.fx` 做模型转换与优化\n",
    "- [ ] 使用 `torch.utils.tensorboard` 可视化训练过程\n"
   ]
  },
  {
   "cell_type": "code",
   "execution_count": null,
   "id": "519a32ed-bf48-48fa-beae-311c7d6bb7b7",
   "metadata": {},
   "outputs": [],
   "source": []
  }
 ],
 "metadata": {
  "kernelspec": {
   "display_name": "Python [conda env:pytorch_env]",
   "language": "python",
   "name": "conda-env-pytorch_env-py"
  },
  "language_info": {
   "codemirror_mode": {
    "name": "ipython",
    "version": 3
   },
   "file_extension": ".py",
   "mimetype": "text/x-python",
   "name": "python",
   "nbconvert_exporter": "python",
   "pygments_lexer": "ipython3",
   "version": "3.12.11"
  }
 },
 "nbformat": 4,
 "nbformat_minor": 5
}

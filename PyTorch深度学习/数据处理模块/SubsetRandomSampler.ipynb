{
 "cells": [
  {
   "cell_type": "markdown",
   "id": "853fe430-1d60-48a2-8c9e-8b21dc6e40bc",
   "metadata": {},
   "source": [
    "# torch.utils.data.SubsetRandomSampler\n",
    "它是 PyTorch 数据加载 (DataLoader) 里常用的采样器。\n",
    "\n",
    "## 1. 作用\n",
    "\n",
    "`SubsetRandomSampler` 的作用是：\\\n",
    "👉 在给定的索引集合中，`随机抽取样本`。\n",
    "\n",
    "也就是说，它不会打乱整个数据集，而是只在 `指定的子集` 中`随机采样`。\n",
    "- 常见用途：\n",
    "\n",
    "    - 划分训练集 / 验证集（比如从一个大数据集里选 80% 训练，20% 验证）\n",
    "    \n",
    "    - 在部分数据上调试模型\n",
    "    \n",
    "    - 分布式采样时指定样本范围\n",
    "\n",
    "## 2. 定义方式"
   ]
  },
  {
   "cell_type": "code",
   "execution_count": null,
   "id": "8f30c6e7-bede-49fb-a22a-0cd8040476ee",
   "metadata": {},
   "outputs": [],
   "source": [
    "torch.utils.data.SubsetRandomSampler(\n",
    "    indices,    # 子集的索引列表/张量\n",
    "    generator=None  # 随机数生成器 (可选，控制随机性)\n",
    ")\n"
   ]
  },
  {
   "cell_type": "markdown",
   "id": "a6e6309b-68c4-427e-bc92-64466b11169d",
   "metadata": {},
   "source": [
    "### 参数说明：\n",
    "\n",
    "- `indices`\n",
    "\n",
    "    - 必须是一个 索引序列（list / numpy array / torch.Tensor）。\n",
    "\n",
    "例如 [0, 1, 5, 10] 表示只从这些位置采样。\n",
    "\n",
    "- `generator`\n",
    "\n",
    "    - 控制随机性的生成器。\n",
    "\n",
    "比如 `torch.Generator().manual_seed(42)` 可以保证结果可复现。\n",
    "\n",
    "---\n",
    "## 3. 使用示例\n",
    "示例 1：划分训练集和验证集"
   ]
  },
  {
   "cell_type": "code",
   "execution_count": null,
   "id": "009d84df-cdb8-4b72-811c-48a41d45c974",
   "metadata": {},
   "outputs": [],
   "source": [
    "import torch\n",
    "from torch.utils.data import DataLoader, SubsetRandomSampler\n",
    "from torchvision import datasets, transforms\n",
    "\n",
    "# 数据准备\n",
    "transform = transforms.ToTensor()\n",
    "dataset = datasets.MNIST(root=\"./data\", train=True, download=True, transform=transform)\n",
    "\n",
    "# 划分索引\n",
    "num_samples = len(dataset)  # 60000\n",
    "indices = list(range(num_samples))\n",
    "split = int(0.8 * num_samples)  # 80% 训练\n",
    "train_idx, val_idx = indices[:split], indices[split:]\n",
    "\n",
    "# 定义采样器\n",
    "train_sampler = SubsetRandomSampler(train_idx)\n",
    "val_sampler = SubsetRandomSampler(val_idx)\n",
    "\n",
    "# DataLoader 使用采样器\n",
    "train_loader = DataLoader(dataset, batch_size=64, sampler=train_sampler)\n",
    "val_loader = DataLoader(dataset, batch_size=64, sampler=val_sampler)\n",
    "\n",
    "print(len(train_loader), len(val_loader))  # 750, 188\n"
   ]
  },
  {
   "cell_type": "markdown",
   "id": "49834ccd-488c-4106-a593-0e55d5163bff",
   "metadata": {},
   "source": [
    "👉 注意： 当 `sampler` 被指定时，`shuffle=False`（因为采样器本身就决定了顺序）。\n",
    "\n",
    "---\n",
    "示例 2：只取一部分数据做调试"
   ]
  },
  {
   "cell_type": "code",
   "execution_count": null,
   "id": "e7202456-a588-44b8-a450-d9e26a982727",
   "metadata": {},
   "outputs": [],
   "source": [
    "subset_indices = list(range(1000))  # 只用前 1000 个样本\n",
    "subset_sampler = SubsetRandomSampler(subset_indices)\n",
    "\n",
    "debug_loader = DataLoader(dataset, batch_size=32, sampler=subset_sampler)\n",
    "\n",
    "for images, labels in debug_loader:\n",
    "    print(images.shape)  # torch.Size([32, 1, 28, 28])\n",
    "    break\n"
   ]
  },
  {
   "cell_type": "code",
   "execution_count": null,
   "id": "51c8d39e-4c18-48c0-9f4c-68675c338cf7",
   "metadata": {},
   "outputs": [],
   "source": [
    "示例 3：固定随机数生成器（保证复现）"
   ]
  },
  {
   "cell_type": "code",
   "execution_count": null,
   "id": "2a05b294-a7fa-4f09-af6f-6078b361c1a5",
   "metadata": {},
   "outputs": [],
   "source": [
    "g = torch.Generator().manual_seed(42)\n",
    "subset_sampler = SubsetRandomSampler(indices, generator=g)\n"
   ]
  },
  {
   "cell_type": "markdown",
   "id": "3e651e79-4bc7-468e-8407-7489edd077f2",
   "metadata": {},
   "source": [
    "## 4. 小结\n",
    "\n",
    "`SubsetRandomSampler`：在 `给定索引集合` 中`随机采样`。\n",
    "\n",
    "- 常用场景：\n",
    "\n",
    "    - 划分训练/验证集\n",
    "    \n",
    "    - 仅使用部分数据调试\n",
    "    \n",
    "    - 精确控制采样范围\n",
    "\n",
    "和 `RandomSampler` 的区别：\n",
    "\n",
    "- `RandomSampler` 会在`整个数据集`里`随机采样`。\n",
    "\n",
    "- `SubsetRandomSampler` 只在`指定子集`里`随机采样`。\n",
    "\n",
    "---\n",
    "其他`随机采样`:\n",
    "- 全量随机 → RandomSampler\n",
    "- 子集随机 → SubsetRandomSampler\n",
    "- 顺序采样 → SequentialSampler"
   ]
  },
  {
   "cell_type": "code",
   "execution_count": null,
   "id": "516f7474-c6e1-46ac-aab6-c1c3d7cd5d0a",
   "metadata": {},
   "outputs": [],
   "source": []
  }
 ],
 "metadata": {
  "kernelspec": {
   "display_name": "Python [conda env:pytorch_env]",
   "language": "python",
   "name": "conda-env-pytorch_env-py"
  },
  "language_info": {
   "codemirror_mode": {
    "name": "ipython",
    "version": 3
   },
   "file_extension": ".py",
   "mimetype": "text/x-python",
   "name": "python",
   "nbconvert_exporter": "python",
   "pygments_lexer": "ipython3",
   "version": "3.12.11"
  }
 },
 "nbformat": 4,
 "nbformat_minor": 5
}

{
 "cells": [
  {
   "cell_type": "markdown",
   "id": "79186697-5f7a-4256-9554-73463081ffd9",
   "metadata": {},
   "source": [
    "# 🔹 4. 数据处理模块\n",
    "\n",
    "### 1、torch.utils.data.Dataset：定义自定义数据集\n",
    "\n",
    "### 2、torch.utils.data.DataLoader：批量加载数据\n",
    "\n",
    "### 3、torchvision.datasets：常用数据集（MNIST、CIFAR、ImageNet 等）\n",
    "\n",
    "### 4、torchvision.transforms：图像预处理（裁剪、缩放、归一化、增强等）"
   ]
  },
  {
   "cell_type": "code",
   "execution_count": null,
   "id": "1e61512a-5015-43a8-8b9b-c7eee31ced68",
   "metadata": {},
   "outputs": [],
   "source": []
  },
  {
   "cell_type": "markdown",
   "id": "ecba0af9-9c83-4b96-9686-5e770cacb06a",
   "metadata": {},
   "source": [
    "# 数据加载方式"
   ]
  },
  {
   "cell_type": "markdown",
   "id": "bc467796-46f4-4564-828e-292850271234",
   "metadata": {},
   "source": [
    "## 1. 🔹 最核心和基础的方式：`Dataset` + `DataLoader`\n",
    "这是 `PyTorch` 数据加载的基石，几乎所有其他方式都是在此基础上构建的。它采用了“`组合`”的设计模式，将数据来源 (`Dataset`) 和数据读取策略 (`DataLoader`) 分离。\n",
    "\n",
    "### 🔹 一、自定义 `Dataset` (最常用)\n",
    "这是最灵活的方式，你需要继承 `torch.utils.data.Dataset` 类并实现三个方法：\n",
    "\n",
    "- `__init__`: 初始化，用于读取文件路径、标签等元信息。\n",
    "\n",
    "- `__len__`: 返回数据集的总大小。\n",
    "\n",
    "- `__getitem__`: 根据索引 `index` 返回一个数据样本（如图像张量和标签）。\n",
    "\n",
    "示例（加载图像分类数据集）："
   ]
  },
  {
   "cell_type": "code",
   "execution_count": null,
   "id": "2475d8c4-5678-4ea3-b277-33204834f2b3",
   "metadata": {},
   "outputs": [],
   "source": [
    "from torch.utils.data import Dataset, DataLoader\n",
    "from PIL import Image\n",
    "import os\n",
    "\n",
    "class CustomImageDataset(Dataset):\n",
    "    \"\"\"\n",
    "    自定义图像数据集类，继承自PyTorch的Dataset类\n",
    "    用于加载指定目录下的图像文件并支持数据转换\n",
    "    \n",
    "    参数:\n",
    "        img_dir (str): 包含图像文件的目录路径\n",
    "        transform (callable, optional): 应用于图像的转换/增强操作\n",
    "    \"\"\"\n",
    "    \n",
    "    def __init__(self, img_dir, transform=None):\n",
    "        \"\"\"\n",
    "        初始化数据集\n",
    "        \n",
    "        参数:\n",
    "            img_dir: 图像目录路径\n",
    "            transform: 图像预处理/增强的转换函数\n",
    "        \"\"\"\n",
    "        self.img_dir = img_dir               # 存储图像目录路径\n",
    "        self.img_names = os.listdir(img_dir) # 获取目录下所有文件名(假设都是图片)\n",
    "        self.transform = transform           # 存储转换函数\n",
    "    \n",
    "    def __len__(self):\n",
    "        \"\"\"返回数据集中的样本数量\"\"\"\n",
    "        return len(self.img_names)\n",
    "    \n",
    "    def __getitem__(self, idx):\n",
    "        \"\"\"\n",
    "        获取单个样本(图像和标签)\n",
    "        \n",
    "        参数:\n",
    "            idx: 样本索引\n",
    "            \n",
    "        返回:\n",
    "            元组(image, label): 处理后的图像和对应的标签\n",
    "        \"\"\"\n",
    "        img_path = os.path.join(self.img_dir, self.img_names[idx])  # 构建完整图像路径\n",
    "        image = Image.open(img_path)  # 使用PIL打开图像文件\n",
    "        \n",
    "        # 这里需要根据实际情况实现标签获取逻辑\n",
    "        # 例如: 从文件名解析、从单独标签文件读取等\n",
    "        label = ... # 根据图片名或其他方式获取标签\n",
    "        \n",
    "        if self.transform:\n",
    "            image = self.transform(image)  # 应用转换(如归一化、裁剪等)\n",
    "            \n",
    "        return image, label  # 返回图像和标签对\n",
    "\n",
    "\n",
    "# 使用示例\n",
    "# 创建数据集实例\n",
    "dataset = CustomImageDataset(\n",
    "    'path/to/images',       # 图像目录路径\n",
    "    transform=my_transform  # 图像转换操作(如torchvision.transforms中的组合)                         \n",
    ")\n",
    "\n",
    "# 创建数据加载器\n",
    "dataloader = DataLoader(\n",
    "    dataset,        # 数据集对象\n",
    "    batch_size=32,  # 每批加载的样本数\n",
    "    shuffle=True,   # 是否打乱数据顺序\n",
    "    num_workers=4   # 使用4个子进程加载数据\n",
    ")"
   ]
  },
  {
   "cell_type": "markdown",
   "id": "4aa001ce-4b2e-431d-a93e-dd58234bc7e6",
   "metadata": {},
   "source": [
    "### 🔹二、内置数据集加载\n",
    "\n",
    "`PyTorch` 在 `torchvision.datasets`、`torchtext.datasets`、`torchaudio.datasets` 中提供了许多常见的公共数据集。\n",
    "- 特点：直接调用，支持 `transforms`，一般配合 `DataLoader` 使用。\n",
    "\n",
    "示例："
   ]
  },
  {
   "cell_type": "code",
   "execution_count": null,
   "id": "aafafb03-2a08-4d17-8db7-a550928490dc",
   "metadata": {},
   "outputs": [],
   "source": [
    "from torchvision import datasets, transforms\n",
    "from torch.utils.data import DataLoader\n",
    "\n",
    "transform = transforms.ToTensor()\n",
    "train_data = datasets.MNIST(root=\"./data\", \n",
    "                            train=True,  # 测试集 写 False\n",
    "                            transform=transform, # 数据转换\n",
    "                            download=True)\n",
    "train_loader = DataLoader(train_data,    # 要加载的数据集\n",
    "                          batch_size=64, # 批量大小\n",
    "                          shuffle=True,  # 是否打乱顺序，验证、测试不需要 \n",
    "                          pin_memory= True, # 是否将数据锁页内存中，加速 GPU 数据传输（在 GPU 训练时通常设为 True）\n",
    "                          num_workers=2)  # 用2个子进程来加载数据，加速数据读取的关键"
   ]
  },
  {
   "cell_type": "markdown",
   "id": "afceadfe-7fe6-40a0-821e-e88441ad56d0",
   "metadata": {},
   "source": [
    "### 🔹 三、ImageFolder & DatasetFolder\n",
    "\n",
    "`ImageFolder`：针对按类别存放的图片数据集，文件夹名即标签。\n",
    "\n",
    "`DatasetFolder`：更通用，支持自定义文件格式（比如 .npy、.wav）。\n",
    "\n",
    "示例："
   ]
  },
  {
   "cell_type": "code",
   "execution_count": null,
   "id": "ee374c68-6388-430d-bc8e-0f9481885c05",
   "metadata": {},
   "outputs": [],
   "source": [
    "from torchvision.datasets import ImageFolder\n",
    "from torch.utils.data import DataLoader\n",
    "from torchvision import transforms\n",
    "\n",
    "transform = transforms.ToTensor()\n",
    "dataset = ImageFolder(root=\"./data/train\", transform=transform)\n",
    "loader = DataLoader(dataset, batch_size=32, shuffle=True)\n"
   ]
  },
  {
   "cell_type": "markdown",
   "id": "34441b57-8772-4489-a212-46fac7c0eb73",
   "metadata": {},
   "source": [
    "### 🔹 四、`TensorDataset` & `ConcatDataset` & `Subset`\n",
    "\n",
    "- `TensorDataset`：直接把 `Tensor` 打包成数据集。\n",
    "\n",
    "- `ConcatDataset`：多个数据集合并。\n",
    "\n",
    "- `Subset`：从一个数据集中抽取部分样本。"
   ]
  },
  {
   "cell_type": "code",
   "execution_count": null,
   "id": "0c0c1b65-5dd6-476b-b834-a51b4de011f4",
   "metadata": {},
   "outputs": [],
   "source": [
    "from torch.utils.data import TensorDataset, DataLoader\n",
    "import torch\n",
    "\n",
    "x = torch.randn(100, 3, 28, 28)\n",
    "y = torch.randint(0, 10, (100,))\n",
    "dataset = TensorDataset(x, y)\n",
    "loader = DataLoader(dataset, batch_size=16)\n"
   ]
  },
  {
   "cell_type": "markdown",
   "id": "7688b39b-48e9-4f9d-b7af-7369c5a3780b",
   "metadata": {},
   "source": [
    "### 🔹 五、DataLoader 参数方式\n",
    "\n",
    "`DataLoader` 提供了多种灵活的加载策略：\n",
    "\n",
    "- `batch_size` 批大小\n",
    "\n",
    "- `shuffle` 是否打乱\n",
    "\n",
    "- `num_workers` 多进程并行加载\n",
    "\n",
    "- `collate_fn` 自定义 `batch` 组装方式（比如处理不同长度序列）\n",
    "\n",
    "- `pin_memory`、`persistent_workers` 等性能优化参数\n",
    "\n",
    "---\n",
    "\n",
    "### 🔹 六、Streaming / IterableDataset\n",
    "\n",
    "如果数据量特别大，不能一次性存到硬盘或内存，可以用 `IterableDataset` 来流式读取，比如从：\n",
    "- 数据库\n",
    "- 日志流\n",
    "- 在线数据生成器\n",
    "\n",
    "示例："
   ]
  },
  {
   "cell_type": "code",
   "execution_count": null,
   "id": "864dc14e-85b1-4ae4-a52f-c634b7f1bb09",
   "metadata": {},
   "outputs": [],
   "source": [
    "from torch.utils.data import IterableDataset\n",
    "\n",
    "class MyIterableDataset(IterableDataset):\n",
    "    def __iter__(self):\n",
    "        for i in range(1000):\n",
    "            yield i\n",
    "\n",
    "dataset = MyIterableDataset()\n",
    "for data in dataset:\n",
    "    print(data)\n"
   ]
  },
  {
   "cell_type": "markdown",
   "id": "ac772b10-2d25-464e-8359-c710b088cb87",
   "metadata": {},
   "source": [
    "### 🔹 七、其他常见方式\n",
    "\n",
    "1.直接加载到 Tensor（小数据集常用，直接 torch.tensor(data)）。\n",
    "\n",
    "2.HDF5 / LMDB / Parquet 等格式，通常配合 Dataset 自定义读取。\n",
    "\n",
    "3.WebDataset（tar 分片存储，常用于大规模分布式训练）。\n",
    "\n",
    "4.第三方库（Hugging Face Datasets、TorchData、Petastorm 等）。"
   ]
  },
  {
   "cell_type": "code",
   "execution_count": null,
   "id": "f6377336-0ce2-4df3-81fe-16457bd5d70c",
   "metadata": {},
   "outputs": [],
   "source": []
  },
  {
   "cell_type": "markdown",
   "id": "1b0d69b9-33c3-4d21-8dfe-fcc86424e32b",
   "metadata": {},
   "source": [
    "## 2. 基于索引与可迭代的风格：`MapStyleDataset` vs `IterableDataset`\n",
    "上述的自定义 `Dataset` 属于 `Map-style Dataset`。`PyTorch` 还提供了另一种风格：\n",
    "\n",
    "a)` Map-style Dataset` (主流):\\\n",
    "实现了 `__getitem__` 和 `__len__` 方法。它假设数据集是一个映射（`Map`），可以通过索引（如 0, 1, 2...）随机访问任何样本。这对于存储在磁盘或内存中的标准数据集非常有效。\n",
    "\n",
    "b) `Iterable-style Dataset`:\\\n",
    "需要继承 `torch.utils.data.IterableDataset` 并实现 `__iter__` 方法。它返回一个数据流的迭代器。适用于：\n",
    "\n",
    "- 数据流：数据是实时生成的（如传感器数据）或来自网络流。\n",
    "\n",
    "- 无法随机访问：数据存储在无法简单索引的格式中（如巨大的二进制文件，数据库查询结果）。\n",
    "\n",
    "- 避免随机读取：顺序读取比随机读取快得多的时候（如读取磁带）。\n",
    "\n",
    "示例（读取一个巨大的二进制文件流）："
   ]
  },
  {
   "cell_type": "code",
   "execution_count": null,
   "id": "b947762c-f9ca-4636-bed5-fabfe701c073",
   "metadata": {},
   "outputs": [],
   "source": [
    "from torch.utils.data import IterableDataset, DataLoader\n",
    "\n",
    "class BinaryIterableDataset(IterableDataset):\n",
    "    def __init__(self, filename):\n",
    "        self.filename = filename\n",
    "\n",
    "    def __iter__(self):\n",
    "        with open(self.filename, ‘rb’) as f:\n",
    "            while True:\n",
    "                data = f.read(1024) # 每次读取1024字节\n",
    "                if not data:\n",
    "                    break\n",
    "                # 将数据转换为张量\n",
    "                yield torch.frombuffer(data, dtype=torch.float32)"
   ]
  },
  {
   "cell_type": "markdown",
   "id": "4e64be1d-b797-40cb-8619-c8fc91d10fb1",
   "metadata": {},
   "source": [
    "## 3. 高阶和扩展库\n",
    "对于更复杂或大规模的场景，社区和官方也提供了更强大的工具。\n",
    "\n",
    "a) `DataPipe` (PyTorch 1.10+ 官方新特性)\\\n",
    "这是 `PyTorch` 官方推荐的用于替代之前 `Dataset` 的新 `API`，旨在提供更模块化、可组合、可扩展的数据处理流程。它与 `DataLoader` 兼容。\n",
    "\n",
    "- 核心思想：将数据加载和预处理步骤分解成多个小的、可重用的 `DataPipe`，然后像搭积木一样将它们连接起来。\n",
    "\n",
    "示例："
   ]
  },
  {
   "cell_type": "code",
   "execution_count": null,
   "id": "b1c2fa0a-3c4a-4ed1-bc22-1827894d568d",
   "metadata": {},
   "outputs": [],
   "source": [
    "from torchdata.datapipes.iter import IterableWrapper, FileOpener\n",
    "\n",
    "# 创建一个简单的数据处理流程\n",
    "datapipe = IterableWrapper([‘data_file_1.txt’, ‘data_file_2.txt’])\n",
    "datapipe = FileOpener(datapipe, mode=‘r’)\n",
    "datapipe = datapipe.parse_csv(delimiter=‘,’)\n",
    "\n",
    "dataloader = DataLoader(datapipe, batch_size=32)"
   ]
  },
  {
   "cell_type": "markdown",
   "id": "3b574197-2544-42e0-ad6a-199c6b2d9431",
   "metadata": {},
   "source": [
    "b) `torchdistx` 和 `DataLoader2` (实验性) \\\n",
    "为了应对更极端的分布式和数据加载需求，`PyTorch` 正在开发下一代数据加载器 (`DataLoader2`) 和 `torchdistx `库，用于在数据加载时进行延迟张量初始化，可以极大减少内存占用。\n",
    "\n",
    "c) 第三方库 \n",
    "- `WebDataset`: 非常流行用于超大规模数据集，它将数据集存储为 `tar` 文件，每个样本是 `tar` 内的一个文件。可以像处理普通`Dataset` 一样高效地流式读取，非常适合云存储。\n",
    "\n",
    "- `NVIDIA DALI `(Data Loading Library): 一个用于数据加载和预处理的 `GPU` 加速库。它将整个数据预处理管道（解码、裁剪、归一化等）放到 `GPU` 上执行，极大减少了 CPU 的瓶颈。\n",
    "\n",
    "- `PyTorch Geometric` (PyG) / `Deep Graph Library` (DGL): 图神经网络库，它们提供了自己专用的 `DataLoader `来处理图数据，可以处理可变大小的图并组成批处理。\n",
    "\n",
    "---\n",
    "### 总结与选择指南\n",
    "| 方式                         | 适用场景                               | 优点                         | 缺点                             |\n",
    "|------------------------------|----------------------------------------|------------------------------|----------------------------------|\n",
    "| 自定义 Dataset + DataLoader  | 绝大多数情况，中小规模数据集           | 极度灵活，完全控制           | 需要自己写代码                   |\n",
    "| 内置 Dataset                 | 快速开始，基准测试                     | 极简，开箱即用               | 只适用于特定数据集               |\n",
    "| IterableDataset              | 数据流、数据库、顺序读取优势大         | 节省内存，处理无限数据流     | 无法随机打乱（或很难），无法直接获取长度 |\n",
    "| DataPipe                     | 构建复杂、可复用的数据管道             | 模块化，官方未来方向         | 相对较新，生态还在发展中         |\n",
    "| WebDataset                   | 超大规模数据集（TB/PB级），云存储      | 高效流式读取，格式简单       | 需要将数据打包成 tar 格式        |\n",
    "| NVIDIA DALI                  | 数据预处理是性能瓶颈时                 | GPU 加速预处理，性能极高     | 增加系统复杂性，需要学习新 API   |\n"
   ]
  },
  {
   "cell_type": "code",
   "execution_count": null,
   "id": "7e4d64af-8fd9-4b26-bf06-653ce7754b97",
   "metadata": {},
   "outputs": [],
   "source": []
  },
  {
   "cell_type": "code",
   "execution_count": null,
   "id": "cbfa6823-f668-40bf-b1f0-d8196421050b",
   "metadata": {},
   "outputs": [],
   "source": []
  },
  {
   "cell_type": "markdown",
   "id": "04ebc3b8-42b5-4cc7-9aad-f1d97f9ae2ef",
   "metadata": {},
   "source": [
    "---"
   ]
  },
  {
   "cell_type": "markdown",
   "id": "bcebf012-b5fc-4f61-86db-72a6161af304",
   "metadata": {},
   "source": [
    "# torchvision.datasets.ImageFolder\n",
    "这是 `PyTorch` 里最常见的 图像分类数据集`读取方式`，尤其适合存放在 `文件夹` 里的图片数据。\n",
    "\n",
    "## 1. 基本作用\n",
    "\n",
    "`ImageFolder` 假设你的数据按照下面的目录结构存放："
   ]
  },
  {
   "cell_type": "code",
   "execution_count": null,
   "id": "0da89e7c-a81e-4572-995b-add44744b933",
   "metadata": {},
   "outputs": [],
   "source": [
    "root/          # 根目录\n",
    "  ├── class1/  # 类别1\n",
    "  │     ├── img001.png\n",
    "  │     ├── img002.png\n",
    "  │     └── ...\n",
    "  ├── class2/  # 类别2\n",
    "  │     ├── img003.png\n",
    "  │     ├── img004.png\n",
    "  │     └── ...\n",
    "  └── ...\n"
   ]
  },
  {
   "cell_type": "markdown",
   "id": "ac588c7c-e73e-4f7a-a332-1f6cbdfe9fab",
   "metadata": {},
   "source": [
    "- 每个子文件夹的名字（`class1`, `class2`）就是类别标签。\n",
    "\n",
    "- `ImageFolder` 会自动给类别分配 索引 (`int`)，比如："
   ]
  },
  {
   "cell_type": "code",
   "execution_count": null,
   "id": "6eb6d592-320e-49f7-a291-86c611011905",
   "metadata": {},
   "outputs": [],
   "source": [
    "dataset.classes   # ['class1', 'class2']\n",
    "dataset.class_to_idx   # {'class1': 0, 'class2': 1}\n"
   ]
  },
  {
   "cell_type": "markdown",
   "id": "db658d33-5455-4899-b70a-b447997747d4",
   "metadata": {},
   "source": [
    "## 2. 主要参数讲解"
   ]
  },
  {
   "cell_type": "code",
   "execution_count": null,
   "id": "2cdf7259-0bb8-45de-81f4-3d4e5f235bd0",
   "metadata": {},
   "outputs": [],
   "source": [
    "torchvision.datasets.ImageFolder(\n",
    "    root: str,\n",
    "    transform: Optional[Callable] = None,\n",
    "    target_transform: Optional[Callable] = None,\n",
    "    loader: Callable[[str], Any] = default_loader,\n",
    "    is_valid_file: Optional[Callable[[str], bool]] = None\n",
    ")\n"
   ]
  },
  {
   "cell_type": "markdown",
   "id": "70045fd5-3245-4d26-94be-78badf42cc5d",
   "metadata": {},
   "source": [
    "| 参数                     | 作用                                                     |\n",
    "| ---------------------- | ------------------------------------------------------ |\n",
    "| **`root`**             | 数据集的根目录（必须），子文件夹的名字就是类别。                               |\n",
    "| **`transform`**        | 作用在 **图片** 上的预处理操作（如 `Resize`、`ToTensor`、`Normalize`）。 |\n",
    "| **`target_transform`** | 作用在 **标签** 上的预处理（比如标签编码或 one-hot 转换）。                  |\n",
    "| **`loader`**           | 指定如何读取图片，默认是用 `PIL.Image.open` 打开。                     |\n",
    "| **`is_valid_file`**    | 过滤器函数，返回 `True/False`，决定文件是否有效。例如：只保留 `.jpg` 文件。       |\n"
   ]
  },
  {
   "cell_type": "markdown",
   "id": "30f3ad00-b159-4acf-9b9c-fae272bbd49a",
   "metadata": {},
   "source": [
    "---\n",
    "## 3. 使用示例\n",
    "### （1）最基础的用法"
   ]
  },
  {
   "cell_type": "code",
   "execution_count": null,
   "id": "1919dfe2-7c3e-44cd-bad8-26b9967ae3e5",
   "metadata": {},
   "outputs": [],
   "source": [
    "from torchvision import datasets, transforms\n",
    "\n",
    "# 定义图像预处理\n",
    "transform = transforms.Compose([\n",
    "    transforms.Resize((224, 224)),  # 调整大小\n",
    "    transforms.ToTensor(),          # 转换为 Tensor\n",
    "    transforms.Normalize(mean=[0.5, 0.5, 0.5],\n",
    "                         std=[0.5, 0.5, 0.5])  # 标准化\n",
    "])\n",
    "\n",
    "# 加载数据集\n",
    "dataset = datasets.ImageFolder(root=\"./data/train\", transform=transform)\n",
    "\n",
    "print(dataset.classes)        # 类别名字\n",
    "print(dataset.class_to_idx)   # 类别 -> 索引映射\n",
    "\n",
    "img, label = dataset[0]       # 取第一张图片和对应标签\n",
    "print(img.shape, label)"
   ]
  },
  {
   "cell_type": "markdown",
   "id": "5b3fad69-8768-42ee-afdb-a15438b7e26e",
   "metadata": {},
   "source": [
    "### （2）结合 DataLoader"
   ]
  },
  {
   "cell_type": "code",
   "execution_count": null,
   "id": "7d7419eb-fb8a-4d05-989c-1c5810765ef4",
   "metadata": {},
   "outputs": [],
   "source": [
    "from torch.utils.data import DataLoader\n",
    "\n",
    "dataloader = DataLoader(dataset, batch_size=32, shuffle=True)\n",
    "\n",
    "for images, labels in dataloader:\n",
    "    print(images.shape, labels.shape)\n",
    "    break\n"
   ]
  },
  {
   "cell_type": "markdown",
   "id": "040958ce-6edc-4e01-be5b-76a50c45a915",
   "metadata": {},
   "source": [
    "### （3）只读取特定格式的文件"
   ]
  },
  {
   "cell_type": "code",
   "execution_count": null,
   "id": "25390de0-b17c-4231-a11f-e7919b5a2bb1",
   "metadata": {},
   "outputs": [],
   "source": [
    "dataset = datasets.ImageFolder(\n",
    "    root=\"./data/train\",\n",
    "    transform=transform,\n",
    "    is_valid_file=lambda path: path.endswith(\".jpg\")  # 只保留 jpg 文件\n",
    ")\n"
   ]
  },
  {
   "cell_type": "markdown",
   "id": "f33e6d76-b435-4243-a6ae-5a680fded8f6",
   "metadata": {},
   "source": [
    "### （4）自定义标签处理\n",
    "\n",
    "比如：把数字标签转成 `one-hot`："
   ]
  },
  {
   "cell_type": "code",
   "execution_count": null,
   "id": "fbc584c4-51d1-4369-8a80-6dfec0cf6a2d",
   "metadata": {},
   "outputs": [],
   "source": [
    "import torch\n",
    "\n",
    "target_transform = lambda y: torch.nn.functional.one_hot(torch.tensor(y), num_classes=2)\n",
    "\n",
    "dataset = datasets.ImageFolder(\n",
    "    root=\"./data/train\",\n",
    "    transform=transform,\n",
    "    target_transform=target_transform\n",
    ")\n",
    "\n",
    "img, label = dataset[0]\n",
    "print(label)  # one-hot 向量\n"
   ]
  },
  {
   "cell_type": "markdown",
   "id": "3286a532-2f79-4dc7-9fc4-e210bcf7b285",
   "metadata": {},
   "source": [
    "## ✅ 总结：\n",
    "\n",
    "- `ImageFolder` 适合目录结构整齐的数据集。\n",
    "\n",
    "- 常用参数是 `root`、`transform`、`target_transform`。\n",
    "\n",
    "- 搭配 `DataLoader` 就能批量加载训练数据。"
   ]
  },
  {
   "cell_type": "code",
   "execution_count": null,
   "id": "ff82c8f5-6c4d-4049-9c8b-04107a1e70e5",
   "metadata": {},
   "outputs": [],
   "source": []
  }
 ],
 "metadata": {
  "kernelspec": {
   "display_name": "Python [conda env:deepseek_env]",
   "language": "python",
   "name": "conda-env-deepseek_env-py"
  },
  "language_info": {
   "codemirror_mode": {
    "name": "ipython",
    "version": 3
   },
   "file_extension": ".py",
   "mimetype": "text/x-python",
   "name": "python",
   "nbconvert_exporter": "python",
   "pygments_lexer": "ipython3",
   "version": "3.12.9"
  }
 },
 "nbformat": 4,
 "nbformat_minor": 5
}

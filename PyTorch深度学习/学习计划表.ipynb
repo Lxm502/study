{
 "cells": [
  {
   "cell_type": "markdown",
   "id": "8a96961b-5739-4176-8823-287b1c895563",
   "metadata": {},
   "source": [
    "# 📘 PyTorch 学习计划表\n",
    "\n",
    "## 阶段 1：基础入门（第 1-2 周）\n",
    "- [ ✔] 学习 Python 科学计算库基础：`numpy`、`matplotlib`\n",
    "- [✔ ] 了解 PyTorch 基本张量操作（`torch.tensor()`、索引、切片、维度变换）\n",
    "- [✔ ] 学习自动求导机制：`torch.autograd`\n",
    "- [✔ ] 掌握 GPU 加速：`tensor.to(\"cuda\")`"
   ]
  },
  {
   "cell_type": "markdown",
   "id": "b433c9aa-f766-4dc0-8fdd-32e82cfe776f",
   "metadata": {},
   "source": [
    "## 阶段 2：模型搭建与训练（第 3-4 周）\n",
    "- [ ] 学习 `nn.Module` 自定义模型\n",
    "- [ ] 掌握常用层：`nn.Linear`、`nn.Conv2d`、`nn.ReLU`、`nn.Dropout`\n",
    "- [ ] 学习优化器：`torch.optim`（SGD、Adam 等）\n",
    "- [ ] 学习损失函数：`nn.CrossEntropyLoss`、`nn.MSELoss`\n",
    "- [ ] 掌握训练循环：`forward` → `loss` → `backward` → `optimizer.step()`"
   ]
  },
  {
   "cell_type": "markdown",
   "id": "8713e9f2-0de6-4a37-a191-9b9a78306bae",
   "metadata": {},
   "source": [
    "## 阶段 3：数据处理与加载（第 5 周）\n",
    "- [ ] 学习 `torchvision.datasets`（MNIST、CIFAR-10）\n",
    "- [ ] 使用 `DataLoader` & `Dataset` 处理数据\n",
    "- [ ] 数据增强：`torchvision.transforms`\n",
    "- [ ] 掌握批量训练与迭代"
   ]
  },
  {
   "cell_type": "markdown",
   "id": "05b5b78e-58d4-4163-9cbd-65b641c84759",
   "metadata": {},
   "source": [
    "## 阶段 4：可视化与调试（第 6 周）\n",
    "- [ ] 使用 `matplotlib` 可视化数据\n",
    "- [ ] 使用 `TensorBoard` 监控训练\n",
    "- [ ] 学习 `torchsummary` 查看模型结构\n",
    "- [ ] 保存与加载模型：`torch.save()` & `torch.load()`"
   ]
  },
  {
   "cell_type": "markdown",
   "id": "dca975a3-5fdb-47d7-beef-0eea753851b3",
   "metadata": {},
   "source": [
    "## 阶段 5：进阶学习（第 7-8 周）\n",
    "- [ ] 学习 CNN（卷积神经网络）\n",
    "- [ ] 学习 RNN、LSTM（循环神经网络）\n",
    "- [ ] 学习 Transformer 基础\n",
    "- [ ] 使用预训练模型（ResNet、BERT）"
   ]
  },
  {
   "cell_type": "markdown",
   "id": "78494802-852b-4c91-9fb7-590e46a1fccd",
   "metadata": {},
   "source": [
    "## 阶段 6：综合实践（第 9-12 周）\n",
    "- [ ] 项目 1：图像分类（CIFAR-10）\n",
    "- [ ] 项目 2：文本情感分析（IMDB）\n",
    "- [ ] 项目 3：迁移学习（使用 ResNet 进行猫狗分类）\n",
    "- [ ] 项目 4：自选课题（CV 或 NLP）\n",
    "\n",
    "---\n",
    "✅ 建议：每天学习 1-2 小时，每周至少完成一个小目标。\n"
   ]
  },
  {
   "cell_type": "markdown",
   "id": "e2756415-bcc5-43cf-88cb-cbc7cc3cbd3a",
   "metadata": {},
   "source": [
    "---"
   ]
  },
  {
   "cell_type": "code",
   "execution_count": null,
   "id": "493dfcd1-3caa-4690-b7bd-d21a3e8f8c87",
   "metadata": {},
   "outputs": [],
   "source": []
  },
  {
   "cell_type": "markdown",
   "id": "17c4e306-284b-4f1d-9225-acf056235f67",
   "metadata": {},
   "source": [
    "## 🗓️ 第 1 周\n",
    "## 📅 学习日志 - **Day 1**   2025-09-05\n",
    "\n",
    "## 🎯 今日目标\n",
    "- [✔] 目标 1 学习内容：安装 PyTorch，熟悉环境  \n",
    "- [✔ ] 目标 2 代码练习：`torch.tensor()` 基本操作 \n",
    "- [✔ ] 目标 3 今日收获：张量和 numpy 很像，但支持 GPU\n",
    "- [✔] 学习 Python 科学计算库基础：`numpy`、`matplotlib`\n",
    "- [✔ ] 了解 PyTorch 基本张量操作（`torch.tensor()`、索引、切片、维度变换）\n",
    "- [ ] 目标 4 心情：💡 兴奋  \n",
    "\n",
    "---\n",
    "\n",
    "## 📖 学习内容\n",
    "今天主要学习了：\n",
    "- 了解 PyTorch 基本张量操作（`torch.tensor()`、索引、切片、维度变换）\n",
    "- 学习自动求导机制：`torch.autograd`\n",
    "- 掌握 GPU 加速：`tensor.to(\"cuda\")`\n",
    "- \n",
    "---"
   ]
  },
  {
   "cell_type": "code",
   "execution_count": null,
   "id": "fb63ef97-ba7a-4dd4-a587-7b74d4873828",
   "metadata": {},
   "outputs": [],
   "source": [
    "# 📒 PyTorch 学习打卡日记\n",
    "\n",
    "## 打卡规则\n",
    "- 每天学习至少 1 小时\n",
    "- 完成学习计划中的一个小任务\n",
    "- 用一句话总结今日收获\n",
    "\n",
    "---\n",
    "**Day 3**  \n",
    "- 学习内容：`autograd` 自动求导  \n",
    "- 代码练习：手写线性回归的梯度计算  \n",
    "- 今日收获：反向传播不用自己推公式了！  \n",
    "- 心情：😊 轻松  \n",
    "\n",
    "---\n",
    "\n",
    "### 🗓️ 第 2 周\n",
    "**Day 8**  \n",
    "- 学习内容：`nn.Module` 自定义网络  \n",
    "- 代码练习：实现两层全连接神经网络  \n",
    "- 今日收获：前向传播和反向传播更清晰了  \n",
    "- 心情：👍 越来越顺利  \n",
    "\n",
    "**Day 9**  \n",
    "- 学习内容：优化器 & 损失函数  \n",
    "- 代码练习：用 `SGD` 训练一个分类模型  \n",
    "- 今日收获：理解了 loss 和 optimizer 的关系  \n",
    "- 心情：⚡ 有点小成就  \n",
    "\n",
    "---\n",
    "\n",
    "### 🗓️ 项目阶段\n",
    "**Day 30**  \n",
    "- 学习内容：完成 CIFAR-10 图像分类  \n",
    "- 代码练习：使用 CNN 训练模型  \n",
    "- 今日收获：第一次做完整项目，成就感满满  \n",
    "- 心情：🚀 爽！  \n"
   ]
  }
 ],
 "metadata": {
  "kernelspec": {
   "display_name": "Python [conda env:pytorch_env]",
   "language": "python",
   "name": "conda-env-pytorch_env-py"
  },
  "language_info": {
   "codemirror_mode": {
    "name": "ipython",
    "version": 3
   },
   "file_extension": ".py",
   "mimetype": "text/x-python",
   "name": "python",
   "nbconvert_exporter": "python",
   "pygments_lexer": "ipython3",
   "version": "3.12.11"
  }
 },
 "nbformat": 4,
 "nbformat_minor": 5
}

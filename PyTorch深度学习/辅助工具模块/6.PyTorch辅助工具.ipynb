{
 "cells": [
  {
   "cell_type": "code",
   "execution_count": null,
   "id": "0b1bd80b-cfe4-4fe8-96f3-9b18295643ae",
   "metadata": {},
   "outputs": [],
   "source": [
    "# 🔹 6. 辅助工具\n",
    "\n",
    "torch.cuda：GPU 加速工具\n",
    "\n",
    "torch.backends：控制底层计算库（cudnn、mkldnn 等）\n",
    "\n",
    "torch.utils.tensorboard：与 TensorBoard 对接，监控训练过程"
   ]
  }
 ],
 "metadata": {
  "kernelspec": {
   "display_name": "Python [conda env:deepseek_env]",
   "language": "python",
   "name": "conda-env-deepseek_env-py"
  },
  "language_info": {
   "codemirror_mode": {
    "name": "ipython",
    "version": 3
   },
   "file_extension": ".py",
   "mimetype": "text/x-python",
   "name": "python",
   "nbconvert_exporter": "python",
   "pygments_lexer": "ipython3",
   "version": "3.12.9"
  }
 },
 "nbformat": 4,
 "nbformat_minor": 5
}

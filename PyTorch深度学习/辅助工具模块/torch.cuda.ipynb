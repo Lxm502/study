{
 "cells": [
  {
   "cell_type": "markdown",
   "id": "832cfdd8-8099-4431-a87c-3aef43985888",
   "metadata": {},
   "source": [
    "# 1. torch.cuda 的核心功能\n",
    "\n",
    "它主要负责 设备管理、张量与模型的迁移、同步控制，常见的功能包括：\n",
    "| 方法 / 属性                          | 作用                                        |\n",
    "| -------------------------------- | ----------------------------------------- |\n",
    "| `torch.cuda.is_available()`      | 判断当前环境是否有可用的 GPU                          |\n",
    "| `torch.cuda.device_count()`      | 返回可用 GPU 的数量                              |\n",
    "| `torch.cuda.current_device()`    | 返回当前默认使用的 GPU id                          |\n",
    "| `torch.cuda.get_device_name(id)` | 返回指定 GPU 的名称（如 \"NVIDIA GeForce RTX 3080\"） |\n",
    "| `torch.cuda.set_device(id)`      | 设置当前进程使用的 GPU                             |\n",
    "| `torch.cuda.empty_cache()`       | 释放未被使用的显存（PyTorch 会缓存显存以加快分配速度）           |\n",
    "| `torch.cuda.memory_allocated()`  | 返回已分配的显存大小（字节）                            |\n",
    "| `torch.cuda.memory_reserved()`   | 返回已保留的显存大小（字节）                            |\n",
    "\n",
    "--- \n",
    "# 2. Tensor 与模型的 GPU 迁移\n",
    "\n",
    "要让数据和模型在 GPU 上运行，需要`手动迁移`：\n",
    "\n",
    "### （1）迁移 Tensor"
   ]
  },
  {
   "cell_type": "code",
   "execution_count": null,
   "id": "6dbfed58-5cb4-42ed-b875-78a7152b73a6",
   "metadata": {},
   "outputs": [],
   "source": [
    "import torch\n",
    "\n",
    "# 创建张量\n",
    "x_cpu = torch.randn(3, 3)\n",
    "\n",
    "# 迁移到 GPU（如果可用）\n",
    "if torch.cuda.is_available():\n",
    "    x_gpu = x_cpu.to(\"cuda\")  \n",
    "    # 等价写法：x_cpu.cuda()\n"
   ]
  },
  {
   "cell_type": "markdown",
   "id": "15886cbf-4daf-425b-bdd7-08320c545fe6",
   "metadata": {},
   "source": [
    "### （2）迁移模型"
   ]
  },
  {
   "cell_type": "code",
   "execution_count": null,
   "id": "46e12da2-3681-4ef6-92b7-b5b9bc721e68",
   "metadata": {},
   "outputs": [],
   "source": [
    "import torch.nn as nn\n",
    "\n",
    "model = nn.Linear(10, 2)\n",
    "\n",
    "# 将模型迁移到 GPU\n",
    "if torch.cuda.is_available():\n",
    "    model = model.to(\"cuda\")\n",
    "\n",
    "# 输入张量也要在同一个设备\n",
    "x = torch.randn(5, 10).to(\"cuda\")\n",
    "output = model(x)\n"
   ]
  },
  {
   "cell_type": "markdown",
   "id": "ce5ce55e-3f60-4269-a3d8-310445a7961a",
   "metadata": {},
   "source": [
    "⚠️ 注意：模型和输入必须在同一个设备，否则会报错。\n",
    "\n",
    "---\n",
    "# 3. 指定 GPU 设备\n",
    "\n",
    "如果你有多块 GPU，可以指定使用哪块："
   ]
  },
  {
   "cell_type": "code",
   "execution_count": null,
   "id": "07a0b5e5-e752-4e23-a292-d9bdb1248aa4",
   "metadata": {},
   "outputs": [],
   "source": [
    "device = torch.device(\"cuda:1\")  # 第二块 GPU（从 0 开始）\n",
    "x = torch.randn(3, 3, device=device)\n",
    "\n",
    "model = nn.Linear(10, 2).to(device)\n"
   ]
  },
  {
   "cell_type": "markdown",
   "id": "d3091d47-1997-401a-930a-c84c02891378",
   "metadata": {},
   "source": [
    "也可以用上下文管理器："
   ]
  },
  {
   "cell_type": "code",
   "execution_count": null,
   "id": "1525094c-0bfd-4233-9bbb-0f8807fe7491",
   "metadata": {},
   "outputs": [],
   "source": [
    "with torch.cuda.device(1):\n",
    "    y = torch.randn(2, 2).cuda()  # 自动分配到 GPU:1\n"
   ]
  },
  {
   "cell_type": "markdown",
   "id": "a9b87c00-0b69-4f2c-8545-183bcf39e455",
   "metadata": {},
   "source": [
    "# 4. GPU 与 CPU 之间的切换\n",
    "\n",
    "- 迁移到 CPU："
   ]
  },
  {
   "cell_type": "code",
   "execution_count": null,
   "id": "d4a48be0-7f31-462e-8ffb-bf2bbdf77851",
   "metadata": {},
   "outputs": [],
   "source": [
    "x_cpu = x_gpu.to(\"cpu\")\n",
    "# 等价：x_gpu.cpu()\n"
   ]
  },
  {
   "cell_type": "markdown",
   "id": "dedbf4d6-c8ec-4684-bf75-9e8b230f55d9",
   "metadata": {},
   "source": [
    "- ⚠️自动选择设备（`推荐写法`）：\n",
    "- 这样代码能在 有 GPU 时用 GPU，没有 GPU 时用 CPU，提高通用性。"
   ]
  },
  {
   "cell_type": "code",
   "execution_count": null,
   "id": "077bffcb-f430-410f-9375-581a0da8d4fd",
   "metadata": {},
   "outputs": [],
   "source": [
    "device = torch.device(\"cuda\" if torch.cuda.is_available() else \"cpu\")\n",
    "\n",
    "x = torch.randn(3, 3).to(device)\n",
    "model = nn.Linear(10, 2).to(device)\n"
   ]
  },
  {
   "cell_type": "markdown",
   "id": "9f5f4a2e-8e27-4945-9300-abfc7415ca1c",
   "metadata": {},
   "source": [
    "# 5. 多 GPU 并行\n",
    "\n",
    "在多 GPU 上训练时，可以用：\n",
    "\n",
    "- `torch.nn.DataParallel(model)`（较旧，简单，但速度较慢）\n",
    "\n",
    "- `torch.nn.parallel.DistributedDataParallel(model)`（`推荐`，分布式训练标准）\n",
    "\n",
    "示例："
   ]
  },
  {
   "cell_type": "code",
   "execution_count": null,
   "id": "ee1eeb44-0cac-4e47-a18c-32b9b22f40b4",
   "metadata": {},
   "outputs": [],
   "source": [
    "if torch.cuda.device_count() > 1:\n",
    "    print(\"使用多 GPU 训练:\", torch.cuda.device_count(), \"块 GPU\")\n",
    "    model = nn.DataParallel(model)\n",
    "\n",
    "model.to(\"cuda\")\n"
   ]
  },
  {
   "cell_type": "code",
   "execution_count": null,
   "id": "4e92e8bb-ce8d-4d59-be27-95f81e28f604",
   "metadata": {},
   "outputs": [],
   "source": []
  },
  {
   "cell_type": "markdown",
   "id": "76b60fde-f50b-4c30-996b-4b458cabd5d3",
   "metadata": {},
   "source": [
    "# 6. 显存管理\n",
    "\n",
    "训练时显存很容易爆掉，常用方法："
   ]
  },
  {
   "cell_type": "code",
   "execution_count": null,
   "id": "0ddf4e21-9790-49eb-a298-4c55b1a849ce",
   "metadata": {},
   "outputs": [],
   "source": [
    "torch.cuda.empty_cache()  # 释放显存\n",
    "torch.cuda.memory_summary(device=None, abbreviated=False)  # 显存使用情况\n"
   ]
  },
  {
   "cell_type": "markdown",
   "id": "d06b19ef-04a0-4c53-b0f9-de1680f9f0f1",
   "metadata": {},
   "source": [
    "## ✅ 总结：\n",
    "torch.cuda 就是 PyTorch 与 GPU 交互的桥梁，主要功能有：\n",
    "\n",
    "- 1、设备管理（选择 GPU，查询信息）\n",
    "\n",
    "- 2、数据与模型迁移（CPU ↔ GPU）\n",
    "\n",
    "- 3、显存管理（缓存、释放、监控）\n",
    "\n",
    "- 4、多 GPU 并行训练"
   ]
  },
  {
   "cell_type": "code",
   "execution_count": null,
   "id": "62bf714e-7425-4705-aec5-2855f014cc84",
   "metadata": {},
   "outputs": [],
   "source": []
  }
 ],
 "metadata": {
  "kernelspec": {
   "display_name": "Python [conda env:pytorch_env]",
   "language": "python",
   "name": "conda-env-pytorch_env-py"
  },
  "language_info": {
   "codemirror_mode": {
    "name": "ipython",
    "version": 3
   },
   "file_extension": ".py",
   "mimetype": "text/x-python",
   "name": "python",
   "nbconvert_exporter": "python",
   "pygments_lexer": "ipython3",
   "version": "3.12.11"
  }
 },
 "nbformat": 4,
 "nbformat_minor": 5
}

{
 "cells": [
  {
   "cell_type": "markdown",
   "id": "7b4451ce-aa05-4bed-ad8d-ed94256d2d98",
   "metadata": {},
   "source": [
    "# nn.GELU \n",
    "## 1️⃣ 基本介绍\n",
    "\n",
    "- `nn.GELU `是一种 `激活函数`（Activation Function），常用于 `深度神经网络`，尤其是 Transformer:深度学习框架（如 BERT、GPT 系列）中。\n",
    "\n",
    "- 它是一种 `平滑的非线性激活`，相比` ReLU `更连续、可导。\n",
    "\n",
    "- `GELU `会根据输入值大小 概率性地保留或抑制。"
   ]
  },
  {
   "cell_type": "markdown",
   "id": "508b3a8a-ab24-47a6-9800-d5538ba6c79d",
   "metadata": {},
   "source": [
    "---\n",
    "## 2️⃣ 与 ReLU / Sigmoid 对比\n",
    "\n",
    "| 激活函数    | 数学形式              | 特点                            |\n",
    "| ------- | ----------------- | ----------------------------- |\n",
    "| ReLU    | $\\max(0, x)$      | 简单、稀疏激活，但不可导点在 0              |\n",
    "| Sigmoid | $1/(1+e^{-x})$    | 平滑，但容易梯度消失                    |\n",
    "| GELU    | $x \\cdot \\Phi(x)$ | 平滑、连续、保留小概率信息，更适合 Transformer |\n",
    "\n",
    "- `GELU `更平滑，比` ReLU `在小输入上不会完全为 0\n",
    "\n",
    "- BERT、GPT、ViT 等模型都是默认使用` GELU`"
   ]
  },
  {
   "cell_type": "markdown",
   "id": "21459570-fc08-4681-b047-4f3e6a3784d4",
   "metadata": {},
   "source": [
    "### 在神经网络中使用"
   ]
  },
  {
   "cell_type": "code",
   "execution_count": null,
   "id": "8c977fe1-3163-4238-a01d-cba5c6e515dd",
   "metadata": {},
   "outputs": [],
   "source": [
    "import torch.nn as nn\n",
    "\n",
    "model = nn.Sequential(\n",
    "    nn.Linear(10, 20),\n",
    "    nn.GELU(),\n",
    "    nn.Linear(20, 5)\n",
    ")\n"
   ]
  },
  {
   "cell_type": "markdown",
   "id": "2b6a6ca1-2449-4ace-aaf2-1d5ad9c7ed2a",
   "metadata": {},
   "source": [
    "- GELU 可以替代 ReLU / LeakyReLU / SiLU\n",
    "\n",
    "- 对深层网络尤其 Transformer 有良好的训练稳定性\n",
    "️\n",
    "---\n",
    "## 3️⃣特点总结\n",
    "\n",
    "✅ 优点：\n",
    "\n",
    "- 平滑、连续可导\n",
    "\n",
    "- 保留负值信息，梯度流更好\n",
    "\n",
    "- 在 Transformer / NLP / Vision Transformer 中表现优异\n",
    "\n",
    "⚠️ 注意：\n",
    "\n",
    "- 计算略比 ReLU 稍慢\n",
    "\n",
    "- 适合深层网络和 Transformer 系列"
   ]
  },
  {
   "cell_type": "code",
   "execution_count": null,
   "id": "bfae6252-3336-440f-be69-2a06f2ad3e30",
   "metadata": {},
   "outputs": [],
   "source": []
  }
 ],
 "metadata": {
  "kernelspec": {
   "display_name": "Python [conda env:pytorch_env]",
   "language": "python",
   "name": "conda-env-pytorch_env-py"
  },
  "language_info": {
   "codemirror_mode": {
    "name": "ipython",
    "version": 3
   },
   "file_extension": ".py",
   "mimetype": "text/x-python",
   "name": "python",
   "nbconvert_exporter": "python",
   "pygments_lexer": "ipython3",
   "version": "3.12.11"
  }
 },
 "nbformat": 4,
 "nbformat_minor": 5
}

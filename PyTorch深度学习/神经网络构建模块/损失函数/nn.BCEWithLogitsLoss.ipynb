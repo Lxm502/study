{
 "cells": [
  {
   "cell_type": "markdown",
   "id": "a5c80a2d-7212-440e-aebe-c5c7b2ec722c",
   "metadata": {},
   "source": [
    "# 1. 背景：为什么用 BCEWithLogitsLoss？\n",
    "\n",
    "在二分类问题中，常见的目标是最小化 二元交叉熵 (Binary Cross Entropy, BCE)：\n",
    "\n",
    "BCE(𝑝,𝑦)=−[𝑦⋅log(𝑝)+(1−𝑦)⋅log(1−𝑝)]\n",
    "\n",
    "- 其中：\n",
    "   - y∈{0,1} 是真实标签\n",
    "   - 𝑝=𝜎(𝑥)是模型预测的概率（经过 `sigmoid` 函数）\n",
    "\n",
    "- 问题：如果你先手动 sigmoid 再 BCELoss，会存在数值不稳定（log(0) → NaN）。\n",
    "\n",
    "- 解决办法：`nn.BCEWithLogitsLoss` 内部做了优化，直接将` logits`输入，自动结合了：\n",
    "\n",
    "BCEWithLogitsLoss(𝑥,𝑦)=max(𝑥,0−𝑥⋅𝑦+log⁡(1+𝑒−∣𝑥∣)\n",
    "\n",
    "这样比 `sigmoid` + `BCELoss` 更稳定。\n",
    "\n",
    "# 2. 定义"
   ]
  },
  {
   "cell_type": "code",
   "execution_count": null,
   "id": "7c2a1e8d-c8fe-4a58-885a-448de3039108",
   "metadata": {},
   "outputs": [],
   "source": [
    "torch.nn.BCEWithLogitsLoss(\n",
    "    weight=None,\n",
    "    size_average=None,\n",
    "    reduce=None,\n",
    "    reduction='mean',\n",
    "    pos_weight=None\n",
    ")\n"
   ]
  },
  {
   "cell_type": "markdown",
   "id": "c15b7eb9-c53f-4f4c-997c-49d4a00bf6e2",
   "metadata": {},
   "source": [
    "| 参数              | 作用                                  |\n",
    "| --------------- | ----------------------------------- |\n",
    "| **weight**      | 给每个样本设置权重（处理样本不平衡）。                 |\n",
    "| **pos\\_weight** | 给正样本加权（处理类别不均衡，常用于正负比例悬殊的问题）。       |\n",
    "| **reduction**   | 聚合方式：`'mean'`（默认），`'sum'`，`'none'`。 |\n",
    "\n",
    "\n",
    "## 使用方法\n",
    "### (1) 普通二分类"
   ]
  },
  {
   "cell_type": "code",
   "execution_count": null,
   "id": "68e37316-8ae5-45e6-8edf-2a91b9a02b6c",
   "metadata": {},
   "outputs": [],
   "source": [
    "import torch\n",
    "import torch.nn as nn\n",
    "\n",
    "loss_fn = nn.BCEWithLogitsLoss()\n",
    "\n",
    "# 模型输出 logits（未经过 sigmoid）\n",
    "logits = torch.tensor([[0.2], [1.5], [-1.0]])  # shape = [3, 1]\n",
    "targets = torch.tensor([[0.0], [1.0], [0.0]])  # 标签 {0,1}\n",
    "\n",
    "loss = loss_fn(logits, targets)\n",
    "print(loss.item())\n"
   ]
  },
  {
   "cell_type": "markdown",
   "id": "c552d812-a0a5-4186-9922-b8982e90e8f3",
   "metadata": {},
   "source": [
    "### (2) 多标签分类\n",
    "\n",
    "（比如一张图片可以同时属于 [猫, 狗, 兔子] 多个类别）"
   ]
  },
  {
   "cell_type": "code",
   "execution_count": null,
   "id": "36cd4e32-b1c8-496a-a430-f01f4154f972",
   "metadata": {},
   "outputs": [],
   "source": [
    "loss_fn = nn.BCEWithLogitsLoss()\n",
    "\n",
    "# batch=2, classes=3\n",
    "logits = torch.tensor([[0.5, -1.0, 2.0],\n",
    "                       [-0.5, 2.0, 0.1]])  # shape = [2, 3]\n",
    "targets = torch.tensor([[1.0, 0.0, 1.0],\n",
    "                        [0.0, 1.0, 0.0]])  # 每个类独立 {0,1}\n",
    "\n",
    "loss = loss_fn(logits, targets)\n",
    "print(loss.item())\n"
   ]
  },
  {
   "cell_type": "markdown",
   "id": "438604e4-079d-47e5-b6da-ab64f4d9a739",
   "metadata": {},
   "source": [
    "### (3) 类别不均衡时\n",
    "\n",
    "如果正样本很少，可以用` pos_weight `提高正样本的损失权重："
   ]
  },
  {
   "cell_type": "code",
   "execution_count": null,
   "id": "94d4b6ca-9618-4974-b055-1886fd7ba5b8",
   "metadata": {},
   "outputs": [],
   "source": [
    "# 正样本权重设为 3 倍\n",
    "loss_fn = nn.BCEWithLogitsLoss(pos_weight=torch.tensor([3.0]))\n"
   ]
  },
  {
   "cell_type": "markdown",
   "id": "ddf5220c-d020-4337-94ff-021a37e0001a",
   "metadata": {},
   "source": [
    "## 特点\n",
    "\n",
    "✅ 优点：\n",
    "\n",
    "- 数值稳定（比 `sigmoid` + `BCELoss` 好）。\n",
    "\n",
    "- 支持二分类、多标签分类。\n",
    "\n",
    "- 可以通过` pos_weight `解决类别不均衡。\n",
    "\n",
    "⚠️ 注意事项：\n",
    "\n",
    "- 输入必须是 `logits`（模型的线性输出），不要提前过 `sigmoid`。\n",
    "\n",
    "- `target` 必须是浮点型 (float)，取值为 0.0 或 1.0。\n",
    "\n",
    "## 应用场景\n",
    "\n",
    "- 二分类（垃圾邮件检测，肿瘤预测）\n",
    "\n",
    "- 多标签分类（图像多目标检测，标签预测）\n",
    "\n",
    "- GAN 的判别器输出（真假二分类）"
   ]
  },
  {
   "cell_type": "code",
   "execution_count": null,
   "id": "dfb936a8-377c-428c-8ee8-ba55b2acbeba",
   "metadata": {},
   "outputs": [],
   "source": []
  }
 ],
 "metadata": {
  "kernelspec": {
   "display_name": "Python [conda env:pytorch_env]",
   "language": "python",
   "name": "conda-env-pytorch_env-py"
  },
  "language_info": {
   "codemirror_mode": {
    "name": "ipython",
    "version": 3
   },
   "file_extension": ".py",
   "mimetype": "text/x-python",
   "name": "python",
   "nbconvert_exporter": "python",
   "pygments_lexer": "ipython3",
   "version": "3.12.11"
  }
 },
 "nbformat": 4,
 "nbformat_minor": 5
}

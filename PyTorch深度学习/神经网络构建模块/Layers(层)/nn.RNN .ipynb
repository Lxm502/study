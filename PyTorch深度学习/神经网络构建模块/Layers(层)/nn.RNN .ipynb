{
 "cells": [
  {
   "cell_type": "markdown",
   "id": "1b473fb0-7b27-41b5-85bf-293997032299",
   "metadata": {},
   "source": [
    "# 1. nn.RNN 基本介绍\n",
    "\n",
    "`nn.RNN`是 PyTorch 提供的循环神经网络（Recurrent Neural Network, RNN） 模块。\n",
    "它适合处理 `序列数据`（如时间序列、文本、语音）。\n",
    "\n",
    "定义："
   ]
  },
  {
   "cell_type": "code",
   "execution_count": null,
   "id": "a312383f-5e30-4034-9cc8-44d5d6b8da55",
   "metadata": {},
   "outputs": [],
   "source": [
    "torch.nn.RNN(\n",
    "    input_size,     # 输入特征维度\n",
    "    hidden_size,    # 隐藏层维度\n",
    "    num_layers=1,   # 堆叠多少层RNN\n",
    "    nonlinearity='tanh', # 激活函数：'tanh' 或 'relu'\n",
    "    bias=True,      # 是否使用偏置\n",
    "    batch_first=False,   # True: 输入(batch, seq, feature)\n",
    "    dropout=0.0,    # 层与层之间的dropout\n",
    "    bidirectional=False  # 是否为双向RNN\n",
    ")\n"
   ]
  },
  {
   "cell_type": "markdown",
   "id": "8c30a41b-3dbc-44cc-8f3d-6ce36545cf70",
   "metadata": {},
   "source": [
    "## 2. 输入 & 输出格式\n",
    "\n",
    "- 假设：\n",
    "\n",
    "    - batch_size = B\n",
    "    \n",
    "    - seq_len = T\n",
    "    \n",
    "    - input_size = D_in\n",
    "    \n",
    "    - hidden_size = D_h\n",
    "\n",
    "- 输入\n",
    "\n",
    "    - input：形状\n",
    "    \n",
    "        - (T, B, D_in) 如果 batch_first=False\n",
    "        \n",
    "        - (B, T, D_in) 如果 batch_first=True\n",
    "        \n",
    "        - h_0（可选，初始隐藏状态）：\n",
    "            - (num_layers * num_directions, B, D_h)\n",
    "\n",
    "- 输出\n",
    "\n",
    "    - output：\n",
    "        - (T, B, num_directions * D_h)（或 (B, T, num_directions * D_h) 如果 batch_first=True）包含了每个时间步的输出。\n",
    "\n",
    "    - h_n：\n",
    "        - (num_layers * num_directions, B, D_h)\n",
    "最后一个时间步的隐藏状态。\n",
    "\n",
    "---\n",
    "## 3. 代码示例\n",
    "### (1) 单层 RNN"
   ]
  },
  {
   "cell_type": "code",
   "execution_count": null,
   "id": "a290a360-53f8-4cd7-bdf0-b8f6b06c3a18",
   "metadata": {},
   "outputs": [],
   "source": [
    "import torch\n",
    "import torch.nn as nn\n",
    "\n",
    "# 参数\n",
    "input_size = 5   # 每个时间步的输入特征维度\n",
    "hidden_size = 3  # 隐藏层维度\n",
    "seq_len = 4\n",
    "batch_size = 2\n",
    "\n",
    "# 定义 RNN\n",
    "rnn = nn.RNN(input_size, hidden_size, batch_first=True)\n",
    "\n",
    "# 输入 (batch, seq, feature)\n",
    "x = torch.randn(batch_size, seq_len, input_size)\n",
    "\n",
    "# 前向传播\n",
    "output, h_n = rnn(x)\n",
    "\n",
    "print(\"输入 x:\", x.shape)         # [2, 4, 5]\n",
    "print(\"输出 output:\", output.shape) # [2, 4, 3]\n",
    "print(\"最终隐藏状态 h_n:\", h_n.shape) # [1, 2, 3]\n"
   ]
  },
  {
   "cell_type": "markdown",
   "id": "206c45b8-aa12-472a-a6dd-6ce7378a876e",
   "metadata": {},
   "source": [
    "### (2) 多层 RNN"
   ]
  },
  {
   "cell_type": "code",
   "execution_count": null,
   "id": "a7879e27-1f71-4ab8-a6e7-e1450eb3eb3d",
   "metadata": {},
   "outputs": [],
   "source": [
    "rnn = nn.RNN(input_size=5,  # 输入特征维度\n",
    "             hidden_size=3, # 隐藏层维度\n",
    "             num_layers=2,  # 堆叠多少层RNN\n",
    "             batch_first=True)\n",
    "x = torch.randn(2, 4, 5)\n",
    "output, h_n = rnn(x)\n",
    "\n",
    "print(\"output:\", output.shape)  # [2, 4, 3]\n",
    "print(\"h_n:\", h_n.shape)        # [2, 2, 3] → (层数, batch, hidden_size)\n"
   ]
  },
  {
   "cell_type": "markdown",
   "id": "17c45a09-639c-4b45-9d9a-73569984dc80",
   "metadata": {},
   "source": [
    "### (3) 双向 RNN"
   ]
  },
  {
   "cell_type": "code",
   "execution_count": null,
   "id": "89363f3d-4f11-45ca-b5fa-121e3a0a9f4a",
   "metadata": {},
   "outputs": [],
   "source": [
    "rnn = nn.RNN(input_size=5, hidden_size=3, num_layers=1, bidirectional=True, batch_first=True)\n",
    "x = torch.randn(2, 4, 5)\n",
    "output, h_n = rnn(x)\n",
    "\n",
    "print(\"output:\", output.shape)  # [2, 4, 6] → hidden_size * 2\n",
    "print(\"h_n:\", h_n.shape)        # [2, 2, 3] → (2 directions, batch, hidden_size)\n"
   ]
  },
  {
   "cell_type": "markdown",
   "id": "efe1823e-7d3c-451e-a203-f32a1c9f4531",
   "metadata": {},
   "source": [
    "## 4. RNN 的缺点\n",
    "\n",
    "- 只能记忆短期依赖，长序列会出现 梯度消失/爆炸。\n",
    "\n",
    "- 在自然语言处理中通常使用 LSTM（nn.LSTM） 或 GRU（nn.GRU） 代替。"
   ]
  },
  {
   "cell_type": "code",
   "execution_count": null,
   "id": "3d568290-0481-4680-b516-b4d0f2449505",
   "metadata": {},
   "outputs": [],
   "source": []
  }
 ],
 "metadata": {
  "kernelspec": {
   "display_name": "Python [conda env:pytorch_env]",
   "language": "python",
   "name": "conda-env-pytorch_env-py"
  },
  "language_info": {
   "codemirror_mode": {
    "name": "ipython",
    "version": 3
   },
   "file_extension": ".py",
   "mimetype": "text/x-python",
   "name": "python",
   "nbconvert_exporter": "python",
   "pygments_lexer": "ipython3",
   "version": "3.12.11"
  }
 },
 "nbformat": 4,
 "nbformat_minor": 5
}

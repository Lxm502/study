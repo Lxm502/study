{
 "cells": [
  {
   "cell_type": "markdown",
   "id": "8b27edaf-f5c2-4499-9772-30335bd53919",
   "metadata": {},
   "source": [
    "# 1. nn.LSTM 基本介绍\n",
    "\n",
    "`nn.LSTM` 是 长短期记忆网络（Long Short-Term Memory, LSTM） 的实现，\n",
    "它能解决普通` RNN `的 梯度消失/梯度爆炸 问题，更适合处理长序列任务（如` NLP`、时间序列预测、语音识别）。\n",
    "\n",
    "### 定义："
   ]
  },
  {
   "cell_type": "code",
   "execution_count": null,
   "id": "e5d5368c-8a78-4fe4-8dc6-22322728831b",
   "metadata": {},
   "outputs": [],
   "source": [
    "torch.nn.LSTM(\n",
    "    input_size,      # 输入特征维度\n",
    "    hidden_size,     # 隐藏层维度\n",
    "    num_layers=1,    # 堆叠多少层 LSTM\n",
    "    bias=True,       # 是否使用偏置\n",
    "    batch_first=False, # True: 输入 (batch, seq, feature)\n",
    "    dropout=0.0,     # 层与层之间的 dropout\n",
    "    bidirectional=False # 是否为双向 LSTM\n",
    ")\n"
   ]
  },
  {
   "cell_type": "markdown",
   "id": "1bc77a4f-23f7-4558-82a6-d8b7e57df3f4",
   "metadata": {},
   "source": [
    "## 2. 输入 & 输出格式\n",
    "\n",
    "- 假设：\n",
    "\n",
    "    - batch_size = B\n",
    "    \n",
    "    - seq_len = T\n",
    "    \n",
    "    - input_size = D_in\n",
    "    \n",
    "    - hidden_size = D_h\n",
    "\n",
    "- 输入\n",
    "\n",
    "    - input：\n",
    "        - (T, B, D_in) 若 batch_first=False\n",
    "        - (B, T, D_in) 若 batch_first=True\n",
    "        - h_0（可选，初始隐藏状态）：(num_layers * num_directions, B, D_h)\n",
    "        - c_0（可选，初始细胞状态）：(num_layers * num_directions, B, D_h)\n",
    "\n",
    "- 输出\n",
    "\n",
    "    - output：\n",
    "        - (T, B, num_directions * D_h) 或 (B, T, num_directions * D_h)。包含每个时间步的隐藏状态。\n",
    "    \n",
    "    - (h_n, c_n)：\n",
    "    \n",
    "        - h_n：最后时间步的隐藏状态 (num_layers * num_directions, B, D_h)\n",
    "        \n",
    "        - c_n：最后时间步的细胞状态 (num_layers * num_directions, B, D_h)\n",
    "\n",
    "---\n",
    "## 3. 代码示例\n",
    "### (1) 单层 LSTM"
   ]
  },
  {
   "cell_type": "code",
   "execution_count": null,
   "id": "d294f8d3-9385-4b19-8327-8f0bc185e311",
   "metadata": {},
   "outputs": [],
   "source": [
    "import torch\n",
    "import torch.nn as nn\n",
    "\n",
    "# 参数\n",
    "input_size = 5    # 每个时间步的输入特征维度\n",
    "hidden_size = 3   # 隐藏层维度\n",
    "seq_len = 4\n",
    "batch_size = 2\n",
    "\n",
    "# 定义 LSTM\n",
    "lstm = nn.LSTM(input_size, hidden_size, batch_first=True)\n",
    "\n",
    "# 输入 (batch, seq, feature)\n",
    "x = torch.randn(batch_size, seq_len, input_size)\n",
    "\n",
    "# 前向传播\n",
    "output, (h_n, c_n) = lstm(x)\n",
    "\n",
    "print(\"输入 x:\", x.shape)          # [2, 4, 5]\n",
    "print(\"输出 output:\", output.shape)  # [2, 4, 3]\n",
    "print(\"最终隐藏状态 h_n:\", h_n.shape) # [1, 2, 3]\n",
    "print(\"最终细胞状态 c_n:\", c_n.shape) # [1, 2, 3]\n"
   ]
  },
  {
   "cell_type": "markdown",
   "id": "a2c9d70c-9510-4947-9448-d594d1d9063e",
   "metadata": {},
   "source": [
    "### (2) 多层 LSTM"
   ]
  },
  {
   "cell_type": "code",
   "execution_count": null,
   "id": "9a3d6fa8-f07e-45bc-ad61-4d2f953eba3d",
   "metadata": {},
   "outputs": [],
   "source": [
    "lstm = nn.LSTM(input_size=5, hidden_size=3, num_layers=2, batch_first=True)\n",
    "x = torch.randn(2, 4, 5)\n",
    "output, (h_n, c_n) = lstm(x)\n",
    "\n",
    "print(\"output:\", output.shape)   # [2, 4, 3]\n",
    "print(\"h_n:\", h_n.shape)         # [2, 2, 3] (2 层, batch=2, hidden=3)\n",
    "print(\"c_n:\", c_n.shape)         # [2, 2, 3]\n"
   ]
  },
  {
   "cell_type": "markdown",
   "id": "834220e9-c0b3-44f9-8da2-6a52ac5254d1",
   "metadata": {},
   "source": [
    "### (3) 双向 LSTM"
   ]
  },
  {
   "cell_type": "code",
   "execution_count": null,
   "id": "6fc2bf16-e7aa-41aa-9319-8e5bcef42c37",
   "metadata": {},
   "outputs": [],
   "source": [
    "lstm = nn.LSTM(input_size=5, hidden_size=3, num_layers=1, bidirectional=True, batch_first=True)\n",
    "x = torch.randn(2, 4, 5)\n",
    "output, (h_n, c_n) = lstm(x)\n",
    "\n",
    "print(\"output:\", output.shape)   # [2, 4, 6] (hidden_size * 2)\n",
    "print(\"h_n:\", h_n.shape)         # [2, 2, 3] (2 directions, batch=2, hidden=3)\n",
    "print(\"c_n:\", c_n.shape)         # [2, 2, 3]\n"
   ]
  },
  {
   "cell_type": "markdown",
   "id": "9e804f82-3931-4f0b-b4b8-40d53433bc18",
   "metadata": {},
   "source": [
    "## 4. LSTM 的优势\n",
    "\n",
    "- 记忆长序列依赖（相比 RNN）\n",
    "\n",
    "- 缓解梯度消失/爆炸\n",
    "\n",
    "- 更适合 NLP / 时间序列"
   ]
  },
  {
   "cell_type": "code",
   "execution_count": null,
   "id": "6493931d-e164-4efa-8188-1ebc7976ca6a",
   "metadata": {},
   "outputs": [],
   "source": []
  }
 ],
 "metadata": {
  "kernelspec": {
   "display_name": "Python [conda env:pytorch_env]",
   "language": "python",
   "name": "conda-env-pytorch_env-py"
  },
  "language_info": {
   "codemirror_mode": {
    "name": "ipython",
    "version": 3
   },
   "file_extension": ".py",
   "mimetype": "text/x-python",
   "name": "python",
   "nbconvert_exporter": "python",
   "pygments_lexer": "ipython3",
   "version": "3.12.11"
  }
 },
 "nbformat": 4,
 "nbformat_minor": 5
}

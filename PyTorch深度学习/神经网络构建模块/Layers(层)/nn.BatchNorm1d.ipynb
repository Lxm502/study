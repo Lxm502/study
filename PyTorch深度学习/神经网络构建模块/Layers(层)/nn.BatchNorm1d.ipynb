{
 "cells": [
  {
   "cell_type": "markdown",
   "id": "60b44951-9e91-44b6-8ae8-ea8258995b47",
   "metadata": {},
   "source": [
    "# nn.BatchNorm1d \n",
    "用于在训练神经网络时对数据进行批`归一化`（Batch Normalization）。它主要用于处理一维数据，通常用于`全连接层或线性层之后`。\n",
    "\n",
    "- `批归一化`（Batch Normalization） 是一种常用的技术，它通过对每个批次（batch）的输入数据进行规范化，来解决训练深度神经网络时遇到的一个主要问题：`内部协变量偏移`（Internal Covariate Shift）。\n",
    "\n",
    "- `内部协变量偏移`（Internal Covariate Shift）\n",
    "简单来说，当训练一个深度网络时，每个层的输入分布都会随着前一层参数的更新而不断变化。这种变化使得网络训练变得不稳定，需要更小的学习率和更仔细的参数初始化。这就像是一个学生，老师每次上课讲的知识点顺序都不一样，学生很难适应。\n",
    "\n",
    "- 批归一化就像是给每一层的输入数据“标准化”一下，让它们的`均值接近于0`，`方差接近于1`。这样，不管前一层怎么变，下一层看到的输入数据都是稳定在一个固定的范围里，网络训练起来就更容易、更快、更稳定。\n",
    "\n",
    "---\n",
    "## nn.BatchNorm1d 的工作原理\n",
    "`nn.BatchNorm1d` 在训练时对每个批次的数据执行以下操作：\n",
    "\n",
    "- 1、计算批次均值和方差：\n",
    "`nn.BatchNorm1d` 会计算当前批次中每个特征（`feature`）的均值（`mean`）和方差（`variance`）。\n",
    "\n",
    "- 2、归一化：\n",
    "使用计算出的均值和方差，对每个数据点进行标准化\n",
    "\n",
    "- 3、缩放和偏移（Scale and Shift）：\n",
    "为了保持模型的表达能力，批归一化不会直接使用归一化后的数据。它会引入两个可学习的参数：γ（gamma，缩放）和 β（beta，偏移）。\n",
    "\n",
    "\n",
    "$y_i = \\gamma \\hat{x}_i + \\beta$\n",
    "\n",
    "- `γ` 和 `β` 是模型在训练过程中学习到的参数，它们可以帮助模型恢复数据的原始分布，如果它认为这样更有效的话。\n"
   ]
  },
  {
   "cell_type": "markdown",
   "id": "fc25bb10-e637-41bc-96fe-3036ab7fab3c",
   "metadata": {},
   "source": [
    "---\n",
    "### `nn.BatchNorm1d` 在训练和推理时的不同行为\n",
    "\n",
    "- 训练模式（`model.train()`）：\n",
    "\n",
    "`nn.BatchNorm1d` 会使用当前批次的均值和方差来归一化数据。同时，它会计算所有批次的均值和方差的`移动平均`（`moving average`），并将其作为模型的运行均值（`running mean`）和运行方差（`running variance`）进行保存。\n",
    "\n",
    "- 推理模式（`model.eval()`）：\n",
    "\n",
    "在推理时，我们通常只处理单个样本或小批量数据，计算均值和方差不稳定。因此，`nn.BatchNorm1d` 不再使用当前批次的均值和方差，而是使用在训练过程中累积的运行均值和运行方差来归一化数据。这确保了在推理时，网络的输出是确定的，并且不受批次大小的影响。"
   ]
  },
  {
   "cell_type": "markdown",
   "id": "cfceaa7c-5278-4777-9d8f-730baf0b264e",
   "metadata": {},
   "source": [
    "---\n",
    "## 如何使用 `nn.BatchNorm1d`？\n",
    "`nn.BatchNorm1d` 通常放在`线性层`（nn.Linear）和`非线性激活函数`（如 nn.ReLU）`之间`。\n",
    "\n",
    "下面是一个简单的例子，展示了如何在一个小型全连接网络中使用 `nn.BatchNorm1d`。"
   ]
  },
  {
   "cell_type": "code",
   "execution_count": null,
   "id": "62f11da0-14f0-4ce7-9dd9-fd5bc2ed74bd",
   "metadata": {},
   "outputs": [],
   "source": [
    "import torch\n",
    "import torch.nn as nn\n",
    "\n",
    "# 定义一个使用 nn.BatchNorm1d 的网络\n",
    "class Net(nn.Module):\n",
    "    def __init__(self, input_dim, hidden_dim, output_dim):\n",
    "        super(Net, self).__init__()\n",
    "        # 第一个线性层\n",
    "        self.fc1 = nn.Linear(input_dim, hidden_dim)\n",
    "        # 批归一化层，参数是前一层的输出维度\n",
    "        self.bn1 = nn.BatchNorm1d(hidden_dim)\n",
    "        # 第二个线性层\n",
    "        self.fc2 = nn.Linear(hidden_dim, output_dim)\n",
    "        # 激活函数\n",
    "        self.relu = nn.ReLU()\n",
    "\n",
    "    def forward(self, x):\n",
    "        # 线性层 -> 批归一化 -> 激活函数\n",
    "        x = self.fc1(x)\n",
    "        x = self.bn1(x)\n",
    "        x = self.relu(x)\n",
    "        # 第二个线性层\n",
    "        x = self.fc2(x)\n",
    "        return x\n",
    "\n",
    "# 创建一个网络实例\n",
    "input_dim = 10\n",
    "hidden_dim = 50\n",
    "output_dim = 2\n",
    "model = Net(input_dim, hidden_dim, output_dim)\n",
    "\n",
    "# 创建一个随机输入数据，形状为 (batch_size, input_dim)\n",
    "batch_size = 64\n",
    "input_data = torch.randn(batch_size, input_dim)\n",
    "\n",
    "# 将数据传入模型\n",
    "output = model(input_data)\n",
    "print(\"输出张量的形状:\", output.shape)"
   ]
  },
  {
   "cell_type": "markdown",
   "id": "bad2e3f9-cc7b-4c41-87da-b2eca1747bba",
   "metadata": {},
   "source": [
    "### 关键点：\n",
    "`nn.BatchNorm1d` 的参数是`特征的维度`，而不是整个输入张量的维度。在上例中，`self.bn1` = `nn.BatchNorm1d(hidden_dim)`，因为 `self.fc1 `层的输出维度是 `hidden_dim`。\n",
    "\n",
    "总而言之，`nn.BatchNorm1d` 是一个强大的工具，可以显著提高深度学习模型的训练效率和稳定性，是构建现代神经网络的常用组件。"
   ]
  },
  {
   "cell_type": "code",
   "execution_count": null,
   "id": "0265591c-0c64-480b-aecb-4b32b5304441",
   "metadata": {},
   "outputs": [],
   "source": []
  }
 ],
 "metadata": {
  "kernelspec": {
   "display_name": "Python [conda env:pytorch_env]",
   "language": "python",
   "name": "conda-env-pytorch_env-py"
  },
  "language_info": {
   "codemirror_mode": {
    "name": "ipython",
    "version": 3
   },
   "file_extension": ".py",
   "mimetype": "text/x-python",
   "name": "python",
   "nbconvert_exporter": "python",
   "pygments_lexer": "ipython3",
   "version": "3.12.11"
  }
 },
 "nbformat": 4,
 "nbformat_minor": 5
}

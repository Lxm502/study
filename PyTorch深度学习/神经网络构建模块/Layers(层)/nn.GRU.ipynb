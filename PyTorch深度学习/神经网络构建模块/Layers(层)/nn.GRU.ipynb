{
 "cells": [
  {
   "cell_type": "markdown",
   "id": "44a59142-d563-4c5f-8a21-9a96aaf4b220",
   "metadata": {},
   "source": [
    "# 1. nn.GRU 基本介绍\n",
    "\n",
    "`nn.GRU `是 `门控循环单元`（Gated Recurrent Unit） 的实现。\n",
    "它是 `LSTM `的简化版，只有 `更新门`（update gate） 和 `重置门`（reset gate），没有 LSTM 的 `细胞状态 c`。\n",
    "- 相比 LSTM：\n",
    "\n",
    "    - 参数更少，计算更快\n",
    "    \n",
    "    - 效果接近甚至优于 LSTM（具体要看任务）\n",
    "\n",
    "### 定义："
   ]
  },
  {
   "cell_type": "code",
   "execution_count": null,
   "id": "817fa802-5019-48e5-a3eb-09de696f8de0",
   "metadata": {},
   "outputs": [],
   "source": [
    "torch.nn.GRU(\n",
    "    input_size,       # 输入特征维度\n",
    "    hidden_size,      # 隐藏层维度\n",
    "    num_layers=1,     # 堆叠多少层 GRU\n",
    "    bias=True,        # 是否使用偏置\n",
    "    batch_first=False,# True: 输入 (batch, seq, feature)\n",
    "    dropout=0.0,      # 层与层之间的 dropout\n",
    "    bidirectional=False # 是否为双向 GRU\n",
    ")\n"
   ]
  },
  {
   "cell_type": "markdown",
   "id": "3877ecad-ad68-4b48-b05b-255c04513e67",
   "metadata": {},
   "source": [
    "# 2. 输入 & 输出格式\n",
    "\n",
    "- 假设：\n",
    "\n",
    "    - batch_size = B\n",
    "    - seq_len = T\n",
    "    - input_size = D_in\n",
    "    - hidden_size = D_h\n",
    "\n",
    "- 输入\n",
    "\n",
    "    - input：\n",
    "        - (T, B, D_in) 若 batch_first=False\n",
    "        - (B, T, D_in) 若 batch_first=True\n",
    "        - h_0（可选，初始隐藏状态）：(num_layers * num_directions, B, D_h)\n",
    "\n",
    "- 输出\n",
    "\n",
    "    - output：\n",
    "        - (T, B, num_directions * D_h) 或 (B, T, num_directions * D_h).包含每个时间步的隐藏状态。\n",
    "        \n",
    "        - h_n：(num_layers * num_directions, B, D_h)\n",
    "最后一个时间步的隐藏状态（没有 LSTM 的 c_n）。\n",
    "\n",
    "---\n",
    "# 3. 代码示例\n",
    "### (1) 单层 GRU"
   ]
  },
  {
   "cell_type": "code",
   "execution_count": null,
   "id": "8200727f-59da-495c-9b38-285a930bac24",
   "metadata": {},
   "outputs": [],
   "source": [
    "import torch\n",
    "import torch.nn as nn\n",
    "\n",
    "# 参数\n",
    "input_size = 5     # 每个时间步的输入特征维度\n",
    "hidden_size = 3    # 隐藏层维度\n",
    "seq_len = 4\n",
    "batch_size = 2\n",
    "\n",
    "# 定义 GRU\n",
    "gru = nn.GRU(input_size, hidden_size, batch_first=True)\n",
    "\n",
    "# 输入 (batch, seq, feature)\n",
    "x = torch.randn(batch_size, seq_len, input_size)\n",
    "\n",
    "# 前向传播\n",
    "output, h_n = gru(x)\n",
    "\n",
    "print(\"输入 x:\", x.shape)          # [2, 4, 5]\n",
    "print(\"输出 output:\", output.shape) # [2, 4, 3]\n",
    "print(\"最终隐藏状态 h_n:\", h_n.shape) # [1, 2, 3]\n"
   ]
  },
  {
   "cell_type": "markdown",
   "id": "e54aa28b-025b-408c-a6e7-18c31d66f572",
   "metadata": {},
   "source": [
    "### (2) 多层 GRU"
   ]
  },
  {
   "cell_type": "code",
   "execution_count": null,
   "id": "42f80056-b09e-45cd-adb4-ff83662dd2ae",
   "metadata": {},
   "outputs": [],
   "source": [
    "gru = nn.GRU(input_size=5, hidden_size=3, num_layers=2, batch_first=True)\n",
    "x = torch.randn(2, 4, 5)\n",
    "output, h_n = gru(x)\n",
    "\n",
    "print(\"output:\", output.shape)   # [2, 4, 3]\n",
    "print(\"h_n:\", h_n.shape)         # [2, 2, 3] (2 层, batch=2, hidden=3)\n"
   ]
  },
  {
   "cell_type": "markdown",
   "id": "6e376a0b-7159-42a1-a944-0d8ba20075b0",
   "metadata": {},
   "source": [
    "### (3) 双向 GRU"
   ]
  },
  {
   "cell_type": "code",
   "execution_count": null,
   "id": "c5cb143e-8201-41e0-af33-3f16cefb2573",
   "metadata": {},
   "outputs": [],
   "source": [
    "gru = nn.GRU(input_size=5, hidden_size=3, num_layers=1, bidirectional=True, batch_first=True)\n",
    "x = torch.randn(2, 4, 5)\n",
    "output, h_n = gru(x)\n",
    "\n",
    "print(\"output:\", output.shape)   # [2, 4, 6] (hidden_size * 2)\n",
    "print(\"h_n:\", h_n.shape)         # [2, 2, 3] (2 directions, batch=2, hidden=3)\n"
   ]
  },
  {
   "cell_type": "markdown",
   "id": "53a8a5e0-ec6c-47ba-b9fb-2db01e544bd3",
   "metadata": {},
   "source": [
    "# 4. GRU 的优势\n",
    "\n",
    "- 比 LSTM 更轻量（参数更少，速度更快）\n",
    "\n",
    "- 没有细胞状态 c，实现更简洁\n",
    "\n",
    "- 在很多任务上表现与 LSTM 差不多甚至更好\n",
    "\n",
    "- 但在一些需要长期记忆的任务中，LSTM 可能更优"
   ]
  }
 ],
 "metadata": {
  "kernelspec": {
   "display_name": "Python [conda env:pytorch_env]",
   "language": "python",
   "name": "conda-env-pytorch_env-py"
  },
  "language_info": {
   "codemirror_mode": {
    "name": "ipython",
    "version": 3
   },
   "file_extension": ".py",
   "mimetype": "text/x-python",
   "name": "python",
   "nbconvert_exporter": "python",
   "pygments_lexer": "ipython3",
   "version": "3.12.11"
  }
 },
 "nbformat": 4,
 "nbformat_minor": 5
}

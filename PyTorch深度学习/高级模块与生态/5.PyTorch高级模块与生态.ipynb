{
 "cells": [
  {
   "cell_type": "markdown",
   "id": "29f18424-5a44-4f86-9baa-94b1191a7683",
   "metadata": {},
   "source": [
    "# 🔹 5. 高级模块与生态\n",
    "\n",
    "torchvision：计算机视觉工具包（预训练模型、图像处理）\n",
    "\n",
    "torchtext：自然语言处理工具包（文本处理、词向量）\n",
    "\n",
    "torchaudio：语音处理工具包（音频预处理、语音识别）\n",
    "\n",
    "torch.distributed：分布式训练\n",
    "\n",
    "torch.jit：模型序列化与加速（TorchScript）\n",
    "\n",
    "torch.quantization：模型量化\n",
    "\n",
    "torch.fx：模型转换与优化"
   ]
  },
  {
   "cell_type": "code",
   "execution_count": null,
   "id": "bae40205-c514-4102-a1b7-5dd31e2a69d4",
   "metadata": {},
   "outputs": [],
   "source": []
  }
 ],
 "metadata": {
  "kernelspec": {
   "display_name": "Python [conda env:deepseek_env]",
   "language": "python",
   "name": "conda-env-deepseek_env-py"
  },
  "language_info": {
   "codemirror_mode": {
    "name": "ipython",
    "version": 3
   },
   "file_extension": ".py",
   "mimetype": "text/x-python",
   "name": "python",
   "nbconvert_exporter": "python",
   "pygments_lexer": "ipython3",
   "version": "3.12.9"
  }
 },
 "nbformat": 4,
 "nbformat_minor": 5
}

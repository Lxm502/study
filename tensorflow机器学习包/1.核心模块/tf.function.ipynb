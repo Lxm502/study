{
 "cells": [
  {
   "cell_type": "markdown",
   "id": "74ba3b6f-77c9-4f34-8345-d2ddf3829d78",
   "metadata": {},
   "source": [
    "# tf.function \n",
    "是 TensorFlow 中一个非常重要的装饰器，它的作用是 将 Python 中的函数转换为 TensorFlow 的计算图（Graph），从而提升执行效率、支持图模式的优化和部署。\n",
    "\n",
    "## ✅ 基本用法"
   ]
  },
  {
   "cell_type": "code",
   "execution_count": null,
   "id": "2d643364-5025-4f94-a602-9c0af1f1fe48",
   "metadata": {},
   "outputs": [],
   "source": [
    "import tensorflow as tf\n",
    "\n",
    "@tf.function\n",
    "def add(a, b):\n",
    "    return a + b\n",
    "\n",
    "x = tf.constant(2)\n",
    "y = tf.constant(3)\n",
    "print(add(x, y))  # 输出：tf.Tensor(5, shape=(), dtype=int32)\n"
   ]
  },
  {
   "cell_type": "markdown",
   "id": "72e5aabe-62c9-4ca2-acd9-091d0c4f54e1",
   "metadata": {},
   "source": [
    "和普通的 Python 函数不同，tf.function 会将函数 编译为图模式（Graph Mode），避免解释器开销，使 TensorFlow 更快、更优化。\n",
    "\n",
    "### 📌 使用场景\n",
    "训练循环（如 train_step()）\\\n",
    "自定义模型中的 forward 方法（call()）\\\n",
    "性能瓶颈的函数\\\n",
    "导出 SavedModel（部署时）\n",
    "\n",
    "### ✅ 等价的写法\n",
    "你也可以这样调用："
   ]
  },
  {
   "cell_type": "code",
   "execution_count": null,
   "id": "cc542e96-1edf-49ba-b954-8d0507a0fba5",
   "metadata": {},
   "outputs": [],
   "source": [
    "def multiply(a, b):\n",
    "    return a * b\n",
    "\n",
    "graph_func = tf.function(multiply)\n",
    "print(graph_func(tf.constant(4), tf.constant(5)))\n"
   ]
  },
  {
   "cell_type": "markdown",
   "id": "622783b2-558a-456c-b186-e48b3f7fb857",
   "metadata": {},
   "source": [
    "## ⚠ 注意事项\n",
    "1. 不要在函数中使用Python 的 print："
   ]
  },
  {
   "cell_type": "code",
   "execution_count": null,
   "id": "2049cfea-991e-479e-816c-cc9dc40637b9",
   "metadata": {},
   "outputs": [],
   "source": [
    "@tf.function\n",
    "def f(x):\n",
    "    print(\"Tracing...\")  # 只会在首次“tracing”时执行\n",
    "    return x * x\n",
    "    \n",
    "使用 tf.print() 代替，它会出现在图执行中。"
   ]
  },
  {
   "cell_type": "markdown",
   "id": "32604cf2-e704-4b7a-889e-b0cf7916e767",
   "metadata": {},
   "source": [
    "2. 动态控制流建议使用 TensorFlow 版本的操作，如：\\\n",
    "tf.cond() 代替 if \\\n",
    "tf.while_loop() 代替 while \\\n",
    "虽然现在 tf.function 也能追踪部分 Python 控制流，但图模式中建议使用 TF 控制流操作以确保兼容性。\n",
    "\n",
    "3. 自动追踪和缓存\\\n",
    "当 tf.function 装饰的函数被调用时，它会根据传入参数类型构建不同的计算图，并缓存起来。不同的参数类型会触发重新 tracing。\n",
    "\n",
    "#### 🔍 查看 Graph 模式\n",
    "你可以查看函数构建的 Graph："
   ]
  },
  {
   "cell_type": "code",
   "execution_count": null,
   "id": "a1f8306c-25f6-490a-877b-26ca6e9d1d04",
   "metadata": {},
   "outputs": [],
   "source": [
    "@tf.function\n",
    "def square(x):\n",
    "    return x * x\n",
    "\n",
    "print(square.get_concrete_function(tf.TensorSpec(shape=None, dtype=tf.float32)).graph)\n"
   ]
  },
  {
   "cell_type": "markdown",
   "id": "0df52443-86c3-41f6-9f54-68d2308784c2",
   "metadata": {},
   "source": [
    "#### ✅ 常用于训练步骤中"
   ]
  },
  {
   "cell_type": "code",
   "execution_count": null,
   "id": "68272211-3eea-438a-8f87-393875df7136",
   "metadata": {},
   "outputs": [],
   "source": [
    "@tf.function\n",
    "def train_step(images, labels):\n",
    "    with tf.GradientTape() as tape:\n",
    "        predictions = model(images, training=True)\n",
    "        loss = loss_fn(labels, predictions)\n",
    "    gradients = tape.gradient(loss, model.trainable_variables)\n",
    "    optimizer.apply_gradients(zip(gradients, model.trainable_variables))\n",
    "    return loss\n"
   ]
  },
  {
   "cell_type": "code",
   "execution_count": null,
   "id": "64504d11-8c55-499e-88ab-e1a52bc94ecc",
   "metadata": {},
   "outputs": [],
   "source": []
  }
 ],
 "metadata": {
  "kernelspec": {
   "display_name": "Python [conda env:deepseek_env]",
   "language": "python",
   "name": "conda-env-deepseek_env-py"
  },
  "language_info": {
   "codemirror_mode": {
    "name": "ipython",
    "version": 3
   },
   "file_extension": ".py",
   "mimetype": "text/x-python",
   "name": "python",
   "nbconvert_exporter": "python",
   "pygments_lexer": "ipython3",
   "version": "3.12.9"
  }
 },
 "nbformat": 4,
 "nbformat_minor": 5
}

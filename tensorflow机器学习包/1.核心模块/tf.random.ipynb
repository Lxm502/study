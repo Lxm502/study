{
 "cells": [
  {
   "cell_type": "markdown",
   "id": "07c00a57-2da2-4d7b-a4df-de986741907d",
   "metadata": {},
   "source": [
    "# tf.random \n",
    "是 TensorFlow 中用于生成随机数的模块，广泛应用于：\n",
    "-  初始化权重\n",
    "-  打乱数据\n",
    "-  生成噪声\n",
    "-  构建模拟数据\n",
    "\n",
    "# 📦 一、常用函数总览\n",
    "| 函数                             | 用途              | 示例                           |\n",
    "| ------------------------------ | --------------- | ---------------------------- |\n",
    "| `tf.random.normal()`           | 生成正态分布（高斯分布）随机数 | 权重初始化                        |\n",
    "| `tf.random.uniform()`          | 生成均匀分布随机数       | 噪声、偏置初始化                     |\n",
    "| `tf.random.truncated_normal()` | 截断正态分布（避免极端值）   | 默认用于 `tf.keras.initializers` |\n",
    "| `tf.random.shuffle()`          | 打乱张量的第一维        | 数据预处理                        |\n",
    "| `tf.random.set_seed()`         | 设置全局随机种子        | 实验复现                         |\n",
    "\n",
    "---\n",
    "# `tf.random.normal` 参数详解\n",
    "\n",
    "`tf.random.normal` 是 TensorFlow 中用于从正态（高斯）分布中生成随机值的函数。\n",
    "\n",
    "```python\n",
    "tf.random.normal(\n",
    "    shape,\n",
    "    mean=0.0,\n",
    "    stddev=1.0,\n",
    "    dtype=tf.dtypes.float32,\n",
    "    seed=None,\n",
    "    name=None\n",
    ")\n"
   ]
  },
  {
   "cell_type": "markdown",
   "id": "f2f0e102-3d91-480b-8011-9441583a1eb0",
   "metadata": {},
   "source": [
    "\n",
    "| 参数 | 类型 | 说明 |\n",
    "| :--- | :--- | :--- |\n",
    "| **`shape`** | `TensorShape` 或 `list/tuple of ints` | **必需**。指定输出张量的形状（维度）。例如，`[3, 4]` 将生成一个 3 行 4 列的二维张量。 |\n",
    "| **`mean`** | `0-D Tensor` 或 `Python value` | 可选。正态分布的均值（期望值）。默认为 `0.0`。可以是任何可转换为张量的数值。 |\n",
    "| **`stddev`** | `0-D Tensor` 或 `Python value` | 可选。正态分布的标准差。必须是非负数。默认为 `1.0`。 |\n",
    "| **`dtype`** | `tf.DType` | 可选。输出张量的数据类型。仅支持浮点类型：`tf.float16`, `tf.bfloat16`, `tf.float32`, `tf.float64`, `tf.complex64`, `tf.complex128`。默认为 `tf.float32`。 |\n",
    "| **`seed`** | `int` 或 `None` | 可选。用于随机数生成的种子。为了可重现性，可以设置一个整数值。如果设置为 `None`（默认），则使用随机种子。如果提供了种子，生成的随机数序列在每次运行时将是相同的（在相同环境下）。 |\n",
    "| **`name`** | `str` 或 `None` | 可选。此操作的名称前缀。主要用于在 TensorFlow 图中标识操作。如果未提供，则使用默认名称 `\"random_normal\"`。 |\n",
    "\n",
    "    📌 常用于初始化模型权重，例如 Xavier 初始化。"
   ]
  },
  {
   "cell_type": "markdown",
   "id": "9dec80b2-6747-402d-b371-4ccfa00c7ffb",
   "metadata": {},
   "source": [
    "---\n",
    "# `tf.random.uniform` 参数详解\n",
    "\n",
    "`tf.random.uniform` 是 TensorFlow 中用于从均匀分布中生成随机值的函数。\n",
    "\n",
    "```python\n",
    "tf.random.uniform(\n",
    "    shape,\n",
    "    minval=0,\n",
    "    maxval=None,\n",
    "    dtype=tf.dtypes.float32,\n",
    "    seed=None,\n",
    "    name=None\n",
    ")\n"
   ]
  },
  {
   "cell_type": "markdown",
   "id": "68c4b3cc-e11c-48b9-b007-92204b825c5b",
   "metadata": {},
   "source": [
    "\n",
    "| 参数 | 类型 | 说明 |\n",
    "| :--- | :--- | :--- |\n",
    "| **`shape`** | `TensorShape` 或 `list/tuple of ints` | **必需**。指定输出张量的形状（维度）。例如，`[2, 3]` 将生成一个 2 行 3 列的二维张量。 |\n",
    "| **`minval`** | `0-D Tensor` 或 `Python value` | 可选。均匀分布的下限（包含）。默认为 `0`。必须可转换为 `dtype` 类型。 |\n",
    "| **`maxval`** | `0-D Tensor` 或 `Python value` | 可选。均匀分布的上限（不包含）。对于整数类型，默认为 `dtype` 的最大可表示值加 1（例如 `int32` 默认为 `2147483648`）。对于浮点类型，必须指定此值（除非 `minval` 为浮点数且 `maxval` 为 `None`，此时 `maxval` 默认为 `1.0`）。 |\n",
    "| **`dtype`** | `tf.DType` | 可选。输出张量的数据类型。支持整数和浮点类型，如 `tf.int32`, `tf.int64`, `tf.float32`, `tf.float64` 等。默认为 `tf.float32`。 |\n",
    "| **`seed`** | `int` 或 `None` | 可选。用于随机数生成的种子。为了可重现性，可以设置一个整数值。如果设置为 `None`（默认），则使用随机种子。如果提供了种子，生成的随机数序列在每次运行时将是相同的（在相同环境下）。 |\n",
    "| **`name`** | `str` 或 `None` | 可选。此操作的名称前缀。主要用于在 TensorFlow 图中标识操作。如果未提供，则使用默认名称 `\"random_uniform\"`。 |\n",
    "\n",
    "📌 比如生成 [0, 10) 区间内的整数随机数。"
   ]
  },
  {
   "cell_type": "markdown",
   "id": "bb81613d-a273-461f-ac1d-2f64dc0536fd",
   "metadata": {},
   "source": [
    "---\n",
    "# `tf.random.truncated_normal` 参数详解\n",
    "\n",
    "`tf.random.truncated_normal` 是 TensorFlow 中用于从截断的正态分布（高斯分布）中生成随机值的函数。与标准正态分布不同，截断正态分布会丢弃那些距离均值超过 2 个标准差的值，并从分布中重新采样，从而确保所有生成的值都落在 `mean ± 2 * stddev` 的区间内。\n",
    "\n",
    "```python\n",
    "tf.random.truncated_normal(\n",
    "    shape,\n",
    "    mean=0.0,\n",
    "    stddev=1.0,\n",
    "    dtype=tf.dtypes.float32,\n",
    "    seed=None,\n",
    "    name=None\n",
    ")\n"
   ]
  },
  {
   "cell_type": "markdown",
   "id": "16a6007b-bd04-4b7f-b619-b9783901b92a",
   "metadata": {},
   "source": [
    "### 参数说明\n",
    "\n",
    "| 参数名 | 类型 | 说明 |\n",
    "| :--- | :--- | :--- |\n",
    "| **shape** | `TensorShape` 或 `list/tuple of ints` | **必需**。指定输出张量的形状（维度）。例如，`[3, 4]` 将生成一个 3 行 4 列的二维张量。 |\n",
    "| **mean** | `0-D Tensor` 或 `Python value` | **可选**。截断正态分布的均值（期望值）。默认为 `0.0`。可以是任何可转换为张量的数值。 |\n",
    "| **stddev** | `0-D Tensor` 或 `Python value` | **可选**。截断正态分布的标准差。必须是非负数。默认为 `1.0`。生成的值将落在 `[mean - 2 * stddev, mean + 2 * stddev]` 区间内。 |\n",
    "| **dtype** | `tf.DType` | **可选**。输出张量的数据类型。仅支持浮点类型：`tf.float16`, `tf.bfloat16`, `tf.float32`, `tf.float64`。默认为 `tf.float32`。不支持复数类型。 |\n",
    "| **seed** | `int` 或 `None` | **可选**。用于随机数生成的种子。为了可重现性，可以设置一个整数值。如果设置为 `None`（默认），则使用随机种子。如果提供了种子，生成的随机数序列在每次运行时将是相同的（在相同环境下）。 |\n",
    "| **name** | `str` 或 `None` | **可选**。此操作的名称前缀。主要用于在 TensorFlow 图中标识操作。如果未提供，则使用默认名称 `\"truncated_normal\"`。 |\n",
    "\n",
    "✅ 避免极端权重值。用于很多默认初始化器,\\\n",
    "如 tf.keras.layers.Dense(..., kernel_initializer='truncated_normal')"
   ]
  },
  {
   "cell_type": "markdown",
   "id": "27898c21-057d-4b78-9f46-befe10bb71e6",
   "metadata": {},
   "source": [
    "---\n",
    "# `tf.random.shuffle` 参数详解\n",
    "\n",
    "`tf.random.shuffle` 是 TensorFlow 中用于沿第一维（维度 0）随机打乱张量元素顺序的函数。它常用于打乱数据集的样本顺序，以避免训练时的顺序偏差。\n",
    "\n",
    "```python\n",
    "tf.random.shuffle(\n",
    "    value,\n",
    "    seed=None,\n",
    "    name=None\n",
    ")"
   ]
  },
  {
   "cell_type": "markdown",
   "id": "61b7909b-d302-40e1-afd9-1a1f2a3e7493",
   "metadata": {},
   "source": [
    "### 参数\n",
    "\n",
    "| 参数名 | 类型          | 说明                                                                                                |\n",
    "| :----- | :------------ | :-------------------------------------------------------------------------------------------------- |\n",
    "| value  | Tensor        | **必需**。需要被打乱的输入张量。函数会沿其第一维（即 `axis=0`）随机重新排列元素。例如，对于一个形状为 `[4, 3]` 的 2D 张量，它会打乱 4 行的顺序，但每一行内部的 3 个元素保持不变。 |\n",
    "| seed   | int 或 None   | **可选**。用于随机数生成的种子。为了可重现性，可以设置一个整数值。如果设置为 `None`（默认），则使用随机种子。如果提供了种子，打乱的顺序在每次运行时将是相同的（在相同环境下）。 |\n",
    "| name   | str 或 None   | **可选**。此操作的名称前缀。主要用于在 TensorFlow 图中标识操作。如果未提供，则使用默认名称 `\"shuffle\"`。            |"
   ]
  },
  {
   "cell_type": "markdown",
   "id": "2492c903-ed90-4a00-a3b3-98cb62013932",
   "metadata": {},
   "source": [
    "---\n",
    "# tf.random.set_seed(seed)\n",
    "✅ 设置随机种子，确保结果可复现\\\n",
    "tf.random.set_seed(42)  # 再次运行也得到一样的结果\\\n",
    "print(tf.random.normal([2, 2]))\\\n",
    "💡 注意：有些函数还可以设置局部种子，比如 seed=123。\n",
    "\n",
    "---\n",
    "## 🧠 三、与 NumPy 随机函数对比\n",
    "| NumPy                 | TensorFlow            |\n",
    "| --------------------- | --------------------- |\n",
    "| `np.random.randn()`   | `tf.random.normal()`  |\n",
    "| `np.random.rand()`    | `tf.random.uniform()` |\n",
    "| `np.random.shuffle()` | `tf.random.shuffle()` |\n",
    "\n",
    "---\n",
    "## 💡 四、常见用法：初始化模型权重\n",
    "W = tf.Variable(tf.random.truncated_normal([784, 256], stddev=0.1))\\\n",
    "b = tf.Variable(tf.zeros([256]))\n",
    "\n",
    "---\n",
    "## 🧩 五、可选：生成布尔掩码\n",
    "以一定概率设置 True / False\\\n",
    "mask = tf.random.uniform([10]) > 0.3\\\n",
    "print(mask)\n",
    "\n",
    "---\n",
    "## ✅ 总结：tf.random 函数速查表\n",
    "| 函数名                | 功能      | 常用于          |\n",
    "| ------------------ | ------- | ------------ |\n",
    "| `normal`           | 正态分布    | 权重初始化、模拟高斯噪声 |\n",
    "| `truncated_normal` | 截断正态分布  | 初始化（默认）      |\n",
    "| `uniform`          | 均匀分布    | 生成随机数        |\n",
    "| `shuffle`          | 打乱张量    | 数据集处理        |\n",
    "| `set_seed`         | 设置全局随机性 | 复现实验结果       |\n"
   ]
  },
  {
   "cell_type": "code",
   "execution_count": null,
   "id": "535de0f6-6c83-4086-8ca6-574dc5968ba7",
   "metadata": {},
   "outputs": [],
   "source": []
  }
 ],
 "metadata": {
  "kernelspec": {
   "display_name": "Python [conda env:deepseek_env]",
   "language": "python",
   "name": "conda-env-deepseek_env-py"
  },
  "language_info": {
   "codemirror_mode": {
    "name": "ipython",
    "version": 3
   },
   "file_extension": ".py",
   "mimetype": "text/x-python",
   "name": "python",
   "nbconvert_exporter": "python",
   "pygments_lexer": "ipython3",
   "version": "3.12.9"
  }
 },
 "nbformat": 4,
 "nbformat_minor": 5
}

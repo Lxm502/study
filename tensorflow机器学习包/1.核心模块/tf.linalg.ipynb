{
 "cells": [
  {
   "cell_type": "markdown",
   "id": "8f5f7cb3-d991-481a-a8bd-0f59f5fc8b94",
   "metadata": {},
   "source": [
    "# tf.linalg \n",
    "是 TensorFlow 中用于线性代数运算的模块，提供了丰富的线性代数相关操作，适用于机器学习、神经网络、数学计算等场景。以下是该模块的常见功能和用法：\n",
    "\n",
    "### ✅ 常用函数列表\n",
    "| 函数                            | 说明                                  |\n",
    "| ----------------------------- | ----------------------------------- |\n",
    "| `tf.linalg.matmul(a, b)`      | 矩阵乘法（等价于 `tf.matmul(a, b)`）         |\n",
    "| `tf.linalg.transpose(a)`      | 转置矩阵                                |\n",
    "| `tf.linalg.inv(a)`            | 计算逆矩阵（要求 `a` 为非奇异方阵）                |\n",
    "| `tf.linalg.det(a)`            | 计算行列式                               |\n",
    "| `tf.linalg.norm(tensor, ord)` | 求范数（默认 2 范数）                        |\n",
    "| `tf.linalg.trace(a)`          | 矩阵的迹（主对角线元素之和）                      |\n",
    "| `tf.linalg.diag(diagonal)`    | 构建对角矩阵                              |\n",
    "| `tf.linalg.eig(a)`            | 计算特征值与特征向量（复数）                      |\n",
    "| `tf.linalg.eigh(a)`           | 计算 Hermitian 或实对称矩阵的特征值/特征向量        |\n",
    "| `tf.linalg.qr(a)`             | QR 分解                               |\n",
    "| `tf.linalg.svd(a)`            | 奇异值分解（Singular Value Decomposition） |\n",
    "\n",
    "### ✅ 示例代码\n",
    "1. 矩阵乘法\n",
    "\n",
    "a = tf.constant([[1, 2], [3, 4]])\\\n",
    "b = tf.constant([[5, 6], [7, 8]])\\\n",
    "result = tf.linalg.matmul(a, b)\n",
    "      \n",
    "2. 求逆矩阵\n",
    "\n",
    "a = tf.constant([[4.0, 7.0], [2.0, 6.0]])\\\n",
    "inv_a = tf.linalg.inv(a)\n",
    "\n",
    "3. 求范数\n",
    "\n",
    "a = tf.constant([[1.0, 2.0], [3.0, 4.0]])\\\n",
    "norm_a = tf.linalg.norm(a)  # 默认是 Frobenius 范数\n",
    "\n",
    "4. 特征值分解\n",
    "\n",
    "a = tf.constant([[1.0, 2.0], [2.0, 3.0]])\\\n",
    "eigenvalues, eigenvectors = tf.linalg.eigh(a)\n",
    "\n",
    "### 🧠 注意事项\n",
    "tf.linalg.inv() 要求输入为 非奇异的方阵，否则会报错。\\\n",
    "tf.linalg.eig() 和 eigh() 输出的是复数（即使实数输入）。\\\n",
    "tf.linalg.norm() 支持多种范数类型（ord=1, ord=2, ord='fro' 等）。"
   ]
  },
  {
   "cell_type": "code",
   "execution_count": null,
   "id": "9dcef30f-2b94-4155-9deb-b2169dd726fd",
   "metadata": {},
   "outputs": [],
   "source": []
  }
 ],
 "metadata": {
  "kernelspec": {
   "display_name": "Python [conda env:deepseek_env]",
   "language": "python",
   "name": "conda-env-deepseek_env-py"
  },
  "language_info": {
   "codemirror_mode": {
    "name": "ipython",
    "version": 3
   },
   "file_extension": ".py",
   "mimetype": "text/x-python",
   "name": "python",
   "nbconvert_exporter": "python",
   "pygments_lexer": "ipython3",
   "version": "3.12.9"
  }
 },
 "nbformat": 4,
 "nbformat_minor": 5
}

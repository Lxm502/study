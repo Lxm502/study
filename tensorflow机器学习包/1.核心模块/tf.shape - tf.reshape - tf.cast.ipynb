{
 "cells": [
  {
   "cell_type": "markdown",
   "id": "aaa95eaa-86a0-4d67-a9b5-fbb3622a49ea",
   "metadata": {},
   "source": [
    "# 一、tf.shape、\n",
    "# 二、tf.reshape、\n",
    "# 三、tf.cast 、\n",
    "# 四、tf.convert_to_tensor、\n",
    "# 五、tf.expand_dims、\n",
    "# 六、tf.squeeze\n",
    "它们在处理张量形状、重构结构和类型转换时非常常用。\n",
    "\n",
    "---\n",
    "## 🔹 一、tf.shape() —— 获取张量的形状\n",
    "✅ 功能：返回张量的 动态形状（即运行时 shape）"
   ]
  },
  {
   "cell_type": "code",
   "execution_count": null,
   "id": "20044f02-3af7-42a2-9684-d92bebb98baf",
   "metadata": {},
   "outputs": [],
   "source": [
    "import tensorflow as tf\n",
    "\n",
    "x = tf.constant([[1, 2, 3], [4, 5, 6]]) # 创建不可变张量\n",
    "shape = tf.shape(x)\n",
    "print(shape)  # 输出: [2 3] --> 2行 3列\n"
   ]
  },
  {
   "cell_type": "markdown",
   "id": "1fa07cd9-a155-4d48-ad72-524abed71125",
   "metadata": {},
   "source": [
    "### 📌 特点：\n",
    "| 特性         | 说明           |\n",
    "| ---------- | ------------ |\n",
    "| 返回的是张量     | 而非 Python 元组 |\n",
    "| 支持动态 shape | 可用于计算图中作为输入  |\n",
    "✅ 和 x.shape 不同，后者返回静态 shape（Python 对象）\n",
    "\n",
    "---\n",
    "\n",
    "## 🔹 二、tf.reshape() —— 改变张量的形状（不改变数据）\n",
    "✅ 功能：重新排列张量结构，只要总元素个数不变"
   ]
  },
  {
   "cell_type": "code",
   "execution_count": null,
   "id": "2951056e-8bfb-49fc-bf81-a33ab6fed8e1",
   "metadata": {},
   "outputs": [],
   "source": [
    "x = tf.constant([[1, 2, 3], [4, 5, 6]])\n",
    "reshaped = tf.reshape(x, [3, 2])  --> 2行3列 -->3行2列 \n",
    "print(reshaped)\n",
    "# 输出:\n",
    "# [[1 2]\n",
    "#  [3 4]\n",
    "#  [5 6]]"
   ]
  },
  {
   "cell_type": "markdown",
   "id": "ef03fd36-103b-4a5a-8685-cc9772bbd2fe",
   "metadata": {},
   "source": [
    "### 📌 特点：\n",
    "| 特性       | 说明               |\n",
    "| -------- | ---------------- |\n",
    "| 数据不会改变   | 只是“换个形状”         |\n",
    "| 支持自动推导维度 | 用 `-1` 自动计算该维度大小 |\n",
    "\n",
    "### 💡 示例：自动推导维度"
   ]
  },
  {
   "cell_type": "code",
   "execution_count": null,
   "id": "d1088cb0-9623-4411-adce-eaf312a26ff9",
   "metadata": {},
   "outputs": [],
   "source": [
    "x = tf.constant([1, 2, 3, 4, 5, 6])\n",
    "x_reshaped = tf.reshape(x, [-1, 2])\n",
    "\n",
    "print(x_reshaped)  # [[1, 2], [3, 4], [5, 6]]\n",
    "\n",
    "❗ reshape 失败会报错，比如维度不一致"
   ]
  },
  {
   "cell_type": "markdown",
   "id": "2d72f098-23d5-47f5-94e4-f13a60dde600",
   "metadata": {},
   "source": [
    "## 🔹 三、tf.cast() —— 改变张量的数据类型\n",
    "✅ 功能：将张量从一种 dtype 转换为另一种"
   ]
  },
  {
   "cell_type": "code",
   "execution_count": null,
   "id": "a292f734-6107-407b-aad9-459bdf34e714",
   "metadata": {},
   "outputs": [],
   "source": [
    "x = tf.constant([1.8, 2.3, 3.9])\n",
    "x_int = tf.cast(x, tf.int32)\n",
    "print(x_int)  # 输出: [1 2 3]（直接截断）"
   ]
  },
  {
   "cell_type": "markdown",
   "id": "4fde0d17-44f3-49cc-8d29-9b4db92aa972",
   "metadata": {},
   "source": [
    "### 📌 常见类型：\n",
    "tf.float32, tf.float64 \\\n",
    "tf.int32, tf.int64\\\n",
    "tf.bool\n",
    "\n",
    "### 💡 示例：将整数转为布尔类型"
   ]
  },
  {
   "cell_type": "code",
   "execution_count": null,
   "id": "4492a20b-225e-4a55-9c6b-ae88275abcca",
   "metadata": {},
   "outputs": [],
   "source": [
    "x = tf.constant([0, 1, 2])\n",
    "x_bool = tf.cast(x, tf.bool)\n",
    "print(x_bool)  # [False True True]"
   ]
  },
  {
   "cell_type": "markdown",
   "id": "70c9a2de-bc02-4e73-9ec0-4c8cc718d99a",
   "metadata": {},
   "source": [
    "### ✅ 三者对比总结表：\n",
    "| 函数             | 功能        | 输入            | 输出     | 常用场景         |\n",
    "| -------------- | --------- | ------------- | ------ | ------------ |\n",
    "| `tf.shape()`   | 获取张量运行时形状 | 张量            | 张量（整数） | 动态 shape 处理  |\n",
    "| `tf.reshape()` | 重新定义形状    | 张量 + 新 shape  | 新张量    | 数据预处理、调整输入维度 |\n",
    "| `tf.cast()`    | 类型转换      | 张量 + 目标 dtype | 新张量    | 标签转换、归一化后还原等 |\n",
    "\n",
    "### 🎯 实战例子\n",
    "一个典型的例子，把图像（像素）输入数据归一化并转换为模型所需 shape："
   ]
  },
  {
   "cell_type": "code",
   "execution_count": null,
   "id": "74242072-385e-4c49-9378-eb7a241123a3",
   "metadata": {},
   "outputs": [],
   "source": [
    "def preprocess_image(image):\n",
    "    image = tf.cast(image, tf.float32)        # 转成 float32\n",
    "    image = tf.reshape(image, [28, 28, 1])     # 变为 [高, 宽, 通道]\n",
    "    image = image / 255.0                      # 归一化\n",
    "    return image\n"
   ]
  },
  {
   "cell_type": "code",
   "execution_count": null,
   "id": "1d58b4b7-832a-4f46-aff5-720d957ccc18",
   "metadata": {},
   "outputs": [],
   "source": []
  },
  {
   "cell_type": "markdown",
   "id": "f9d352bf-19d8-4ef8-be6b-8cf9e06ef425",
   "metadata": {},
   "source": [
    "# 🔹四、tf.convert_to_tensor\n",
    "## 一、作用\n",
    "用于将多种类型的输入（如 Python 的 list、NumPy 数组、标量、tf.Tensor 本身等）统一转换为 tf.Tensor 类型。\n",
    "\n",
    "它是 `TensorFlow` 的核心函数之一，很多 `API`（例如 tf.constant、tf.Variable）底层都调用了它。\n",
    "\n",
    "---\n",
    "## 二、函数签名"
   ]
  },
  {
   "cell_type": "code",
   "execution_count": null,
   "id": "44b7a024-1f09-407f-aa0c-395df058d5ad",
   "metadata": {},
   "outputs": [],
   "source": [
    "tf.convert_to_tensor(\n",
    "    value, \n",
    "    dtype=None, \n",
    "    dtype_hint=None, \n",
    "    name=None\n",
    ")\n"
   ]
  },
  {
   "cell_type": "markdown",
   "id": "083cbf0a-9a2b-419d-8c17-53bf619da51f",
   "metadata": {},
   "source": [
    "| 参数名 | 说明 |\n",
    "| :--- | :--- |\n",
    "| **value** | 要转换的数据，可以是：<br>• Python 的基本类型：`int`, `float`, `bool`<br>• Python 的 `list` / `tuple`<br>• NumPy 数组<br>• `tf.Tensor`（如果本身就是 Tensor，会直接返回，不会额外创建新的）<br>• 其他支持 Tensor 转换的对象 |\n",
    "| **dtype**（可选） | 指定生成 Tensor 的数据类型，比如 `tf.float32`、`tf.int32`。<br>如果不指定，TensorFlow 会自动推断。 |\n",
    "| **dtype_hint**（可选） | 数据类型的“建议值”。如果 `dtype` 没有指定，TensorFlow 会优先尝试 `dtype_hint`，再进行自动推断。<br>适合在不严格要求类型时，提示系统“最好用某个 dtype”。<br>**例子**：模型推理时你传 `int` 数据，但希望保持 `float` 计算，就可以用 `dtype_hint=tf.float32`。 |\n",
    "| **name**（可选） | 给生成的 Tensor 命名，主要用于图模式（graph mode）调试。 |\n",
    "\n",
    "---\n",
    "\n",
    "## 三、返回值\n",
    "\n",
    "- 返回一个 `tf.Tensor` 对象。\n",
    "\n",
    "---\n",
    "\n",
    "## 四、使用示例\n",
    "### 1. 基本用法"
   ]
  },
  {
   "cell_type": "code",
   "execution_count": null,
   "id": "f653d112-5fa4-446c-9210-e89b5483374e",
   "metadata": {},
   "outputs": [],
   "source": [
    "import tensorflow as tf\n",
    "import numpy as np\n",
    "\n",
    "# 从 Python list\n",
    "t1 = tf.convert_to_tensor([1, 2, 3])\n",
    "print(t1)   # tf.Tensor([1 2 3], shape=(3,), dtype=int32)\n",
    "\n",
    "# 从 NumPy 数组\n",
    "arr = np.array([[1.0, 2.0], [3.0, 4.0]])\n",
    "t2 = tf.convert_to_tensor(arr, dtype=tf.float32)\n",
    "print(t2)\n",
    "# tf.Tensor(\n",
    "# [[1. 2.]\n",
    "#  [3. 4.]], shape=(2, 2), dtype=float32)\n",
    "\n",
    "# 从 Python 标量\n",
    "t3 = tf.convert_to_tensor(7)\n",
    "print(t3)   # tf.Tensor(7, shape=(), dtype=int32)\n"
   ]
  },
  {
   "cell_type": "markdown",
   "id": "1faa4059-edf0-417e-a0aa-535c123f248f",
   "metadata": {},
   "source": [
    "### 2. dtype 与 dtype_hint 区别"
   ]
  },
  {
   "cell_type": "code",
   "execution_count": null,
   "id": "00d8f70f-46a4-4ddc-8a78-d073311813aa",
   "metadata": {},
   "outputs": [],
   "source": [
    "# 指定 dtype\n",
    "t4 = tf.convert_to_tensor([1, 2, 3], dtype=tf.float32)\n",
    "print(t4)   # dtype=float32\n",
    "\n",
    "# 仅使用 dtype_hint\n",
    "t5 = tf.convert_to_tensor([1, 2, 3], dtype_hint=tf.float32)\n",
    "print(t5)   # dtype=float32\n",
    "\n",
    "# 如果指定 dtype，会忽略 dtype_hint\n",
    "t6 = tf.convert_to_tensor([1, 2, 3], dtype=tf.int64, dtype_hint=tf.float32)\n",
    "print(t6)   # dtype=int64\n"
   ]
  },
  {
   "cell_type": "markdown",
   "id": "b03fa15f-dca9-46ca-9653-eef015b6a350",
   "metadata": {},
   "source": [
    "### 3. 避免重复创建 Tensor"
   ]
  },
  {
   "cell_type": "code",
   "execution_count": null,
   "id": "9ae2c335-e570-444c-9a52-f7a72e7c4e7c",
   "metadata": {},
   "outputs": [],
   "source": [
    "t = tf.constant([1, 2, 3])\n",
    "t_new = tf.convert_to_tensor(t)\n",
    "print(t is t_new)   # True，说明没有重复创建\n"
   ]
  },
  {
   "cell_type": "markdown",
   "id": "eb842047-bbad-4fe4-abaa-382ac86589e2",
   "metadata": {},
   "source": [
    "### 4. 实际场景应用\n",
    "\n",
    "- `Keras` / `TensorFlow` 模型输入时，把 numpy 或 list 转换为 Tensor。\n",
    "\n",
    "- 数据预处理 `pipeline` 中，把 Python 对象（比如一批数值）转成 Tensor。\n",
    "\n",
    "- 避免类型不一致，比如训练时统一转成 tf.float32。\n",
    "\n",
    "---\n",
    "## 五、和 tf.constant 的区别\n",
    "| 特性            | `tf.convert_to_tensor`                    | `tf.constant`         |\n",
    "| ------------- | ----------------------------------------- | --------------------- |\n",
    "| 作用            | 将已有对象转换为 Tensor（不拷贝已是 Tensor 的输入）         | 创建一个新的 Tensor 常量      |\n",
    "| 灵活性           | 更通用，可以输入 `Tensor`、`EagerTensor`、`NumPy` 等 | 只能从原始数据（list、numpy）创建 |\n",
    "| 返回值           | Tensor                                    | Tensor（常量）            |\n",
    "| 是否复制已有 Tensor | 不会                                        | 总是复制                  |\n",
    "\n",
    "### 例子："
   ]
  },
  {
   "cell_type": "code",
   "execution_count": null,
   "id": "3c76cdd0-b821-4efc-a123-6ac2c8d3a6cc",
   "metadata": {},
   "outputs": [],
   "source": [
    "t = tf.constant([1, 2, 3])\n",
    "print(tf.convert_to_tensor(t) is t)   # True\n",
    "print(tf.constant(t) is t)            # False"
   ]
  },
  {
   "cell_type": "markdown",
   "id": "09b23ea6-7b55-4927-9f0c-07de51451184",
   "metadata": {},
   "source": [
    "## 六、小结\n",
    "\n",
    "- `tf.convert_to_tensor` 是 输入数据到 TensorFlow 的入口函数。\n",
    "\n",
    "- 支持多种输入类型 → 统一成 `tf.Tensor`。\n",
    "\n",
    "- `dtype` 强制类型，`dtype_hint` 给出推荐类型。\n",
    "\n",
    "- 与 `tf.constant` 的主要区别在于是否“`复用`已有 `Tensor`”。"
   ]
  },
  {
   "cell_type": "code",
   "execution_count": null,
   "id": "5d25b4ae-d9fe-4d84-813d-bbdf9ccfdca7",
   "metadata": {},
   "outputs": [],
   "source": []
  },
  {
   "cell_type": "markdown",
   "id": "47db5bc0-cd47-4f50-b2d9-7b6b864c2386",
   "metadata": {},
   "source": [
    "---"
   ]
  },
  {
   "cell_type": "markdown",
   "id": "84d86969-5453-4320-b2de-032c38f5fb27",
   "metadata": {},
   "source": [
    "# 五、tf.expand_dims、\n",
    "## 1. 作用与直觉\n",
    "\n",
    "把张量的形状中某个位置插入一个新轴，且该轴长度为 1。\n",
    "- 常见于：\n",
    "\n",
    "   - 给图像/序列补 `batch` 维 或 通道维；\n",
    "\n",
    "   - 为 广播(broadcasting) 做准备（例如把 (N,) 变成 (1, N) 或 (N, 1)）；\n",
    "\n",
    "   - 让张量满足某些层/算子对 `rank` 的要求（比如 Conv2D 要求 4D：(B, H, W, C)）。\n",
    "\n",
    "---\n",
    "## 2. 函数签名"
   ]
  },
  {
   "cell_type": "code",
   "execution_count": null,
   "id": "d93efdf6-c84c-4918-abfb-89d5f447bb63",
   "metadata": {},
   "outputs": [],
   "source": [
    "tf.expand_dims(\n",
    "    input,    # --> 任意 tf.Tensor（密集张量）。\n",
    "    axis,     # --> 插入位置，可以为负数（从末尾数起）。取值范围是 [-(rank+1), rank]。\n",
    "    name=None \n",
    ")  # --> 返回：在 axis 位置多了一个长度为 1 的维度的新张量（不复制数据，本质是视图上的形状变换）。"
   ]
  },
  {
   "cell_type": "markdown",
   "id": "2346d463-c2f8-435f-a76e-f52e31d8d17f",
   "metadata": {},
   "source": [
    "## 3. 形状规则与 axis 范围\n",
    "\n",
    "设原张量 x.shape = [d0, d1, ..., d{k-1}]，rank = k。\n",
    "\n",
    "- 允许的 axis：-(k+1) <= axis <= k\n",
    "\n",
    "- 插入后形状：\n",
    "\n",
    "   - 若 axis >= 0 ：[d0, ..., d{axis-1}, 1, d{axis}, ..., d{k-1}]\n",
    "\n",
    "   - 若 axis < 0 ：把负索引换算成 `axis` = axis + (k+1) 再按上面规则插入。\n",
    "\n",
    "- 一次只能插入一个维度；要插多个，重复调用或用 `tf.reshape`。\n",
    "\n",
    "## 4. 常见用法示例"
   ]
  },
  {
   "cell_type": "code",
   "execution_count": null,
   "id": "dec63a35-8099-4acc-b31e-63a4fc061d06",
   "metadata": {},
   "outputs": [],
   "source": [
    "import tensorflow as tf\n",
    "\n",
    "x = tf.constant([1, 2, 3])     # shape: (3,)\n",
    "\n",
    "# 4.1 在最前面插入 batch 维\n",
    "xb = tf.expand_dims(x, axis=0)  # shape: (1, 3)\n",
    "\n",
    "# 4.2 在最后插入通道维\n",
    "xc = tf.expand_dims(x, axis=-1) # shape: (3, 1)\n",
    "\n",
    "# 4.3 图像：从 (H, W, C) 升到 (1, H, W, C)\n",
    "img = tf.random.uniform([224, 224, 3])\n",
    "img_batched = tf.expand_dims(img, 0)   # (1, 224, 224, 3)\n",
    "\n",
    "# 4.4 广播：构造外和/外积的形状\n",
    "a = tf.range(4)             # (4,)\n",
    "b = tf.range(3)             # (3,)\n",
    "A = tf.expand_dims(a, 1)    # (4, 1)\n",
    "B = tf.expand_dims(b, 0)    # (1, 3)\n",
    "M = A + B                   # (4, 3) 逐元素广播相加\n",
    "\n",
    "# 4.5 RNN：把 (T, F) 升到 (B, T, F)（例如单样本推理）\n",
    "seq = tf.random.normal([100, 64])   # (T=100, F=64)\n",
    "seq_batched = tf.expand_dims(seq, 0) # (1, 100, 64)\n"
   ]
  },
  {
   "cell_type": "markdown",
   "id": "d2fdc3e4-d842-4622-8f73-82a3f64e3806",
   "metadata": {},
   "source": [
    "## 5. 与 tf.newaxis（或 None）的等价写法\n",
    "\n",
    "在切片中使用 `tf.newaxis`（就是 None）也能插入维度："
   ]
  },
  {
   "cell_type": "code",
   "execution_count": null,
   "id": "46fa57fd-39cb-4510-94d0-09c9df6c592e",
   "metadata": {},
   "outputs": [],
   "source": [
    "x = tf.constant([1, 2, 3])      # (3,)\n",
    "\n",
    "x0 = x[tf.newaxis, ...]         # (1, 3)   等价于 tf.expand_dims(x, 0)\n",
    "x1 = x[..., tf.newaxis]         # (3, 1)   等价于 tf.expand_dims(x, -1)\n",
    "\n",
    "二者常用哪个纯看个人/团队风格；expand_dims 更显式，在函数式管道中更清晰。"
   ]
  },
  {
   "cell_type": "markdown",
   "id": "d23c6233-c4ee-4688-b3fa-710fd7808b55",
   "metadata": {},
   "source": [
    "## 6. 与 tf.reshape、tf.squeeze 的关系\n",
    "\n",
    "- `tf.expand_dims`：只能插入长度为 1 的新维度，语义清晰，出错概率低。\n",
    "\n",
    "- `tf.reshape`：可一次性把形状重排/插 1，灵活但更容易不小心改错整体形状。\n",
    "\n",
    "- `tf.squeeze`：相反操作，移除长度为 1 的维度。"
   ]
  },
  {
   "cell_type": "code",
   "execution_count": null,
   "id": "0d7639c3-75ca-409d-96a5-93f8fcff1d9e",
   "metadata": {},
   "outputs": [],
   "source": [
    "x = tf.constant([[1, 2, 3]])     # (1, 3)\n",
    "y = tf.squeeze(x, axis=0)        # (3,)\n",
    "z = tf.expand_dims(y, axis=0)    # (1, 3)  回到原状\n"
   ]
  },
  {
   "cell_type": "markdown",
   "id": "f82f9a42-28e6-4f66-b2af-2e411c930951",
   "metadata": {},
   "source": [
    "实战建议：只需要加一个 1 维时用 expand_dims；需要一次加/改多个维时再考虑 reshape。\n",
    "\n",
    "---\n",
    "## 7. 典型场景清单\n",
    "\n",
    "- 补 `Batch` 维：(H, W, C) -> (1, H, W, C)，或 (T, F) -> (1, T, F)\n",
    "（单样本推理/可视化时很常见）\n",
    "\n",
    "- 补通道维：灰度图 (H, W) -> (H, W, 1)，便于送入 `Conv2D`\n",
    "\n",
    "- 广播对齐：向量加矩阵/构造外和/外积 \\\n",
    "`a`: (N,) -> (N, 1) 与 `b`: (M,) -> (1, M)，得到 (N, M)\n",
    "\n",
    "- 对齐层的 `rank` 要求：某些 API 要求固定 rank（如 3D/4D/5D）\n",
    "\n",
    "---\n",
    "## 8. 性能与梯度\n",
    "\n",
    "- 零拷贝的形状变换（视图/元数据层面的改变），几乎不增加内存开销；\n",
    "\n",
    "- 可微：反向传播会透明地穿过该操作，不影响梯度计算。\n",
    "\n",
    "---\n",
    "## 9. 常见坑与排查\n",
    "\n",
    "- 1.`axis` 越界\n",
    "\n",
    "   - 错误示例：对 1D 张量设 axis=2（允许范围是 [-2, 1]）。\n",
    "\n",
    "   - 处理：先 print(x.shape, tf.rank(x))；必要时把负轴换算为正轴。\n",
    "\n",
    "- 2.一次插多个维度\n",
    "\n",
    "   - `expand_dims` 一次只插一个维度；连用多次或改用 `reshape`："
   ]
  },
  {
   "cell_type": "code",
   "execution_count": null,
   "id": "1f19269c-fff3-4c87-920b-0124e36cc2f4",
   "metadata": {},
   "outputs": [],
   "source": [
    "x = tf.random.normal([8, 16])       # (8, 16)\n",
    "y = tf.reshape(x, [1, 8, 16, 1])    # (1, 8, 16, 1)\n"
   ]
  },
  {
   "cell_type": "markdown",
   "id": "c39acce3-5776-439b-b49c-7f89ea6649cf",
   "metadata": {},
   "source": [
    "- 3.和 `tf.newaxis` 混用导致读写不一致\n",
    "\n",
    "   - 团队风格统一：要么都用函数式 `tf.expand_dims`，要么都用切片式 `tf.newaxis`。\n",
    "\n",
    "- 4.模型输入 rank 不符\n",
    "\n",
    "   - `Keras` 的 Conv2D 期望 4D (B,H,W,C)；若只有 (H,W,C)，需要先 expand_dims(x, 0)。\n",
    "\n",
    "---\n",
    "## 10. 迷你速查表\n",
    "| 目标           | 代码                                           | 说明                     |\n",
    "| ------------ | -------------------------------------------- | ---------------------- |\n",
    "| 补 batch 维到前面 | `x = tf.expand_dims(x, 0)`                   | `(H,W,C) → (1,H,W,C)`  |\n",
    "| 补通道维到最后      | `x = tf.expand_dims(x, -1)`                  | `(H,W) → (H,W,1)`      |\n",
    "| 行向量化         | `x = tf.expand_dims(x, 0)`                   | `(N,) → (1,N)`         |\n",
    "| 列向量化         | `x = tf.expand_dims(x, -1)`                  | `(N,) → (N,1)`         |\n",
    "| 外和/外积准备      | `A = a[:, tf.newaxis]; B = b[tf.newaxis, :]` | `(N,1)` 与 `(1,M)`      |\n",
    "| 末尾插入         | `x = tf.expand_dims(x, tf.rank(x))`          | 等价于 `axis = -1`        |\n",
    "| 最前插入         | `x = tf.expand_dims(x, 0)`                   | 等价于 `axis = -(rank+1)` |\n"
   ]
  },
  {
   "cell_type": "code",
   "execution_count": null,
   "id": "30736cc4-8974-4673-a5aa-92ceab8ed868",
   "metadata": {},
   "outputs": [],
   "source": []
  },
  {
   "cell_type": "markdown",
   "id": "7fb3a412-311f-46c5-a6ae-00d35ceecb80",
   "metadata": {},
   "source": [
    "# 六、tf.squeeze\n",
    "## 1. 作用\n",
    "\n",
    "`移除`张量中所有（或指定位置的）长度为 1 的维度，也叫 `“压缩维度”`。\n",
    "\n",
    "在深度学习里很常见，比如：\n",
    "\n",
    " - 模型预测结果 `(N, 1)` → 转为 `(N,)`；\n",
    "\n",
    " - 灰度图 `(H, W, 1)` → 转为 `(H, W)`；\n",
    "\n",
    " - 临时 `batch` 维 (`1, H, W, C)` → 转为 `(H, W, C)`。\n",
    "\n",
    "## 2. 函数签名"
   ]
  },
  {
   "cell_type": "code",
   "execution_count": null,
   "id": "71e1ac78-a966-4b65-88f8-2a55357c7492",
   "metadata": {},
   "outputs": [],
   "source": [
    "tf.squeeze(\n",
    "    input,     # 待处理的张量。\n",
    "    axis=None, # （可选）：要移除的 特定维度索引（或多个索引 list/tuple）。\n",
    "               #  如果 为 None（默认）：移除所有长度为 1 的维度。\n",
    "               #  如果指定，则只移除这些位置的维度，而且必须保证这些维度长度为 1，否则报错。\n",
    "    name=None\n",
    ")\n",
    " # --> 一个移除了指定维度的张量，数据不变，只是形状变化（零拷贝操作）"
   ]
  },
  {
   "cell_type": "markdown",
   "id": "77a7b6ac-42df-4f83-82cc-20fa88d33f82",
   "metadata": {},
   "source": [
    "## 3. 基本示例"
   ]
  },
  {
   "cell_type": "code",
   "execution_count": null,
   "id": "1da58579-b703-472e-b7de-d9062fec8b55",
   "metadata": {},
   "outputs": [],
   "source": [
    "import tensorflow as tf\n",
    "\n",
    "# 原始张量 shape (1, 3, 1, 5)\n",
    "x = tf.zeros([1, 3, 1, 5])\n",
    "\n",
    "# 3.1 默认：移除所有长度为1的维度\n",
    "y1 = tf.squeeze(x)\n",
    "print(y1.shape)   # (3, 5)\n",
    "\n",
    "# 3.2 只移除 axis=0\n",
    "y2 = tf.squeeze(x, axis=0)\n",
    "print(y2.shape)   # (3, 1, 5)\n",
    "\n",
    "# 3.3 移除多个维度\n",
    "y3 = tf.squeeze(x, axis=[0, 2])\n",
    "print(y3.shape)   # (3, 5)\n",
    "\n",
    "# 3.4 错误示例：axis 指定的维度长度 ≠ 1\n",
    "try:\n",
    "    y4 = tf.squeeze(x, axis=1)   # 第1维长度是3，不是1\n",
    "except Exception as e:\n",
    "    print(\"错误:\", e)\n"
   ]
  },
  {
   "cell_type": "markdown",
   "id": "aaacc053-ee6b-4540-a41d-60f5203ed7d6",
   "metadata": {},
   "source": [
    "### 4. 与 tf.expand_dims 的关系\n",
    "\n",
    "- `expand_dims`：在指定位置 增加 一个维度，长度=1。\n",
    "\n",
    "- `squeeze`：在指定位置 移除 一个维度，前提是长度=1。\n",
    "\n",
    "例子："
   ]
  },
  {
   "cell_type": "code",
   "execution_count": null,
   "id": "7d02f4cc-028f-4b3f-87ab-d18fb7331088",
   "metadata": {},
   "outputs": [],
   "source": [
    "x = tf.constant([[1, 2, 3]])   # (1, 3)\n",
    "\n",
    "y = tf.squeeze(x)              # (3,)\n",
    "z = tf.expand_dims(y, axis=0)  # (1, 3)，回到原状\n"
   ]
  },
  {
   "cell_type": "markdown",
   "id": "984c104c-4449-4250-a1fd-a11a319fe8b7",
   "metadata": {},
   "source": [
    "### 5.与 reshape 的区别\n",
    "\n",
    "- `tf.squeeze`：只能移除长度为 1 的维度，语义更清晰，出错概率小。\n",
    "\n",
    "- `tf.reshape`：可以任意重塑，但更灵活也更危险。\\\n",
    "等价写法："
   ]
  },
  {
   "cell_type": "code",
   "execution_count": null,
   "id": "132039fb-df39-46c1-ac81-ab651f8bc48b",
   "metadata": {},
   "outputs": [],
   "source": [
    "x = tf.zeros([1, 3, 1])\n",
    "y1 = tf.squeeze(x)               # (3,)\n",
    "y2 = tf.reshape(x, [3])          # (3,)\n",
    "\n",
    "建议：去 1 维度 → 用 squeeze，更直观。"
   ]
  },
  {
   "cell_type": "markdown",
   "id": "1f3846fc-a781-411c-a348-511bcc737141",
   "metadata": {},
   "source": [
    "## 6. 常见坑\n",
    "\n",
    "- 1、错误的 `axis` 指定\n",
    "\n",
    "   - 必须是长度为 1 的维度，否则报错。\n",
    "\n",
    "   - 解决：print(x.shape) 或 tf.rank(x) 确认形状。\n",
    "\n",
    "- 2、 批量维意外被挤掉\n",
    "\n",
    "   - 有时 `squeeze` 会去掉 `batch=1` 的维度，但训练/预测需要保留。\n",
    "\n",
    "   - 解决：用 `axis` 精确指定要移除的维度。\n",
    "\n",
    "- 3、 过度依赖自动 `squeeze`\n",
    "\n",
    "   - 某些 API（如 Keras）可能自动返回 `(batch_size, 1)`，你需要手动 `squeeze`。\n",
    " \n",
    "---\n",
    "\n",
    "## 7. 速查表\n",
    "| 输入形状             | 代码                           | 输出形状          | 说明           |\n",
    "| ---------------- | ---------------------------- | ------------- | ------------ |\n",
    "| `(1, 28, 28, 1)` | `tf.squeeze(x)`              | `(28, 28)`    | 去掉所有 1       |\n",
    "| `(1, 28, 28, 1)` | `tf.squeeze(x, axis=0)`      | `(28, 28, 1)` | 只去掉 batch 维  |\n",
    "| `(1, 28, 28, 1)` | `tf.squeeze(x, axis=[0, 3])` | `(28, 28)`    | 去掉 batch 和通道 |\n",
    "| `(N, 1)`         | `tf.squeeze(x, axis=1)`      | `(N,)`        | 常见模型输出处理     |\n",
    "\n",
    "## ✅ 小结：\n",
    "\n",
    " - `tf.squeeze` 是 “去掉多余 1 维” 的函数。\n",
    "\n",
    " - 默认去掉所有 1 维，也可以精确指定。\n",
    "\n",
    " - 常用于模型输出、图像灰度通道、广播前后处理。"
   ]
  },
  {
   "cell_type": "code",
   "execution_count": null,
   "id": "62d6c923-ca4a-43ba-8129-9b47ce77523a",
   "metadata": {},
   "outputs": [],
   "source": []
  },
  {
   "cell_type": "markdown",
   "id": "9931407a-d3e6-40b8-b765-3fa7f71feec3",
   "metadata": {},
   "source": [
    "---"
   ]
  },
  {
   "cell_type": "markdown",
   "id": "32122e6d-9841-4622-a5ea-561b23583f3a",
   "metadata": {},
   "source": [
    "# 张量的索引与修改\n",
    "\n",
    " - `TF` 的张量是 `不可变的`，所以不能直接 x[0,0] = 9。\n",
    " - 要用 `tf.tensor_scatter_nd_update` 或 `tf.Variable`。"
   ]
  },
  {
   "cell_type": "code",
   "execution_count": null,
   "id": "33f2e70c-1272-472e-9981-9127918a5563",
   "metadata": {},
   "outputs": [],
   "source": [
    "x = tf.Variable([[1, 2], [3, 4]])\n",
    "\n",
    "# 修改单元素\n",
    "x = tf.tensor_scatter_nd_update(x, [[0, 1]], [9])\n",
    "print(x.numpy())   # [[1, 9], [3, 4]]\n",
    "\n",
    "# 修改多元素\n",
    "x = tf.tensor_scatter_nd_update(x, [[1, 0], [1, 1]], [7, 8])\n",
    "print(x.numpy())   # [[1, 9], [7, 8]]\n"
   ]
  },
  {
   "cell_type": "code",
   "execution_count": null,
   "id": "1a4f81aa-2c05-4875-ae13-e5d8cf9c7bf2",
   "metadata": {},
   "outputs": [],
   "source": []
  },
  {
   "cell_type": "markdown",
   "id": "9a98f16f-8050-4ef3-998a-7d0f6d8468a1",
   "metadata": {},
   "source": [
    "# 索引 & 切片速查表\n",
    "| 语法                         | 作用         | 例子                       |\n",
    "| -------------------------- | ---------- | ------------------------ |\n",
    "| `x[i]`                     | 取第 i 行     | `x[0] → 第一行`             |\n",
    "| `x[i, j]`                  | 取第 i 行 j 列 | `x[2,1] → 第3行第2列`        |\n",
    "| `x[start:end]`             | 切片         | `x[0:2] → 前两行`           |\n",
    "| `x[:, i]`                  | 取某列        | `x[:,1] → 第二列`           |\n",
    "| `x[::step]`                | 步长切片       | `x[::2] → 每隔一行取一行`       |\n",
    "| `x[::-1]`                  | 反转         | `x[::-1] → 倒序`           |\n",
    "| `x[tf.newaxis, :]`         | 扩展维度       | `(N,) → (1,N)`           |\n",
    "| `tf.boolean_mask(x, mask)` | 布尔索引       | `[1,2,3,4][x>2] → [3,4]` |\n",
    "| `tf.gather(x, idx)`        | 按索引列表取值    | `idx=[0,2]` → 取第0,2个     |\n",
    "\n",
    "## ✅ 小结：\n",
    "\n",
    "- `TF` 索引和 `NumPy` 非常接近，但修改元素要用 `Variable` 或 `scatter` 操作。\n",
    "\n",
    "- 常用方法：`基础索引` + `tf.newaxis` + `tf.gather` + `tf.boolean_mask`。"
   ]
  },
  {
   "cell_type": "code",
   "execution_count": null,
   "id": "9bc86ce6-3fe4-4fc7-a8a8-1ec8c4cfe38e",
   "metadata": {},
   "outputs": [],
   "source": []
  }
 ],
 "metadata": {
  "kernelspec": {
   "display_name": "Python (deepseek_env)",
   "language": "python",
   "name": "deepseek_env"
  },
  "language_info": {
   "codemirror_mode": {
    "name": "ipython",
    "version": 3
   },
   "file_extension": ".py",
   "mimetype": "text/x-python",
   "name": "python",
   "nbconvert_exporter": "python",
   "pygments_lexer": "ipython3",
   "version": "3.12.9"
  }
 },
 "nbformat": 4,
 "nbformat_minor": 5
}

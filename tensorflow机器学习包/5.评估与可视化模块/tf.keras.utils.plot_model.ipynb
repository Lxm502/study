{
 "cells": [
  {
   "cell_type": "markdown",
   "id": "4d7f7c67-b888-443b-9531-14945d8044ee",
   "metadata": {},
   "source": [
    "# 📘 tf.keras.utils.plot_model\n",
    "## 1. 作用\n",
    "\n",
    "将 `Keras` 模型的结构 `可视化`，生成一张模型`结构图`（流程图形式）。\n",
    "\n",
    "- 图中会展示 每一层的名字、输入输出 `shape`，帮助理解模型结构。\n",
    "\n",
    "- 输出可以是 `.png`、`.jpg`、`.svg` 等图片文件，也可以直接显示在 `notebook` 里。\n",
    "\n",
    "---\n",
    "## 2. 为什么需要使用 plot_model？\n",
    "- 1、可视化模型结构：对于复杂的模型（如包含分支、多输入/多输出的模型），文字描述和代码堆叠难以理解，图形化展示则一目了然。\n",
    "\n",
    "- 2、调试与验证：在构建复杂模型时，很容易出现层与层之间不匹配（如维度错误）。通过可视化，可以快速检查数据流是否正确，连接是否如你所愿。\n",
    "\n",
    "- 3、文档与展示：在报告、论文或博客中，一张清晰的模型结构图比大段代码更具可读性和专业性。\n",
    "\n",
    "- 4、知识共享：方便团队成员之间交流模型设计思路。\n",
    "\n",
    "---\n",
    "## 3. 基本使用方法\n",
    "最基本的使用方法非常简单：只需传入一个已经构建好的模型对象。"
   ]
  },
  {
   "cell_type": "code",
   "execution_count": 5,
   "id": "8fec7442-e4b5-4ed8-8e8c-cd8d190ba61a",
   "metadata": {},
   "outputs": [],
   "source": [
    "import tensorflow as tf\n",
    "from tensorflow.keras.utils import plot_model  # 正确的导入方式\n",
    "\n",
    "# 1. 定义一个简单模型\n",
    "model = tf.keras.Sequential([\n",
    "    tf.keras.layers.Flatten(input_shape=(28, 28), name=\"input_layer1\"),\n",
    "    tf.keras.layers.Dense(128, activation='relu', name=\"dense1\"),\n",
    "    tf.keras.layers.Dropout(0.2, name=\"dropout_1\"),\n",
    "    tf.keras.layers.Dense(10, activation='softmax', name=\"out_layer\")\n",
    "])\n",
    "\n",
    "# 2. 使用 plot_model 进行可视化\n",
    "plot_model(model, \n",
    "           to_file=\"model.png\",   # 保存文件名 也可以保存为 PDF、SVG 等格式\n",
    "           show_shapes=True,      # 显示维度信息 输入/输出 shape，例如 (None, 784) -> (None, 64)\n",
    "           show_layer_names=True, # 显示层的自定义名称\n",
    "           expand_nested=True,    # 展开嵌套模型\n",
    "           dpi=96,                # 分辨率\n",
    "           show_dtype=False,      # 是否显示数据类型\n",
    "           show_layer_activations=True, # 是否显示激活函数\n",
    "           rankdir='LR',          # 从左到右排列，更适合宽屏显示.'TB'：从上到下（默认值）\n",
    ")"
   ]
  },
  {
   "cell_type": "markdown",
   "id": "ce43ab99-4d8a-40b0-ba1b-240993f11d61",
   "metadata": {},
   "source": [
    "\n",
    "| 参数            | 作用               | 推荐值                      |\n",
    "|----------------|--------------------|-----------------------------|\n",
    "| to_file        | 保存的文件路径，如果不写默认不保存。       | 'model.png'                |\n",
    "| show_shapes    | 是否显示每层输入和输出的 shape  | True (强烈建议开启)        |\n",
    "| show_layer_names | 是否显示每一层的名字。       | True                       |\n",
    "| show_dtype     | 是否显示数据类型（如 float32）       | False (按需)               |\n",
    "| expand_nested  | 如果模型里嵌套了子模型，是否展开显示。       | False 或 True (按需)       |\n",
    "| rankdir        | 布局方向           | 'TB' (默认) 或 'LR' (更宽) |\n",
    "| dpi            | 图像分辨率（默认 96）         | 96 或 150 (更高清)          |\n",
    "|show_layer_activations|是否显示每层的激活函数（如 relu、softmax）|True (强烈建议开启)|\n",
    "\n",
    "---\n",
    "## 4. 效果\n",
    "\n",
    "- `Sequential` 模型 → 会生成一个直线型的流程图。\n",
    "\n",
    "- `Functional API` / 子模型嵌套 → 会画出一个更复杂的计算图，展示多输入、多输出、分支结构。\n",
    "\n",
    "---\n",
    "## 5. 典型应用场景\n",
    "\n",
    " ✅ 模型调试：快速确认模型层数、输入输出 shape 是否正确。\\\n",
    " ✅ 论文/汇报：导出清晰的网络结构图，方便展示。\\\n",
    " ✅ 复杂模型：在多输入、多输出、分支网络中尤其有用。\n",
    "\n",
    "⚠️ 注意：\n",
    "plot_model 依赖 pydot 和 Graphviz，需要提前安装"
   ]
  },
  {
   "cell_type": "code",
   "execution_count": null,
   "id": "ca25a740-59f5-4ff5-a407-48a30215fa16",
   "metadata": {},
   "outputs": [],
   "source": []
  }
 ],
 "metadata": {
  "kernelspec": {
   "display_name": "Python [conda env:deepseek_env]",
   "language": "python",
   "name": "conda-env-deepseek_env-py"
  },
  "language_info": {
   "codemirror_mode": {
    "name": "ipython",
    "version": 3
   },
   "file_extension": ".py",
   "mimetype": "text/x-python",
   "name": "python",
   "nbconvert_exporter": "python",
   "pygments_lexer": "ipython3",
   "version": "3.12.9"
  }
 },
 "nbformat": 4,
 "nbformat_minor": 5
}

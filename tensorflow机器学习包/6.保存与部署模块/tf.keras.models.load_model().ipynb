{
 "cells": [
  {
   "cell_type": "markdown",
   "id": "f5778ad2-2403-45bd-89d1-7eb6c4456989",
   "metadata": {},
   "source": [
    "# 1. 作用\n",
    "\n",
    "`tf.keras.models.load_model()` 用于从磁盘加载一个保存的 `Keras` 模型（通过 `model.save()` 保存的），恢复：\n",
    "\n",
    " - 模型结构（层、连接关系等）\n",
    "\n",
    " - 权重参数\n",
    "\n",
    " - 训练配置（如 `loss`、`optimizer`、`metrics` 等）\n",
    "\n",
    "加载后的模型与原始模型完全等效，可以直接用于预测、评估或继续训练。\n",
    "\n",
    "---\n",
    "# 2. 基本语法和用法"
   ]
  },
  {
   "cell_type": "code",
   "execution_count": null,
   "id": "b5728f08-eeb4-46f9-bf47-a3be48c98f3e",
   "metadata": {},
   "outputs": [],
   "source": [
    "from tensorflow.keras.models import load_model\n",
    "\n",
    "model = tf.keras.models.load_model(\n",
    "    filepath,\n",
    "    custom_objects=None,\n",
    "    compile=True,\n",
    "    options=None\n",
    ")"
   ]
  },
  {
   "cell_type": "markdown",
   "id": "5ddb0b8f-02dd-477f-9719-89a0dc31b11b",
   "metadata": {},
   "source": [
    "| 参数                   | 说明                                                            |\n",
    "| -------------------- | ------------------------------------------------------------- |\n",
    "| **`filepath`**       | 模型文件路径，可以是 `.h5` 文件或 `SavedModel` 目录                          |\n",
    "| **`custom_objects`** | 字典，若模型中有自定义层/激活函数/损失函数，需要在这里传入，例如：`{'MyLayer': MyLayer}`      |\n",
    "| **`compile`**        | 是否加载训练配置（optimizer、loss、metrics）。默认 `True`，如果只是推理可以设为 `False` |\n",
    "| **`options`**        | 可选的 `tf.saved_model.LoadOptions` 参数，用于控制 SavedModel 加载行为      |\n"
   ]
  },
  {
   "cell_type": "markdown",
   "id": "128d2a44-b9ac-47ca-8898-dace883526ee",
   "metadata": {},
   "source": [
    "---"
   ]
  },
  {
   "cell_type": "markdown",
   "id": "d6e429c4-f3f5-4652-977e-21bf90c229cb",
   "metadata": {},
   "source": [
    "# 3. 完整工作流程示例\n",
    "让我们通过一个完整的例子来演示保存和加载的流程。"
   ]
  },
  {
   "cell_type": "code",
   "execution_count": null,
   "id": "44914bd3-a930-420c-982c-2dfc39ed5986",
   "metadata": {},
   "outputs": [],
   "source": [
    "import tensorflow as tf\n",
    "import numpy as np\n",
    "\n",
    "# 1. 创建、编译并训练一个简单的模型\n",
    "print(\"1. 创建并训练原始模型...\")\n",
    "model = tf.keras.Sequential([\n",
    "    tf.keras.layers.Dense(64, activation='relu', input_shape=(10,)),\n",
    "    tf.keras.layers.Dense(1, activation='sigmoid')\n",
    "])\n",
    "\n",
    "model.compile(optimizer='adam',\n",
    "              loss='binary_crossentropy',\n",
    "              metrics=['accuracy'])\n",
    "\n",
    "# 生成一些虚拟数据\n",
    "x_train = np.random.random((100, 10))\n",
    "y_train = np.random.randint(2, size=(100, 1))\n",
    "\n",
    "# 训练模型\n",
    "model.fit(x_train, y_train, epochs=3, verbose=0)\n",
    "print(\"   原始模型训练完成。\")\n",
    "\n",
    "# 2. 保存模型（两种格式）\n",
    "print(\"2. 保存模型...\")\n",
    "model.save('my_saved_model')   # SavedModel 格式（目录）\n",
    "model.save('my_model.h5')      # H5 格式（单个文件）\n",
    "print(\"   模型已保存为两种格式。\")\n",
    "\n",
    "# 3. 加载模型\n",
    "print(\"3. 加载模型...\")\n",
    "# 加载 SavedModel 格式\n",
    "loaded_model_from_savedmodel = tf.keras.models.load_model('my_saved_model')\n",
    "\n",
    "# 加载 H5 格式\n",
    "loaded_model_from_h5 = tf.keras.models.load_model('my_model.h5')\n",
    "print(\"   模型加载成功！\")\n",
    "\n",
    "# 4. 验证加载的模型\n",
    "print(\"4. 验证加载的模型...\")\n",
    "# 生成一些测试数据\n",
    "test_data = np.random.random((5, 10))\n",
    "\n",
    "# 使用原始模型预测\n",
    "original_pred = model.predict(test_data, verbose=0)\n",
    "print(f\"   原始模型预测结果: {original_pred.flatten()}\")\n",
    "\n",
    "# 使用加载的模型预测（结果应完全相同）\n",
    "savedmodel_pred = loaded_model_from_savedmodel.predict(test_data, verbose=0)\n",
    "h5_pred = loaded_model_from_h5.predict(test_data, verbose=0)\n",
    "\n",
    "print(f\"   SavedModel 预测结果: {savedmodel_pred.flatten()}\")\n",
    "print(f\"   H5 模型预测结果:    {h5_pred.flatten()}\")\n",
    "\n",
    "# 验证预测结果是否相同 (使用 np.allclose 比较浮点数)\n",
    "predictions_match = np.allclose(original_pred, savedmodel_pred) and np.allclose(original_pred, h5_pred)\n",
    "print(f\"   所有模型预测结果是否一致: {predictions_match}\")\n",
    "\n",
    "# 5. 检查模型功能\n",
    "print(\"5. 检查模型功能完整性...\")\n",
    "print(\"   原始模型 summary:\")\n",
    "model.summary()\n",
    "\n",
    "print(\"\\n   加载的模型 (SavedModel) summary:\")\n",
    "loaded_model_from_savedmodel.summary()\n",
    "\n",
    "# 尝试评估（需要 compile=True）\n",
    "test_loss, test_acc = loaded_model_from_savedmodel.evaluate(x_train[:10], y_train[:10], verbose=0)\n",
    "print(f\"\\n   加载的模型评估结果 - Loss: {test_loss:.4f}, Accuracy: {test_acc:.4f}\")"
   ]
  },
  {
   "cell_type": "markdown",
   "id": "41bdef2b-1d04-4ac1-9cb8-340772c97d67",
   "metadata": {},
   "source": [
    "# 4. 处理自定义对象（关键！）\n",
    "这是 `load_model()` 最重要的功能之一。当你的模型包含自定义组件时，必须提供 `custom_objects` 参数。\n",
    "\n",
    "示例：加载包含自定义层的模型"
   ]
  },
  {
   "cell_type": "code",
   "execution_count": null,
   "id": "b6fb7774-eae5-475f-bd02-71c0c2053acd",
   "metadata": {},
   "outputs": [],
   "source": [
    "import tensorflow as tf\n",
    "\n",
    "# 假设我们有一个自定义层\n",
    "class CustomDenseLayer(tf.keras.layers.Layer):\n",
    "    def __init__(self, units=32, **kwargs):\n",
    "        super().__init__(**kwargs)\n",
    "        self.units = units\n",
    "\n",
    "    def build(self, input_shape):\n",
    "        self.w = self.add_weight(shape=(input_shape[-1], self.units),\n",
    "                                initializer='random_normal',\n",
    "                                trainable=True)\n",
    "        self.b = self.add_weight(shape=(self.units,),\n",
    "                                initializer='zeros',\n",
    "                                trainable=True)\n",
    "\n",
    "    def call(self, inputs):\n",
    "        return tf.matmul(inputs, self.w) + self.b\n",
    "\n",
    "    def get_config(self):\n",
    "        return {'units': self.units}\n",
    "\n",
    "# 创建并保存包含自定义层的模型\n",
    "model_with_custom = tf.keras.Sequential([\n",
    "    CustomDenseLayer(64, input_shape=(10,)),\n",
    "    tf.keras.layers.Dense(1, activation='sigmoid')\n",
    "])\n",
    "model_with_custom.compile(optimizer='adam', loss='binary_crossentropy')\n",
    "model_with_custom.save('custom_model') # 保存\n",
    "\n",
    "# ！！！ 关键步骤：加载时提供 custom_objects ！！！\n",
    "try:\n",
    "    # 这样会报错：Unknown layer: CustomDenseLayer\n",
    "    # loaded_model = tf.keras.models.load_model('custom_model')\n",
    "    \n",
    "    # 正确方式：提供自定义层的映射\n",
    "    loaded_custom_model = tf.keras.models.load_model(\n",
    "        'custom_model',\n",
    "        custom_objects={'CustomDenseLayer': CustomDenseLayer} # 字典：{'层名': 层类}\n",
    "    )\n",
    "    print(\"包含自定义层的模型加载成功！\")\n",
    "    loaded_custom_model.summary()\n",
    "except Exception as e:\n",
    "    print(f\"加载失败: {e}\")"
   ]
  },
  {
   "cell_type": "code",
   "execution_count": null,
   "id": "85e55062-8a01-40c2-a4f4-5a6af9e4f72a",
   "metadata": {},
   "outputs": [],
   "source": [
    "示例：加载包含自定义损失函数的模型"
   ]
  },
  {
   "cell_type": "code",
   "execution_count": null,
   "id": "6727a4d3-49ab-4af0-a574-db764a0aa225",
   "metadata": {},
   "outputs": [],
   "source": [
    "# 自定义损失函数\n",
    "def custom_loss(y_true, y_pred):\n",
    "    return tf.reduce_mean(tf.square(y_true - y_pred)) * 2.0\n",
    "\n",
    "# 创建并使用自定义损失函数的模型\n",
    "model = tf.keras.Sequential([tf.keras.layers.Dense(1, input_shape=(10,))])\n",
    "model.compile(optimizer='adam', loss=custom_loss)\n",
    "model.save('model_with_custom_loss.h5')\n",
    "\n",
    "# 加载时提供自定义损失函数\n",
    "loaded_model = tf.keras.models.load_model(\n",
    "    'model_with_custom_loss.h5',\n",
    "    custom_objects={'custom_loss': custom_loss} # 字典：{'函数名': 函数}\n",
    ")\n",
    "print(\"包含自定义损失函数的模型加载成功！\")"
   ]
  },
  {
   "cell_type": "markdown",
   "id": "750a7598-8aa1-4ab3-b98d-f15b5a1ab5cf",
   "metadata": {},
   "source": [
    "# 5. 仅加载架构或权重\n",
    "有时你可能只想加载模型架构或权重，而不是整个模型。\n",
    "\n",
    "仅加载架构（从JSON）"
   ]
  },
  {
   "cell_type": "code",
   "execution_count": null,
   "id": "3b1fbf99-5b24-4ae6-b4c5-5922dd464963",
   "metadata": {},
   "outputs": [],
   "source": [
    "# 保存架构为JSON\n",
    "json_string = model.to_json()\n",
    "\n",
    "# 从JSON重建架构（不包含权重）\n",
    "from tensorflow.keras.models import model_from_json\n",
    "model_architecture = model_from_json(json_string)\n",
    "\n",
    "# 如果需要，可以随后加载权重\n",
    "# model_architecture.load_weights('path_to_weights.h5')"
   ]
  },
  {
   "cell_type": "code",
   "execution_count": null,
   "id": "3f5a7cbe-3887-4d16-8303-5d1e8da67158",
   "metadata": {},
   "outputs": [],
   "source": [
    "仅加载权重"
   ]
  },
  {
   "cell_type": "code",
   "execution_count": null,
   "id": "0b0eb9af-83b0-43c6-9c04-6d9b1b692cd1",
   "metadata": {},
   "outputs": [],
   "source": [
    "# 假设我们已经有一个结构完全相同的模型\n",
    "new_model = tf.keras.Sequential([...]) # 结构与保存的模型相同\n",
    "new_model.compile(...)\n",
    "\n",
    "# 只加载权重\n",
    "new_model.load_weights('path_to_weights.h5')\n",
    "# 或者对于 SavedModel 格式的权重\n",
    "# new_model.load_weights('my_saved_model/variables/variables')"
   ]
  },
  {
   "cell_type": "markdown",
   "id": "d52439d5-d0fd-4049-b1ba-83ef82c1f1eb",
   "metadata": {},
   "source": [
    "# 6. 使用 compile=False 仅用于推理\n",
    "如果你的目标只是使用模型进行预测，而不需要继续训练或评估，可以设置 `compile=False` 来加快加载速度并节省内存。"
   ]
  },
  {
   "cell_type": "code",
   "execution_count": null,
   "id": "27b8226d-21bd-47a5-8434-9cb2d6e9cdf8",
   "metadata": {},
   "outputs": [],
   "source": [
    "# 快速加载模型用于生产环境预测\n",
    "production_model = tf.keras.models.load_model(\n",
    "    'my_saved_model',\n",
    "    compile=False  # 不加载优化器、损失函数等训练配置\n",
    ")\n",
    "\n",
    "# 仍然可以完美地进行预测\n",
    "predictions = production_model.predict(new_data)\n",
    "\n",
    "# 但不能直接使用 .evaluate() 或 .fit()\n",
    "# production_model.evaluate(...)  # 这会报错，因为模型没有编译"
   ]
  }
 ],
 "metadata": {
  "kernelspec": {
   "display_name": "Python [conda env:deepseek_env]",
   "language": "python",
   "name": "conda-env-deepseek_env-py"
  },
  "language_info": {
   "codemirror_mode": {
    "name": "ipython",
    "version": 3
   },
   "file_extension": ".py",
   "mimetype": "text/x-python",
   "name": "python",
   "nbconvert_exporter": "python",
   "pygments_lexer": "ipython3",
   "version": "3.12.9"
  }
 },
 "nbformat": 4,
 "nbformat_minor": 5
}

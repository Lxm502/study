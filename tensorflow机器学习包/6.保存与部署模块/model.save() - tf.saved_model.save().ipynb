{
 "cells": [
  {
   "cell_type": "markdown",
   "id": "9191e7b9-8b1d-4e22-b2e9-20baba4b5652",
   "metadata": {},
   "source": [
    "# 1. 什么是 model.save()？\n",
    "`model.save()` 是 `TensorFlow/Keras` 模型对象的一个方法，用于将整个模型保存到磁盘。保存的内容包括：\n",
    "\n",
    "- 1、模型的架构 (Model Architecture)：每一层是什么以及它们如何连接。\n",
    "\n",
    "- 2、模型的权重 (Model Weights)：训练得到的参数。\n",
    "\n",
    "- 3、模型的训练配置 (编译信息)：优化器、损失函数、指标等（如果模型已经编译过）。\n",
    "\n",
    "- 4、优化器的状态 (Optimizer State)：允许你从上次中断的地方重新开始训练。\n",
    "\n",
    "简单来说，`model.save()` 为你提供了一个“模型快照”，你之后可以完整地恢复这个快照，直接用于继续训练或进行预测，而无需重新定义和编译模型。\n",
    "\n",
    "---\n",
    "# 2. 为什么要使用 `model.save()`？\n",
    "- 1、模型持久化：将训练好的模型保存下来，供后续使用，无需重新训练。\n",
    "\n",
    "- 2、分享模型：方便将模型分享给团队成员或部署到生产环境。\n",
    "\n",
    "- 3、继续训练：如果训练过程意外中断，可以从保存的点继续训练，而不是从头开始。\n",
    "\n",
    "- 4、部署推理：将模型交给 Web 服务、移动设备或其他应用程序进行预测。\n",
    "\n",
    "---\n",
    "## 3. 两种保存格式\n",
    "从 `TensorFlow 2.4` 开始，`model.save()` 主要支持两种格式：\n",
    "\n",
    "### (A) TensorFlow SavedModel 格式（默认）: \n",
    "这是 `TensorFlow` 生态系统的官方推荐格式。它是一个包含完整 `TensorFlow` 程序的目录。\n",
    "\n",
    "- 特点：\n",
    "\n",
    "    - 包含所有模型信息，可被 `TensorFlow Serving`、`TensorFlow Lite`、`TensorFlow.js` 等工具直接使用。\n",
    "    \n",
    "    - 具有版本控制，兼容未来的 `TensorFlow` 版本。\n",
    "    \n",
    "    - 是 `model.save()` 的默认格式。\n",
    "\n",
    "保存方法："
   ]
  },
  {
   "cell_type": "code",
   "execution_count": null,
   "id": "056d1fca-3730-46fd-bb57-aa62eaa8937d",
   "metadata": {},
   "outputs": [],
   "source": [
    "# 方法 1: 使用默认的 SavedModel 格式\n",
    "model.save('my_model') # 注意：传入的是目录路径，不是文件名\n",
    "\n",
    "# 方法 2: 显式指定格式\n",
    "model.save('my_model', save_format='tf')\n",
    "\n",
    "# 加载\n",
    "model = tf.keras.models.load_model(\"my_model\")"
   ]
  },
  {
   "cell_type": "markdown",
   "id": "583cb1c0-a399-4a73-9387-b12bd2301511",
   "metadata": {},
   "source": [
    "执行后，会创建一个名为 `my_model` 的文件夹，里面包含以下文件："
   ]
  },
  {
   "cell_type": "code",
   "execution_count": null,
   "id": "057d75ef-253d-47a6-af95-955b9d6001d4",
   "metadata": {},
   "outputs": [],
   "source": [
    "my_model/\n",
    "├── assets/\n",
    "├── variables/\n",
    "│   ├── variables.data-00000-of-00001\n",
    "│   └── variables.index\n",
    "├── keras_metadata.pb\n",
    "└── saved_model.pb"
   ]
  },
  {
   "cell_type": "markdown",
   "id": "3931f225-2539-4325-82e1-5fa77836b346",
   "metadata": {},
   "source": [
    "- assets/: 存储模型所需的其他文件（如词汇表）。\n",
    "- variables/: 存储模型的权重。\n",
    "- keras_metadata.pb: 存储 Keras 特定的元数据。\n",
    "- saved_model.pb: 存储模型架构和训练配置。"
   ]
  },
  {
   "cell_type": "markdown",
   "id": "85356853-2cd5-4cd2-b5ac-0414872734bd",
   "metadata": {},
   "source": [
    "---\n",
    "### (B) Keras `H5` 格式 \\\n",
    "这是一种传统的、基于单个 `HDF5` 文件的格式。\n",
    "\n",
    "- 特点：\n",
    "\n",
    "    - 所有内容（架构、权重、配置）都保存在一个 `.h5` 或 `.keras` 文件中。\n",
    "    \n",
    "    - 便于管理和分享（只有一个文件）。\n",
    "    \n",
    "    - 在某些环境下可能不如 `SavedModel` 格式兼容性好。\n",
    "\n",
    "保存方法："
   ]
  },
  {
   "cell_type": "code",
   "execution_count": null,
   "id": "bd97f839-e7c4-4277-9022-e2bb3dd9cf5b",
   "metadata": {},
   "outputs": [],
   "source": [
    "# 显式指定保存为 .h5 文件\n",
    "model.save('my_model.h5') # 在文件名中包含 .h5 扩展名\n",
    "\n",
    "# 或者显式使用 save_format 参数\n",
    "model.save('my_model.keras', save_format='h5') # TF 2.13+ 推荐 .keras 扩展名"
   ]
  },
  {
   "cell_type": "markdown",
   "id": "bc7b39de-4c78-4e13-80b5-0b070b5ab343",
   "metadata": {},
   "source": [
    "## 4. 如何加载保存的模型？\n",
    "使用 `tf.keras.models.load_model()` 函数来加载保存的模型。`TensorFlow` 会自动识别格式。\n",
    "\n",
    "加载 `SavedModel` 格式:"
   ]
  },
  {
   "cell_type": "code",
   "execution_count": null,
   "id": "f546e3ee-4dc3-4f7e-b882-039d1efa090d",
   "metadata": {},
   "outputs": [],
   "source": [
    "# 加载 SavedModel 格式的模型（从目录加载）\n",
    "loaded_model = tf.keras.models.load_model('my_model')"
   ]
  },
  {
   "cell_type": "markdown",
   "id": "78a561b2-4162-4921-a53e-796fbab55ac6",
   "metadata": {},
   "source": [
    "加载 H5 格式"
   ]
  },
  {
   "cell_type": "code",
   "execution_count": null,
   "id": "6aa5b0dc-d13a-4ca1-84de-11558078047e",
   "metadata": {},
   "outputs": [],
   "source": [
    "# 加载 H5 格式的模型（从文件加载）\n",
    "loaded_model = tf.keras.models.load_model('my_model.h5')"
   ]
  },
  {
   "cell_type": "markdown",
   "id": "9cf9b311-5438-4b2d-80bf-292d45030eee",
   "metadata": {},
   "source": [
    "### 加载后的模型与原始模型完全相同，可以直接使用："
   ]
  },
  {
   "cell_type": "code",
   "execution_count": null,
   "id": "60d02262-bb59-4b30-98f1-e7f34ef0e0e4",
   "metadata": {},
   "outputs": [],
   "source": [
    "# 进行预测\n",
    "predictions = loaded_model.predict(new_data)\n",
    "\n",
    "# 查看模型摘要\n",
    "loaded_model.summary()\n",
    "\n",
    "# 甚至可以继续训练（如果保存时包含了优化器状态）\n",
    "# loaded_model.fit(more_data, more_labels, epochs=10)"
   ]
  },
  {
   "cell_type": "markdown",
   "id": "4648221b-eaa0-401f-a4d8-63c80bff9ca4",
   "metadata": {},
   "source": [
    "## 5. 完整工作流程示例\n",
    "让我们通过一个完整的例子来演示保存和加载的流程。"
   ]
  },
  {
   "cell_type": "code",
   "execution_count": null,
   "id": "0bd1a098-60a3-44d4-934c-a4ba6d02202f",
   "metadata": {},
   "outputs": [],
   "source": [
    "import tensorflow as tf\n",
    "import numpy as np\n",
    "\n",
    "# 1. 构建并训练一个简单的模型\n",
    "model = tf.keras.Sequential([\n",
    "    tf.keras.layers.Dense(64, activation='relu', input_shape=(10,)),\n",
    "    tf.keras.layers.Dense(1, activation='sigmoid')\n",
    "])\n",
    "\n",
    "model.compile(optimizer='adam',\n",
    "              loss='binary_crossentropy',\n",
    "              metrics=['accuracy'])\n",
    "\n",
    "# 生成一些虚拟数据\n",
    "x_train = np.random.random((1000, 10))\n",
    "y_train = np.random.randint(2, size=(1000, 1))\n",
    "\n",
    "# 训练模型\n",
    "model.fit(x_train, y_train, epochs=5, verbose=1)\n",
    "\n",
    "# 2. 保存模型（两种格式）\n",
    "# 保存为 SavedModel 格式（默认）\n",
    "model.save('my_saved_model') \n",
    "\n",
    "# 保存为 H5 格式\n",
    "model.save('my_model.h5')    \n",
    "\n",
    "print(\"模型已保存！\")\n",
    "\n",
    "# 3. 加载模型并测试\n",
    "# 加载 SavedModel\n",
    "loaded_savedmodel = tf.keras.models.load_model('my_saved_model')\n",
    "\n",
    "# 加载 H5 模型\n",
    "loaded_h5_model = tf.keras.models.load_model('my_model.h5')\n",
    "\n",
    "# 生成一些测试数据\n",
    "test_data = np.random.random((5, 10))\n",
    "\n",
    "# 使用原始模型预测\n",
    "original_pred = model.predict(test_data)\n",
    "print(\"原始模型预测:\", original_pred.flatten())\n",
    "\n",
    "# 使用加载的模型预测（结果应完全相同）\n",
    "savedmodel_pred = loaded_savedmodel.predict(test_data)\n",
    "h5_pred = loaded_h5_model.predict(test_data)\n",
    "\n",
    "print(\"SavedModel 预测:\", savedmodel_pred.flatten())\n",
    "print(\"H5 模型预测:    \", h5_pred.flatten())\n",
    "\n",
    "# 验证预测结果是否相同\n",
    "print(\"预测结果是否相同:\", np.allclose(original_pred, savedmodel_pred) and np.allclose(original_pred, h5_pred))"
   ]
  },
  {
   "cell_type": "markdown",
   "id": "f29200f8-f936-4245-ae4e-af8ea2b88f6c",
   "metadata": {},
   "source": [
    "## 6. 两种格式如何选择？\n",
    "| 特性             | SavedModel 格式 (默认)                          | H5 格式                          |\n",
    "| :--------------- | :---------------------------------------------- | :------------------------------- |\n",
    "| **文件数量**     | 一个目录，包含多个文件                          | 单个文件                         |\n",
    "| **兼容性**       | TensorFlow 生态首选，被 TF Serving, Lite, .js 支持 | 主要适用于 Keras                 |\n",
    "| **自定义对象**   | 支持较好，需在加载时传递 `custom_objects` 参数    | 支持较好，需在加载时传递 `custom_objects` 参数 |\n",
    "| **版本控制**     | 有，面向未来兼容性更好                          | 较弱                             |\n",
    "| **推荐场景**     | 生产环境、部署、继续训练                        | 研究、分享、快速实验             |\n",
    "\n",
    "**一般建议：**\n",
    "\n",
    "*   默认使用 `SavedModel` 格式（即不指定扩展名），除非你有特殊需求。\n",
    "*   当你需要单个文件以便于邮件发送或管理时，使用 H5 格式（`.h5` 或 `.keras`）。"
   ]
  },
  {
   "cell_type": "markdown",
   "id": "203f99b0-af0e-4dd4-b865-23147ed8f93f",
   "metadata": {},
   "source": [
    "---\n",
    "## 7. 处理自定义对象\n",
    "如果你的模型包含自定义层、损失函数或指标，需要在加载时通过 `custom_objects` 参数告诉 `TensorFlow` 如何解析它们。\n",
    "\n",
    "定义自定义层："
   ]
  },
  {
   "cell_type": "code",
   "execution_count": null,
   "id": "18e366ff-05d7-4b92-b25c-bb12362aa33c",
   "metadata": {},
   "outputs": [],
   "source": [
    "class CustomLayer(tf.keras.layers.Layer):\n",
    "    def __init__(self, units=32, **kwargs):\n",
    "        super().__init__(**kwargs)\n",
    "        self.units = units\n",
    "\n",
    "    def build(self, input_shape):\n",
    "        self.w = self.add_weight(shape=(input_shape[-1], self.units),\n",
    "                                initializer='random_normal',\n",
    "                                trainable=True)\n",
    "    def call(self, inputs):\n",
    "        return tf.matmul(inputs, self.w)\n",
    "\n",
    "    def get_config(self):\n",
    "        return {'units': self.units}"
   ]
  },
  {
   "cell_type": "code",
   "execution_count": null,
   "id": "ec75bf77-218d-40ac-a766-ea4ae26d458b",
   "metadata": {},
   "outputs": [],
   "source": [
    "保存和加载包含自定义层的模型："
   ]
  },
  {
   "cell_type": "code",
   "execution_count": null,
   "id": "db082237-b965-44c3-b3fb-bcf8978e026b",
   "metadata": {},
   "outputs": [],
   "source": [
    "# 创建并保存包含自定义层的模型\n",
    "model = tf.keras.Sequential([CustomLayer(10), tf.keras.layers.Dense(1)])\n",
    "model.compile(optimizer='adam', loss='mse')\n",
    "model.save('custom_model') # 保存\n",
    "\n",
    "# 加载时提供自定义对象的映射字典\n",
    "loaded_model = tf.keras.models.load_model(\n",
    "    'custom_model',\n",
    "    custom_objects={'CustomLayer': CustomLayer} # 关键：告诉TF如何解析CustomLayer\n",
    ")"
   ]
  },
  {
   "cell_type": "markdown",
   "id": "84732312-d26d-4e0d-a505-de4461642d87",
   "metadata": {},
   "source": [
    "# 总结\n",
    "`model.save()` 是保存整个模型的首选方法。\n",
    "\n",
    "默认格式是 `SavedModel`（目录），适用于生产和部署。\n",
    "\n",
    "使用 `.h5` 或 `.keras` 扩展名来保存为单个 `H5` 文件，便于分享和研究。\n",
    "\n",
    "使用 `tf.keras.models.load_model()` 来加载模型，对于自定义对象需要提供 `custom_objects` 参数字典。\n",
    "\n",
    "保存的模型包含完整信息，可以用于预测或继续训练。"
   ]
  },
  {
   "cell_type": "code",
   "execution_count": null,
   "id": "585ae366-77eb-470a-b5f8-136c5acbf501",
   "metadata": {},
   "outputs": [],
   "source": []
  }
 ],
 "metadata": {
  "kernelspec": {
   "display_name": "Python [conda env:deepseek_env]",
   "language": "python",
   "name": "conda-env-deepseek_env-py"
  },
  "language_info": {
   "codemirror_mode": {
    "name": "ipython",
    "version": 3
   },
   "file_extension": ".py",
   "mimetype": "text/x-python",
   "name": "python",
   "nbconvert_exporter": "python",
   "pygments_lexer": "ipython3",
   "version": "3.12.9"
  }
 },
 "nbformat": 4,
 "nbformat_minor": 5
}

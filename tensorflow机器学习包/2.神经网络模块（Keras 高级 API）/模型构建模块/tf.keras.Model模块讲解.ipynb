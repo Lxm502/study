{
 "cells": [
  {
   "cell_type": "markdown",
   "id": "7928d2c7-52ff-48c8-8992-c5911a3df422",
   "metadata": {},
   "source": [
    "# 一、tf.keras.Model 是什么？\n",
    "tf.keras.Model（特别是通过子类化 Subclassing 方式）允许你高度灵活地自定义模型结构，并精确控制数据在模型内部的流向，适用于复杂、非标准结构的模型。\n",
    "\n",
    "# 二、tf.keras.Model 使用的基本步骤\n",
    "| 步骤        | 说明                                    | 代码示例                                                                                                                                                                                                                                     |\n",
    "| --------- | ------------------------------------- | ---------------------------------------------------------------------------------------------------------------------------------------------------------------------------------------------------------------------------------------- |\n",
    "| 1. 定义模型类  | 继承 `tf.keras.Model`，在构造函数里定义各层        | `class MyModel(tf.keras.Model):  def __init__(self):    super().__init__()    self.dense1 = tf.keras.layers.Dense(64, activation='relu')     self.dense2 = tf.keras.layers.Dense(10, activation='softmax') ` |\n",
    "| 2. 定义前向传播 | 重写 `call(self, inputs)` 方法，定义数据如何流过网络 | `    def call(self, inputs):     x = self.dense1(inputs)     return self.dense2(x) `                                                                                                                                    |\n",
    "| 3. 实例化模型  | 创建模型对象                                | `  model = MyModel() `                                                                                                                                                                                                        |\n",
    "| 4. 编译模型   | 指定优化器、损失函数和指标                         | `  model.compile(optimizer='adam',               loss='sparse_categorical_crossentropy',               metrics=['accuracy']) `                                                                                          |\n",
    "| 5. 训练模型   | 使用 `fit` 输入训练数据                       | `  model.fit(train_x, train_y, epochs=5, batch_size=32) `                                                                                                                                                                     |\n",
    "| 6. 评估与预测  | 用 `evaluate` 和 `predict`              | `  model.evaluate(test_x, test_y) preds = model.predict(new_data) `                                                                                                                                                        |\n"
   ]
  },
  {
   "cell_type": "markdown",
   "id": "b339a9f6-8a8e-472c-be57-4a19883cb1a1",
   "metadata": {},
   "source": [
    "## 🔍 分点解释：\n",
    "### ✅ 1. “按照自己需求搭建模型” \n",
    "使用 tf.keras.Model 子类化，你可以：\\\n",
    "1、自由定义 __init__ 中的层（如 Dense、Conv、LSTM、自定义层等）\\\n",
    "2、灵活组合各种层，构建非常规结构的模型，比如：\\\n",
    "多输入 / 多输出模型\\\n",
    "残差连接（ResNet）\\\n",
    "注意力机制\\\n",
    "自编码器（Autoencoder）\\\n",
    "GAN 的生成器或判别器\\\n",
    "强化学习中的策略网络等\\\n",
    "### ✅ 举例："
   ]
  },
  {
   "cell_type": "code",
   "execution_count": null,
   "id": "126b6509-7919-4c28-89c4-8623971aa678",
   "metadata": {},
   "outputs": [],
   "source": [
    "class MyModel(tf.keras.Model):\n",
    "    def __init__(self):\n",
    "        super().__init__()   # 自动继承父类的构造方法\n",
    "        self.dense1 = tf.keras.layers.Dense(64, activation='relu')   \n",
    "        self.dense2 = tf.keras.layers.Dense(32)\n",
    "        self.skip_connect = tf.keras.layers.Dense(32)  # 可以做残差连接\n",
    "        self.output_layer = tf.keras.layers.Dense(10, activation='softmax')  # 输出层 多分类输出 \n",
    "\n",
    "这比 Sequential 模型灵活得多。"
   ]
  },
  {
   "cell_type": "markdown",
   "id": "d4c0966e-0719-4049-9d43-ddee6557b8cc",
   "metadata": {},
   "source": [
    "### 2. “自己控制数据的流向” ✅ 正确\n",
    "在 call(self, inputs) 方法中，你手动编写前向传播逻辑，决定数据如何流动。"
   ]
  },
  {
   "cell_type": "code",
   "execution_count": null,
   "id": "36802e94-1de4-4d19-910e-fe51bdec1814",
   "metadata": {},
   "outputs": [],
   "source": [
    "def call(self, x):\n",
    "    h1 = self.dense1(x)\n",
    "    h2 = self.dense2(h1)\n",
    "    skip = self.skip_connect(x)  # 直接从输入引出一支路\n",
    "    h2 = h2 + skip  # 实现残差连接\n",
    "    return self.output_layer(h2)\n"
   ]
  },
  {
   "cell_type": "markdown",
   "id": "b1fbb6fa-f41b-45f8-a537-ecad8351d2bb",
   "metadata": {},
   "source": [
    "你可以：\\\n",
    "写 if 条件判断（比如训练/推理不同行为）\\\n",
    "写 for 循环（如 RNN 展开）\\\n",
    "实现复杂的连接方式（如跳跃连接、多路径、注意力权重计算等）\\\n",
    "✅ 这是 Sequential 模型做不到的。\n",
    "\n",
    "### ⚠️ 但要注意：不是唯一的“自定义”方式\n",
    "Keras 提供了三种构建模型的方式，tf.keras.Model 子类化只是其中之一：\\\n",
    "| 方法               | 灵活性 | 易用性 | 适用场景                        |\n",
    "|--------------------|--------|--------|--------------------------------|\n",
    "| Sequential         | 低     | 高     | 简单的线性堆叠（层一个接一个） |\n",
    "| 函数式 API（Functional API） | 中     | 中     | 有分支、共享层、多输入输出的静态图模型 |\n",
    "| Model 子类化       | 高     | 低     | 动态逻辑、复杂控制流、研究型模型 |\n",
    "\n",
    "✅ 所以你选择 Model 子类化，就是为了最大自由度。\n",
    "\n",
    "### ✅ 举个例子说明“控制数据流向”的强大"
   ]
  },
  {
   "cell_type": "code",
   "execution_count": null,
   "id": "1d6b24c0-5976-4219-9683-b7a0883565b3",
   "metadata": {},
   "outputs": [],
   "source": [
    "def call(self, x, training=None):\n",
    "    if training:\n",
    "        noise = tf.random.normal(tf.shape(x)) * 0.1\n",
    "        x = x + noise  # 只在训练时加噪声（如去噪自编码器）\n",
    "    return self.decoder(self.encoder(x))"
   ]
  },
  {
   "cell_type": "markdown",
   "id": "30b0f25b-b0cd-4592-a880-1ea2fa93fb16",
   "metadata": {},
   "source": [
    "这种训练/推理行为不同的逻辑，只能通过子类化实现。\n",
    "\n",
    "### ❌ 常见误解澄清\n",
    "| 误解                       | 澄清                                                         |\n",
    "|----------------------------|--------------------------------------------------------------|\n",
    "| “用了 Model 就不用 compile 和 fit 了”      | ❌ 错！仍然可以用 model.compile() 和 model.fit()，除非你写自定义训练循环。 |\n",
    "| “所有模型都该用 Model 子类化”             | ❌ 错！简单模型用 Sequential 或 函数式 API 更清晰、更安全。               |\n",
    "| “子类化模型一定能加速”                   | ❌ 错！它更灵活，但可能更难优化，有时函数式 API 编译更快。                 |\n",
    "\n",
    "## ✅ 总结\n",
    "\n",
    "使用 tf.keras.Model 子类化，就是为了让开发者像写普通   函数一样，自由定义模型结构和数据流动逻辑，特别适合研究、实验、复杂网络结构。\n",
    "\n",
    "📌 建议：在能用 函数式 API 解决时优先用它（更简洁、可读性好）；只有在需要动态控制流时，才使用 Model 子类化。"
   ]
  },
  {
   "cell_type": "markdown",
   "id": "efb4b7f5-3f6d-43dd-b8f9-59c43be7c564",
   "metadata": {},
   "source": [
    "# 三、完整示例代码（手把手）"
   ]
  },
  {
   "cell_type": "code",
   "execution_count": null,
   "id": "caf2519d-c252-45d3-8282-b962f9911a1b",
   "metadata": {},
   "outputs": [],
   "source": [
    "import tensorflow as tf\n",
    "\n",
    "# 1. 定义模型类\n",
    "class MyModel(tf.keras.Model):\n",
    "    def __init__(self):\n",
    "        super().__init__()\n",
    "        self.dense1 = tf.keras.layers.Dense(64, activation='relu')\n",
    "        self.dense2 = tf.keras.layers.Dense(10, activation='softmax')\n",
    "\n",
    "    def call(self, inputs):   # 控制数据分向\n",
    "        x = self.dense1(inputs)\n",
    "        return self.dense2(x)\n",
    "\n",
    "# 2. 实例化模型\n",
    "model = MyModel()\n",
    "\n",
    "# 3. 编译模型\n",
    "model.compile(\n",
    "    optimizer='adam',\n",
    "    loss='sparse_categorical_crossentropy',\n",
    "    metrics=['accuracy']\n",
    ")\n",
    "\n",
    "# 假数据示范\n",
    "import numpy as np\n",
    "train_x = np.random.random((1000, 20))\n",
    "train_y = np.random.randint(0, 10, (1000,))\n",
    "\n",
    "test_x = np.random.random((200, 20))\n",
    "test_y = np.random.randint(0, 10, (200,))\n",
    "\n",
    "# 4. 训练模型\n",
    "model.fit(train_x, train_y, epochs=5, batch_size=32)\n",
    "\n",
    "# 5. 评估模型\n",
    "model.evaluate(test_x, test_y)\n",
    "\n",
    "# 6. 预测\n",
    "sample_data = np.random.random((5, 20))\n",
    "predictions = model.predict(sample_data)\n",
    "print(predictions)\n"
   ]
  },
  {
   "cell_type": "markdown",
   "id": "b5c154c9-ebff-4e38-8723-13efc2479e9f",
   "metadata": {},
   "source": [
    "# 四、重点讲解\n",
    "| 关键点                 | 说明                             |\n",
    "| ------------------- | ------------------------------ |\n",
    "| **定义层（`__init__`）** | 这里定义网络所有层，类似搭积木。所有层都以成员变量形式存在。 |\n",
    "| **定义前向传播（`call`）**  | 数据流向和计算过程写在这里，必须返回模型输出。        |\n",
    "| **实例化模型**           | 直接调用类，获得模型实例。                  |\n",
    "| **编译模型**            | 绑定训练用的优化器、损失函数、评估指标。           |\n",
    "| **训练/评估/预测**        | 使用 Keras 标准接口调用即可。             |\n",
    "\n",
    "# 五、call 方法额外参数说明\n",
    "call(self, inputs, training=False) 中：\n",
    "\n",
    "inputs：输入张量。\\\n",
    "training：布尔值，表示当前是训练还是推理阶段（有些层如 Dropout, BatchNorm 需要区分）。\\\n",
    "你可以根据 training 参数设计训练和推理不同逻辑："
   ]
  },
  {
   "cell_type": "code",
   "execution_count": null,
   "id": "4292f425-8846-4e0b-ab6b-96d823fc305b",
   "metadata": {},
   "outputs": [],
   "source": [
    "def call(self, inputs, training=False):\n",
    "    x = self.dense1(inputs)\n",
    "    if training:\n",
    "        x = tf.nn.dropout(x, rate=0.5)\n",
    "    return self.dense2(x)"
   ]
  },
  {
   "cell_type": "markdown",
   "id": "861ccb4c-9476-4e4e-8676-44cc1ad5cfa8",
   "metadata": {},
   "source": [
    "# 六、小结\n",
    "| 你会获得          | 说明                                                     |\n",
    "| ------------- | ------------------------------------------------------ |\n",
    "| 完全自由的模型结构设计能力 | 支持任意复杂计算图，比如多输入多输出、跳跃连接、条件计算                           |\n",
    "| 完整训练流程兼容      | 依然可以用 `compile`、`fit`、`evaluate`、`predict` 这些 Keras 接口 |\n",
    "| 未来可扩展自定义训练步骤  | 可覆盖 `train_step` 实现复杂训练逻辑                              |\n"
   ]
  },
  {
   "cell_type": "code",
   "execution_count": null,
   "id": "8a701cbe-2e4a-4f5f-89d1-f8dbc59dbef6",
   "metadata": {},
   "outputs": [],
   "source": []
  },
  {
   "cell_type": "markdown",
   "id": "d4c2227c-60ad-4153-8ecf-d7f5ca712738",
   "metadata": {},
   "source": [
    "--- "
   ]
  },
  {
   "cell_type": "markdown",
   "id": "c9c549aa-d9c7-4b4a-a69c-f11e17577b98",
   "metadata": {},
   "source": [
    "# 1. model.compile() 的作用\n",
    "\n",
    "model.compile() 是 模型训练前的配置步骤，它主要做三件事：\n",
    "\n",
    "- 1）指定优化器 (`optimize`)：\n",
    "\n",
    "   - 决定参数如何更新（梯度下降、学习率等）。\n",
    "\n",
    "- 2）指定损失函数 (`loss`)：\n",
    "\n",
    "   - 衡量预测结果和真实标签之间的差异。\n",
    "\n",
    "- 3）指定评估指标 (`metrics`)：\n",
    "\n",
    "  - 在训练和测试过程中，用于监控模型表现（比如准确率）。\n",
    "\n",
    "### 👉 简单来说：\n",
    "model.compile(optimizer,loss,metrics,loss_weights) = 设定模型训练的`“规则”`。\n",
    "\n",
    "---\n",
    "## 2. 常用参数\n",
    "### (1) optimizer —— 优化器\n",
    "\n",
    "- 控制参数更新的方式。\n",
    "\n",
    "- 可以是字符串或优化器对象：\\\n",
    "`SGD`         # 随机梯度下降\\\n",
    "`Adam`        # Adam优化器,现在主流默认的\\\n",
    "`RMSprop`     # RMSprop优化器\n",
    "\n",
    "---\n",
    "### (2) loss —— 损失函数\n",
    "- 训练时最核心的目标函数。\n",
    "- 选择取决于任务类型：\n",
    "| 任务类型 | 常用损失函数                                                                            |\n",
    "| ---- | --------------------------------------------------------------------------------- |\n",
    "| 二分类  | `binary_crossentropy`                                                             |\n",
    "| 多分类  | `categorical_crossentropy`（one-hot 标签）<br>`sparse_categorical_crossentropy`（整数标签） |\n",
    "| 回归   | `mse`（均方误差）、`mae`（平均绝对误差）、`huber_loss`                                            |\n",
    "| 其他   | 自定义函数 (callable)                                                                  |\n",
    "\n",
    "---\n",
    "### (3) metrics —— 评估指标\n",
    "\n",
    "- 不影响训练，只是监控效果。\n",
    "\n",
    "常见指标：  \\\n",
    "`accuracy`             ====>  # 分类准确率 \\\n",
    "`AUC`                   ====>   # ROC 曲线下的面积\\\n",
    "`Precision`, `Recall`   ====>   # 精确率、召回率\\\n",
    "`mae`, `mse`, `RootMeanSquaredError`  ====> # 回归指标\n",
    "\n",
    "---\n",
    "### (4) loss_weights （可选）\n",
    "\n",
    "- 用于多输出模型，给不同输出的 loss 加权。\n",
    "\n",
    "model.compile( optimizer='adam',loss={'out1':'mse', 'out2':'binary_crossentropy'},loss_weights={'out1':0.7, 'out2':0.3})\n",
    "\n",
    "---\n",
    "### (5) sample_weight_mode（少用）\n",
    "\n",
    "- 控制样本加权的方式。常用于时间序列。\n",
    "\n",
    "---\n",
    "## 3.自定义损失 + 多指标 代码示例"
   ]
  },
  {
   "cell_type": "code",
   "execution_count": null,
   "id": "85683e5a-9099-40c3-ba2f-fe02dfcf65f9",
   "metadata": {},
   "outputs": [],
   "source": [
    "import tensorflow as tf\n",
    "\n",
    "def my_loss(y_true, y_pred):\n",
    "    return tf.reduce_mean(tf.square(y_true - y_pred))\n",
    "\n",
    "model.compile(\n",
    "    optimizer='adam',\n",
    "    loss=my_loss,\n",
    "    metrics=['mae', tf.keras.metrics.RootMeanSquaredError()]\n",
    ")\n"
   ]
  },
  {
   "cell_type": "markdown",
   "id": "f5cbd344-6042-42ec-b3a1-d929671ff824",
   "metadata": {},
   "source": [
    "# 4. 总结记忆\n",
    "\n",
    "- optimizer → 怎么学（梯度下降方法）\n",
    "\n",
    "- loss → 学什么（目标函数）\n",
    "\n",
    "- metrics → 学得怎么样（评估标准）"
   ]
  },
  {
   "cell_type": "code",
   "execution_count": null,
   "id": "f03b0676-6fe7-4682-8cb9-eff8e7a73da7",
   "metadata": {},
   "outputs": [],
   "source": []
  },
  {
   "cell_type": "code",
   "execution_count": null,
   "id": "e2a34a07-d3c8-4e81-98e4-687fdc02f1bc",
   "metadata": {},
   "outputs": [],
   "source": []
  },
  {
   "cell_type": "markdown",
   "id": "8748c507-8499-4153-9290-1fe6e9b719ee",
   "metadata": {},
   "source": [
    "---"
   ]
  },
  {
   "cell_type": "markdown",
   "id": "7f1a01d9-bac5-4c43-843d-e96e63fb8243",
   "metadata": {},
   "source": [
    "# TensorFlow Keras 函数式 API 的使用方法\n",
    "它是继承 tf.keras.Model 之外另一种非常常用且灵活的建模方式。\n",
    "\n",
    "## 1、什么是函数式 API？\n",
    "以函数的方式定义模型，将输入张量和输出张量“连接”起来。\n",
    "\n",
    "适合构建非线性结构、多输入多输出的模型。\n",
    "\n",
    "与 Sequential 不同，不用按层顺序添加，而是通过张量“流动”定义结构。\n",
    "\n",
    "## 2、函数式 API 基本步骤和示例"
   ]
  },
  {
   "cell_type": "code",
   "execution_count": null,
   "id": "a2df0bdb-f000-4a5f-8934-40af40cecb6d",
   "metadata": {},
   "outputs": [],
   "source": [
    "import tensorflow as tf\n",
    "from tensorflow.keras import layers, Model\n",
    "\n",
    "# 1. 定义输入张量（必须）\n",
    "inputs = tf.keras.Input(shape=(20,))  # 输入特征维度是20\n",
    "\n",
    "# 2. 定义网络层并连接（像搭积木，层和张量互相调用）\n",
    "x = layers.Dense(64, activation='relu')(inputs)\n",
    "x = layers.Dropout(0.5)(x)\n",
    "outputs = layers.Dense(10, activation='softmax')(x)\n",
    "\n",
    "# 3. 创建模型，指定输入和输出\n",
    "# name 这个参数，是给你创建的模型指定一个名字（name），方便你在后续使用时辨识和管理。\n",
    "model = Model(inputs=inputs, outputs=outputs, name='functional_model')\n",
    "\n",
    "# 4. 编译模型\n",
    "model.compile(optimizer='adam',\n",
    "              loss='sparse_categorical_crossentropy',\n",
    "              metrics=['accuracy'])\n",
    "\n",
    "# 5. 训练\n",
    "# 假数据示例\n",
    "import numpy as np\n",
    "train_x = np.random.random((1000, 20))\n",
    "train_y = np.random.randint(0, 10, (1000,))\n",
    "\n",
    "model.fit(train_x, train_y, epochs=5, batch_size=32)\n",
    "\n",
    "\n",
    "# name 参数的讲解\n",
    "model = Model(inputs=inputs, outputs=outputs, name='functional_model')\n",
    "print(model.name) \n",
    "# 输出：functional_model\n",
    "\n",
    "如果不指定，系统默认会给你一个名字，如 model_1。"
   ]
  },
  {
   "cell_type": "markdown",
   "id": "cae9e345-cefe-4519-8035-2e53828cc986",
   "metadata": {},
   "source": [
    "| 作用         | 说明                                                                                                                        |\n",
    "| ---------- | ------------------------------------------------------------------------------------------------------------------------- |\n",
    "| **模型标识**   | 在 TensorFlow 和 Keras 中，每个模型都有一个名字，默认会自动生成类似 `model_1`、`model_2` 这样的名字。你也可以手动指定一个更有意义的名字，比如 `'functional_model'`，方便区分不同模型。 |\n",
    "| **日志记录**   | 训练时 TensorBoard、日志或保存文件中，会用到这个名字来标识该模型。                                                                                   |\n",
    "| **保存与加载**  | 保存模型时，文件夹或文件名通常包含模型名，便于管理多个模型。                                                                                            |\n",
    "| **调试与可视化** | 画模型结构图、打印摘要时，会显示模型名字，帮助理解和调试。                                                                                             |\n"
   ]
  },
  {
   "cell_type": "markdown",
   "id": "10fd6820-d926-4d2f-8f98-bfd575ab0e7a",
   "metadata": {},
   "source": [
    "## 3、重要点说明\n",
    "| 步骤                       | 说明                            |\n",
    "| ------------------------ | ----------------------------- |\n",
    "| `Input(shape=...)`       | 定义模型输入占位张量，是函数式 API 必需的第一步。   |\n",
    "| 层的调用                     | 层本身是可调用的函数，输入张量进去，输出新的张量。     |\n",
    "| `Model(inputs, outputs)` | 创建模型实例，必须明确输入和输出。             |\n",
    "| 灵活连接                     | 层与层之间可以任意连接，支持多输入多输出、残差等复杂结构。 |\n",
    "## 多输入多输出示例 \n"
   ]
  },
  {
   "cell_type": "code",
   "execution_count": null,
   "id": "8f6040dd-9ae1-40d8-bc06-bd9ee48b7d44",
   "metadata": {},
   "outputs": [],
   "source": [
    "# 多输入\n",
    "input_a = tf.keras.Input(shape=(32,))\n",
    "input_b = tf.keras.Input(shape=(64,))\n",
    "\n",
    "x1 = layers.Dense(16, activation='relu')(input_a)\n",
    "x2 = layers.Dense(16, activation='relu')(input_b)\n",
    "\n",
    "# 把多个张量（Tensor）在指定的维度上拼接（Concatenate）成一个张量。\n",
    "# 可以把它想象成 NumPy 里的 np.concatenate()，只是它是 Keras 层版本，可以直接在模型里用，并且是可训练计算图的一部分。\n",
    "concat = layers.concatenate([x1, x2])\n",
    "output = layers.Dense(1, activation='sigmoid')(concat)\n",
    "\n",
    "model = Model(inputs=[input_a, input_b], outputs=output)\n",
    "\n",
    "model.compile(optimizer='adam', loss='binary_crossentropy')\n"
   ]
  },
  {
   "cell_type": "markdown",
   "id": "017c28e3-82e3-4b15-9ec9-830428ee2df4",
   "metadata": {},
   "source": [
    "## layers.concatenate() :详细解释\n",
    "| 项目        | 说明                                                    |\n",
    "| --------- | ----------------------------------------------------- |\n",
    "| **功能**    | 将多个输入张量合并为一个张量（沿指定轴拼接）                                |\n",
    "| **输入**    | 一个张量列表 `[x1, x2, ...]`，这些张量的形状必须**除了拼接的那个轴以外，其他维度一致** |\n",
    "| **默认拼接轴** | `axis=-1`（最后一个维度，通常是**特征维度**）                         |\n",
    "| **返回值**   | 一个新的张量，包含所有输入的特征拼接结果                                  |\n"
   ]
  },
  {
   "cell_type": "markdown",
   "id": "eb887fef-0f95-49ec-b294-5d4dfe9eda73",
   "metadata": {},
   "source": [
    "## 4、函数式 API 和子类化对比\n",
    "| 特点   | 函数式 API                | 子类化 Model        |\n",
    "| ---- | ---------------------- | ---------------- |\n",
    "| 定义方式 | 通过张量操作显式定义计算图          | 继承并重写 `call` 实现  |\n",
    "| 灵活性  | 支持复杂拓扑，多输入多输出          | 最灵活，支持条件逻辑和自定义训练 |\n",
    "| 可读性  | 清晰直观，结构一目了然            | 代码更灵活但可能复杂       |\n",
    "| 训练接口 | 完全支持 `compile` 和 `fit` | 也支持，且可自定义训练流程    |\n"
   ]
  },
  {
   "cell_type": "code",
   "execution_count": null,
   "id": "fac727b0-cce8-4b7d-bfb0-05ca2022542d",
   "metadata": {},
   "outputs": [],
   "source": []
  },
  {
   "cell_type": "code",
   "execution_count": null,
   "id": "49c99478-d11d-4268-9a38-46df589c08f4",
   "metadata": {},
   "outputs": [],
   "source": []
  },
  {
   "cell_type": "code",
   "execution_count": null,
   "id": "1e0c25d0-6ecb-428f-8111-1007f9342d70",
   "metadata": {},
   "outputs": [],
   "source": []
  },
  {
   "cell_type": "code",
   "execution_count": null,
   "id": "2d36503a-aa29-4777-bca6-108724e0952e",
   "metadata": {},
   "outputs": [],
   "source": []
  },
  {
   "cell_type": "code",
   "execution_count": null,
   "id": "822a56b6-119c-49a8-bba3-d38cc9ef8699",
   "metadata": {},
   "outputs": [],
   "source": []
  }
 ],
 "metadata": {
  "kernelspec": {
   "display_name": "Python [conda env:deepseek_env]",
   "language": "python",
   "name": "conda-env-deepseek_env-py"
  },
  "language_info": {
   "codemirror_mode": {
    "name": "ipython",
    "version": 3
   },
   "file_extension": ".py",
   "mimetype": "text/x-python",
   "name": "python",
   "nbconvert_exporter": "python",
   "pygments_lexer": "ipython3",
   "version": "3.12.9"
  }
 },
 "nbformat": 4,
 "nbformat_minor": 5
}

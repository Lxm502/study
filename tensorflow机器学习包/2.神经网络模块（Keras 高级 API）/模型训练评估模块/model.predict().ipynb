{
 "cells": [
  {
   "cell_type": "markdown",
   "id": "711b0d2d-6b13-4bd2-93e1-196756b4a58d",
   "metadata": {},
   "source": [
    "# model.predict()\n",
    "## 🧠 一、model.predict() 是什么？\n",
    "在 TensorFlow / Keras 中，model.predict() 是用于**模型推理（inference）**的接口 —— 即用训练好的模型，对新数据进行预测。\n",
    "\n",
    "## 🔧 二、model.predict() 的函数定义"
   ]
  },
  {
   "cell_type": "code",
   "execution_count": null,
   "id": "13a5fad6-01ac-4d2a-a7b5-e209e0197f78",
   "metadata": {},
   "outputs": [],
   "source": [
    "model.predict(\n",
    "    x,\n",
    "    batch_size=None,\n",
    "    verbose=0,\n",
    "    steps=None,\n",
    "    callbacks=None,\n",
    "    max_queue_size=10,\n",
    "    workers=1,\n",
    "    use_multiprocessing=False\n",
    ")\n"
   ]
  },
  {
   "cell_type": "markdown",
   "id": "3b34f9a9-efd8-47a0-bbcd-9c29b6f0f835",
   "metadata": {},
   "source": [
    "| 参数名                   | 说明                                              |\n",
    "| --------------------- | ----------------------------------------------- |\n",
    "| `x`                   | 输入数据，支持 Numpy 数组、Tensor、`tf.data.Dataset`、生成器等。 |\n",
    "| `batch_size`          | 每批输入数据的大小。默认由模型自动决定。                            |\n",
    "| `verbose`             | 是否显示进度条（0 静默，1 显示进度）                            |\n",
    "| `steps`               | 如果 `x` 是生成器或 Dataset，表示要预测的总步骤数                 |\n",
    "| `callbacks`           | 预测时调用的回调函数（一般用于高级用途）                            |\n",
    "| `use_multiprocessing` | 是否使用多进程生成批次数据（配合 `workers` 参数）                  |\n",
    "| `workers`             | 并行线程数，用于生成数据                                    |\n"
   ]
  },
  {
   "cell_type": "markdown",
   "id": "6ebd6879-c6bb-49c6-89dc-53e5c8001b92",
   "metadata": {},
   "source": [
    "### 🧪 三、基本使用示例\n",
    "示例：回归问题（输出连续值）"
   ]
  },
  {
   "cell_type": "code",
   "execution_count": null,
   "id": "2e09a550-cc89-4905-8e89-c8e423313005",
   "metadata": {},
   "outputs": [],
   "source": [
    "import numpy as np\n",
    "from tensorflow.keras.models import Sequential\n",
    "from tensorflow.keras.layers import Dense\n",
    "\n",
    "# 构造简单数据\n",
    "X = np.array([[0], [1], [2], [3], [4]])\n",
    "y = np.array([[0], [1], [2], [3], [4]])\n",
    "\n",
    "# 构建模型\n",
    "model = Sequential([\n",
    "    Dense(10, activation='relu', input_shape=(1,)),\n",
    "    Dense(1)\n",
    "])\n",
    "model.compile(optimizer='adam', loss='mse')\n",
    "model.fit(X, y, epochs=200, verbose=0)\n",
    "\n",
    "# 预测\n",
    "X_test = np.array([[1.5], [2.5], [3.5]])\n",
    "pred = model.predict(X_test)\n",
    "print(pred)\n"
   ]
  },
  {
   "cell_type": "markdown",
   "id": "b3cea80a-6041-491e-a37b-c0756ecf7b6f",
   "metadata": {},
   "source": [
    "### 🎯 四、分类任务中 predict 的使用\n",
    "✅ 二分类（sigmoid 输出）"
   ]
  },
  {
   "cell_type": "code",
   "execution_count": null,
   "id": "51ca2ed0-fd65-4834-b4a9-6719725d20e8",
   "metadata": {},
   "outputs": [],
   "source": [
    "from tensorflow.keras.models import Sequential\n",
    "from tensorflow.keras.layers import Dense\n",
    "import numpy as np\n",
    "\n",
    "# 数据\n",
    "X = np.random.rand(100, 5)\n",
    "y = (X[:, 0] + X[:, 1] > 1).astype(int)\n",
    "\n",
    "model = Sequential([\n",
    "    Dense(8, activation='relu', input_shape=(5,)),\n",
    "    Dense(1, activation='sigmoid')\n",
    "])\n",
    "\n",
    "# 编译模型\n",
    "model.compile(optimizer='adam', loss='binary_crossentropy', metrics=['accuracy'])\n",
    "model.fit(X, y, epochs=10, verbose=0)\n",
    "\n",
    "# 预测\n",
    "probs = model.predict(X[:5])\n",
    "labels = (probs > 0.5).astype(int)\n",
    "print(\"概率：\", probs)\n",
    "print(\"预测标签：\", labels)\n"
   ]
  },
  {
   "cell_type": "markdown",
   "id": "258d5aa6-84a6-46c2-82e4-924faf364cf0",
   "metadata": {},
   "source": [
    "✅ 多分类（softmax 输出）"
   ]
  },
  {
   "cell_type": "code",
   "execution_count": null,
   "id": "66b46769-748c-4f91-b617-40c40802abae",
   "metadata": {},
   "outputs": [],
   "source": [
    "from tensorflow.keras.utils import to_categorical\n",
    "from tensorflow.keras.models import Sequential\n",
    "from tensorflow.keras.layers import Dense, Softmax\n",
    "import numpy as np\n",
    "\n",
    "X = np.random.rand(100, 10)\n",
    "y = np.random.randint(0, 3, size=100)  # 3 类\n",
    "y_cat = to_categorical(y, num_classes=3)\n",
    "\n",
    "model = Sequential([\n",
    "    Dense(32, activation='relu', input_shape=(10,)),\n",
    "    Dense(3, activation='softmax')\n",
    "])\n",
    "model.compile(optimizer='adam', loss='categorical_crossentropy', metrics=['accuracy'])\n",
    "model.fit(X, y_cat, epochs=10, verbose=0)\n",
    "\n",
    "# 预测\n",
    "pred_probs = model.predict(X[:5])\n",
    "pred_labels = np.argmax(pred_probs, axis=1)\n",
    "print(\"概率输出：\\n\", pred_probs)\n",
    "print(\"预测类别：\", pred_labels)\n"
   ]
  },
  {
   "cell_type": "markdown",
   "id": "eddaf34b-39a5-4e50-9ae8-fd36023bdfba",
   "metadata": {},
   "source": [
    "## 🧩 五、输入数据类型支持\n",
    "| 输入类型              | 是否支持 | 说明                        |\n",
    "| ----------------- | ---- | ------------------------- |\n",
    "| Numpy 数组          | ✅    | 最常见                       |\n",
    "| TensorFlow Tensor | ✅    | 用 `tf.constant()` 或其他创建方式 |\n",
    "| `tf.data.Dataset` | ✅    | 推荐用于大数据集                  |\n",
    "| Python 生成器        | ✅    | 自定义数据生成逻辑时使用              |\n",
    "\n",
    "## 🧠 六、模型预测原理：本质 = 前向传播\n",
    "model.predict() 的核心是调用模型的 前向传播逻辑\n",
    "\n",
    "等价于：\n",
    "\n",
    "outputs = model(x_input, training=False)\n",
    "\n",
    "所以你也可以直接调用：\n",
    "\n",
    "outputs = model(tf.constant(X_test), training=False)\n",
    "\n",
    "但推荐使用 model.predict()，因为它封装了批处理、并发、安全性、更方便。\n",
    "### 🔍 七、model.predict() vs model.__call__() vs model(x)\n",
    "| 方法                         | 用途             | 是否启用训练行为           | 是否常用        |\n",
    "| -------------------------- | -------------- | ------------------ | ----------- |\n",
    "| `model.predict()`          | 正式预测           | `training=False`   | ✅ 常用        |\n",
    "| `model(x)`                 | 前向推理或训练        | 默认 `training=True` | ✅ 在自定义训练中常用 |\n",
    "| `model(x, training=False)` | 控制是否训练行为       | 手动设置               | ✅ 自定义最灵活    |\n",
    "| `model.__call__()`         | 等价于 `model(x)` | 不建议手动使用            | ❌ 少用        |\n",
    "\n",
    "## ⚠️ 八、注意事项\n",
    "1、输入 shape 要正确：单个样本必须 reshape 成 (1, 特征维度)，否则可能会报错。\\\n",
    "2、批量预测更高效： 用 batch_size 控制预测批次大小（尤其是数据集较大时）。\\\n",
    "3、模型必须已训练： 调用 .predict() 之前应先 .fit() 或 .load_weights()。\\\n",
    "4、不要用于训练时评估指标： 训练期间的评估应用 model.evaluate()，预测结果的评价需你手动计算准确率、F1 等。\n",
    "\n",
    "### ✅ 九、快速回顾总结\n",
    "| 情况         | 推荐方式                                  |\n",
    "| ---------- | ------------------------------------- |\n",
    "| 新样本预测      | `model.predict(x)`                    |\n",
    "| 要取最大概率类别标签 | `np.argmax(model.predict(x), axis=1)` |\n",
    "| 要输出分类概率    | `model.predict(x)`                    |\n",
    "| 高效批量预测     | 设置 `batch_size`                       |\n",
    "| 大规模数据      | 使用 `tf.data.Dataset`                  |\n"
   ]
  },
  {
   "cell_type": "code",
   "execution_count": null,
   "id": "1155a034-e471-4c0f-ac2f-aa4876789341",
   "metadata": {},
   "outputs": [],
   "source": []
  }
 ],
 "metadata": {
  "kernelspec": {
   "display_name": "Python [conda env:deepseek_env]",
   "language": "python",
   "name": "conda-env-deepseek_env-py"
  },
  "language_info": {
   "codemirror_mode": {
    "name": "ipython",
    "version": 3
   },
   "file_extension": ".py",
   "mimetype": "text/x-python",
   "name": "python",
   "nbconvert_exporter": "python",
   "pygments_lexer": "ipython3",
   "version": "3.12.9"
  }
 },
 "nbformat": 4,
 "nbformat_minor": 5
}

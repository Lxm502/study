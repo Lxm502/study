{
 "cells": [
  {
   "cell_type": "markdown",
   "id": "3c899694-ce45-4e45-92c8-1bf67de13b3a",
   "metadata": {},
   "source": [
    "# model.fit() \n",
    "是用于训练模型的关键方法。它会：\\\n",
    "根据输入数据和目标标签训练模型；\\\n",
    "在多个 epoch 中迭代训练； --> epoch 是训练过程的一个周期概念 \\\n",
    "支持验证集评估；\\\n",
    "可设置回调函数（Callbacks）进行日志记录、模型保存、学习率调整等。\n",
    "## 📌 语法："
   ]
  },
  {
   "cell_type": "code",
   "execution_count": null,
   "id": "a1c34877-9524-4840-be01-b84bac46ce99",
   "metadata": {},
   "outputs": [],
   "source": [
    "model.fit(\n",
    "    x=None,              # 训练数据\n",
    "    y=None,              # 标签数据\n",
    "    batch_size=None,     # 每批次数据大小\n",
    "    epochs=1,            # 总共训练多少轮\n",
    "    verbose=1,           # 日志显示模式：0=不输出，1=进度条，2=每轮一行\n",
    "    callbacks=None,      # 回调函数列表\n",
    "    validation_split=0.0,# 从训练数据中划分一部分作为验证集的比例\n",
    "    validation_data=None,# 指定验证集 (x_val, y_val)\n",
    "    shuffle=True,        # 是否在每个 epoch 开始前打乱数据\n",
    "    class_weight=None,   # 指定类别的权重，用于处理类别不平衡\n",
    "    sample_weight=None,  # 每个样本的权重\n",
    "    initial_epoch=0,     # 起始的 epoch（用于继续训练）\n",
    "    steps_per_epoch=None,# 每个 epoch 包含的批次数（用于生成器）\n",
    "    validation_steps=None# 验证集包含的批次数（用于生成器）\n",
    ")"
   ]
  },
  {
   "cell_type": "markdown",
   "id": "33d52b3f-1f0b-409c-bc62-4105e32193a6",
   "metadata": {},
   "source": [
    "## ✅ 示例用法："
   ]
  },
  {
   "cell_type": "code",
   "execution_count": null,
   "id": "fc03dcab-39b2-421e-8624-f531b01dcab7",
   "metadata": {},
   "outputs": [],
   "source": [
    "model.compile(optimizer='adam', loss='sparse_categorical_crossentropy', metrics=['accuracy'])\n",
    "\n",
    "# 表示类别 0 权重为 1.0，类别 1 权重为 2.0（样本少的类别可设更高），类别 2 为 3.0。\n",
    "class_weight = {0: 1.0, 1: 2.0, 2:3.0}\n",
    "\n",
    "history = model.fit(\n",
    "    x_train, y_train,\n",
    "    batch_size=32,\n",
    "    epochs=10,\n",
    "    validation_split=0.2,\n",
    "    shuffle=True,\n",
    "    callbacks=[...],\n",
    "    class_weight=class_weight\n",
    ")\n"
   ]
  },
  {
   "cell_type": "markdown",
   "id": "f784f0bf-3852-4df9-8efe-59ad9ae9680f",
   "metadata": {},
   "source": [
    "## 🎯 常见参数详解：\n",
    "| 参数名                              | 说明                                                        |\n",
    "| -------------------------------- | --------------------------------------------------------- |\n",
    "| `x`, `y`                         | 可以是 NumPy 数组、Tensor 或 tf.data.Dataset（如果是 Dataset 则不能传 y） |\n",
    "| `epochs`                         | 训练轮数                                                      |\n",
    "| `batch_size`                     | 一次训练的样本数量，影响内存占用和收敛速度                                     |\n",
    "| `validation_data`                | 用于在每个 epoch 结束后评估模型效果，不参与训练                               |\n",
    "| `callbacks`                      | 如 `ModelCheckpoint`, `EarlyStopping`, `TensorBoard` 等     |\n",
    "| `shuffle`                        | 打乱训练集，提升模型泛化能力                                            |\n",
    "| `class_weight` / `sample_weight` | 用于不平衡类别的加权                                                |\n",
    "\n",
    "| 参数              | 用途         | 作用范围    | 传入形式         | 适用场景             |\n",
    "| --------------- | ---------- | ------- | ------------ | ---------------- |\n",
    "| `class_weight`  | 调整类别的重要性   | 按**类别** | `{类别: 权重}`   | 类别不平衡时（正负样本比例失衡） |\n",
    "| `sample_weight` | 调整单个样本的重要性 | 按**样本** | 数组（每个样本一个权重） | 个别样本更重要或更可靠时     |\n",
    "\n",
    "\n",
    "### 📊 返回值：\n",
    "返回一个 History 对象，可以通过 .history 属性查看训练过程中的损失和指标变化："
   ]
  },
  {
   "cell_type": "code",
   "execution_count": null,
   "id": "0b03fccb-0331-464c-a7f3-51c86c0272d8",
   "metadata": {},
   "outputs": [],
   "source": [
    "history.history['loss']           # 每个 epoch 的训练损失\n",
    "history.history['val_loss']       # 每个 epoch 的验证损失\n",
    "history.history['accuracy']       # 训练精度\n",
    "history.history['val_accuracy']   # 验证精度"
   ]
  },
  {
   "cell_type": "code",
   "execution_count": null,
   "id": "bd1745e2-1d50-444d-895e-e77cd679c5ba",
   "metadata": {},
   "outputs": [],
   "source": []
  }
 ],
 "metadata": {
  "kernelspec": {
   "display_name": "Python [conda env:deepseek_env]",
   "language": "python",
   "name": "conda-env-deepseek_env-py"
  },
  "language_info": {
   "codemirror_mode": {
    "name": "ipython",
    "version": 3
   },
   "file_extension": ".py",
   "mimetype": "text/x-python",
   "name": "python",
   "nbconvert_exporter": "python",
   "pygments_lexer": "ipython3",
   "version": "3.12.9"
  }
 },
 "nbformat": 4,
 "nbformat_minor": 5
}

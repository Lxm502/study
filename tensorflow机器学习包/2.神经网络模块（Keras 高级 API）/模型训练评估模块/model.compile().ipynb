{
 "cells": [
  {
   "cell_type": "markdown",
   "id": "aacf0719-3acc-4cae-8ed9-da010278afa0",
   "metadata": {},
   "source": [
    "# model.compile() \n",
    "是模型训练前的配置步骤，用于指定模型的优化器（optimizer）、损失函数（loss）和评估指标（metrics）。\n",
    "## 一、基本语法"
   ]
  },
  {
   "cell_type": "code",
   "execution_count": null,
   "id": "99b9ffae-9c0c-4bcc-93ac-d64490e4e491",
   "metadata": {},
   "outputs": [],
   "source": [
    "model.compile(\n",
    "    optimizer='adam',\n",
    "    loss='sparse_categorical_crossentropy',\n",
    "    metrics=['accuracy']\n",
    ")\n"
   ]
  },
  {
   "cell_type": "markdown",
   "id": "42b014a2-d8d6-47fa-8a34-2a4a8d2f360c",
   "metadata": {},
   "source": [
    "## 二、参数解释\n",
    "| 参数                 | 类型         | 作用                                                       |\n",
    "| ------------------ | ---------- | -------------------------------------------------------- |\n",
    "| `optimizer`        | 字符串 或 实例对象 | 定义优化算法，如 `'adam'`、`'sgd'` 或 `tf.keras.optimizers.Adam()` |\n",
    "| `loss`             | 字符串 或 函数   | 定义损失函数，如 `'mse'`、`'binary_crossentropy'`                 |\n",
    "| `metrics`          | 字符串、函数或列表  | 指定训练和评估时的评估指标，如 `'accuracy'`、`tf.keras.metrics.AUC()`    |\n",
    "| `loss_weights`     | 字典或列表      | 多输出模型时，用于给不同输出的 loss 加权                                  |\n",
    "| `weighted_metrics` | 同上         | 使用加权数据时使用的评估指标                                           |\n",
    "| `run_eagerly`      | 布尔值        | 设置是否在 Eager 模式下运行模型，默认为 False（即使用 tf.function 加速）        |\n",
    "\n",
    "## 三、常见优化器（Optimizers）"
   ]
  },
  {
   "cell_type": "code",
   "execution_count": null,
   "id": "71f9c7e4-f92b-4c37-8aa1-bcc0e421de38",
   "metadata": {},
   "outputs": [],
   "source": [
    "from tensorflow.keras.optimizers import SGD, Adam\n",
    "\n",
    "model.compile(optimizer=SGD(learning_rate=0.01))\n",
    "model.compile(optimizer=Adam(learning_rate=0.001))\n"
   ]
  },
  {
   "cell_type": "markdown",
   "id": "3d8fd385-f528-445f-97b7-e807f4611c68",
   "metadata": {},
   "source": [
    "## 四、常见损失函数（Loss）\n",
    "| 任务类型      | 损失函数                                |\n",
    "| --------- | ----------------------------------- |\n",
    "| 回归        | `'mse'`、`'mae'`                     |\n",
    "| 二分类       | `'binary_crossentropy'`             |\n",
    "| 多分类（整数标签） | `'sparse_categorical_crossentropy'` |\n",
    "| 多分类（独热编码） | `'categorical_crossentropy'`        |\n",
    "\n",
    "## 五、常见指标（Metrics）\n",
    "| 指标名          | 说明        |\n",
    "| ------------ | --------- |\n",
    "| `'accuracy'` | 分类准确率     |\n",
    "| `'mae'`      | 平均绝对误差    |\n",
    "| `'mse'`      | 平均平方误差    |\n",
    "| `AUC()`      | ROC曲线下的面积 |\n"
   ]
  },
  {
   "cell_type": "code",
   "execution_count": null,
   "id": "32a7e3a4-da63-4645-b516-7955630dbe74",
   "metadata": {},
   "outputs": [],
   "source": [
    "from tensorflow.keras.metrics import AUC\n",
    "\n",
    "model.compile(optimizer='adam',\n",
    "              loss='binary_crossentropy',\n",
    "              metrics=['accuracy', AUC()])\n"
   ]
  },
  {
   "cell_type": "markdown",
   "id": "17a4a4a6-ab88-4445-998b-b2267e4dd763",
   "metadata": {},
   "source": [
    "## 六、示例"
   ]
  },
  {
   "cell_type": "code",
   "execution_count": null,
   "id": "5757ba0c-616d-4519-a96e-d86e719d5acc",
   "metadata": {},
   "outputs": [],
   "source": [
    "model.compile(\n",
    "    optimizer=tf.keras.optimizers.Adam(learning_rate=0.001),\n",
    "    loss=tf.keras.losses.SparseCategoricalCrossentropy(from_logits=True),\n",
    "    metrics=[tf.keras.metrics.SparseCategoricalAccuracy()]\n",
    ")\n"
   ]
  },
  {
   "cell_type": "markdown",
   "id": "2f08cce7-98ea-4799-833d-b5237e049dd6",
   "metadata": {},
   "source": [
    "## ⚠️ 七、常见注意事项\n",
    "1、分类任务中：要根据标签格式选择 categorical_crossentropy（one-hot）或 sparse_categorical_crossentropy（整数）\n",
    "\n",
    "2、optimizer 可以自己配置参数：\\\n",
    "tf.keras.optimizers.Adam(learning_rate=0.001)\n",
    "\n",
    "3、、可自定义损失函数或指标函数\\\n",
    "def custom_loss(y_true, y_pred):\\\n",
    "    ----return tf.reduce_mean(tf.square(y_true - y_pred))\n",
    "\n",
    "model.compile(optimizer='adam', loss=custom_loss)"
   ]
  },
  {
   "cell_type": "code",
   "execution_count": null,
   "id": "fcf5ab85-5228-41f2-83e4-84eb5dd5b4f1",
   "metadata": {},
   "outputs": [],
   "source": []
  }
 ],
 "metadata": {
  "kernelspec": {
   "display_name": "Python [conda env:deepseek_env]",
   "language": "python",
   "name": "conda-env-deepseek_env-py"
  },
  "language_info": {
   "codemirror_mode": {
    "name": "ipython",
    "version": 3
   },
   "file_extension": ".py",
   "mimetype": "text/x-python",
   "name": "python",
   "nbconvert_exporter": "python",
   "pygments_lexer": "ipython3",
   "version": "3.12.9"
  }
 },
 "nbformat": 4,
 "nbformat_minor": 5
}

{
 "cells": [
  {
   "cell_type": "markdown",
   "id": "ec87863d-18b8-4059-a4a5-3e8fb694f16c",
   "metadata": {},
   "source": [
    "# model.evaluate() \n",
    "是 TensorFlow / Keras 中用于评估模型在给定数据集上的性能的常用方法，通常在模型训练完毕之后使用。\n",
    "\n",
    "## ✅ 1. 函数作用"
   ]
  },
  {
   "cell_type": "code",
   "execution_count": null,
   "id": "9faaccfb-9d6a-40b2-bfcf-ba4f83078019",
   "metadata": {},
   "outputs": [],
   "source": [
    "model.evaluate(x=None, \n",
    "               y=None,\n",
    "               batch_size=None, \n",
    "               verbose=1, \n",
    "               sample_weight=None,\n",
    "               return_dict=False,\n",
    "               **kwargs)\n"
   ]
  },
  {
   "cell_type": "markdown",
   "id": "d5ad947d-24dc-4280-82b7-324ede4c1cdc",
   "metadata": {},
   "source": [
    "该方法会输出模型在测试数据上的 损失值和指标值（如准确率、精确率等），用于判断模型泛化能力。\n",
    "\n",
    "## ✅ 2. 参数说明\n",
    "| 参数              | 说明                                          |\n",
    "| --------------- | ------------------------------------------- |\n",
    "| `x`             | 输入数据（可以是 Numpy 数组、Tensor、Dataset）。          |\n",
    "| `y`             | 标签数据（对应 `x` 的真实标签）。                         |\n",
    "| `batch_size`    | 每批次评估样本数量（默认为 32，Dataset 模式可忽略）。            |\n",
    "| `verbose`       | 日志显示模式：<br>0 = 静默，<br>1 = 进度条，<br>2 = 每轮一行。 |\n",
    "| `sample_weight` | 样本权重（如果使用的话）。                               |\n",
    "| `return_dict`   | 是否以字典形式返回（默认为 False，返回列表）。                  |\n",
    "\n",
    "## ✅ 3. 返回值\n",
    "默认返回一个 列表：第一个是 loss，后面是 metrics 指标（根据 model.compile() 中设置的）\n",
    "\n",
    "如果设置 return_dict=True，则返回一个字典，键是指标名。\n",
    "\n",
    "## ✅ 4. 示例"
   ]
  },
  {
   "cell_type": "code",
   "execution_count": null,
   "id": "b3f21bc9-558f-4b4f-b0a1-e0d4c8fe7464",
   "metadata": {},
   "outputs": [],
   "source": [
    "# 假设 model 已经 compile 并 fit 完成\n",
    "loss, accuracy = model.evaluate(x_test, y_test)\n",
    "print(\"Test loss:\", loss)\n",
    "print(\"Test accuracy:\", accuracy)\n",
    "\n",
    "# 或者使用字典形式返回\n",
    "results = model.evaluate(x_test, y_test, return_dict=True)\n",
    "print(results)\n"
   ]
  },
  {
   "cell_type": "markdown",
   "id": "773f379c-ab40-4e02-ad33-0ee931984299",
   "metadata": {},
   "source": [
    "## ✅ 5. Dataset 模式使用"
   ]
  },
  {
   "cell_type": "code",
   "execution_count": null,
   "id": "7b11b402-91d0-460e-81fb-91745c84cd11",
   "metadata": {},
   "outputs": [],
   "source": [
    "test_ds = tf.data.Dataset.from_tensor_slices((x_test, y_test)).batch(32)\n",
    "model.evaluate(test_ds)\n"
   ]
  },
  {
   "cell_type": "markdown",
   "id": "6dc5091d-e0cb-492c-81d3-42fde82cf045",
   "metadata": {},
   "source": [
    "## ✅ 6. 常见用途\n",
    "模型测试阶段："
   ]
  },
  {
   "cell_type": "code",
   "execution_count": null,
   "id": "3731236f-2d4e-454a-bdd5-ab263abd3c95",
   "metadata": {},
   "outputs": [],
   "source": [
    "test_loss, test_acc = model.evaluate(test_images, test_labels)\n",
    "\n",
    "交叉验证时评估模型性能\n",
    "训练早停后，在验证集上评估最终性能"
   ]
  },
  {
   "cell_type": "code",
   "execution_count": null,
   "id": "eb4017e3-3dd8-4de3-9ab7-a2a2eb7b1d10",
   "metadata": {},
   "outputs": [],
   "source": []
  },
  {
   "cell_type": "code",
   "execution_count": null,
   "id": "2ebdf3ac-b483-422c-a25e-22d62b24328b",
   "metadata": {},
   "outputs": [],
   "source": []
  }
 ],
 "metadata": {
  "kernelspec": {
   "display_name": "Python [conda env:deepseek_env]",
   "language": "python",
   "name": "conda-env-deepseek_env-py"
  },
  "language_info": {
   "codemirror_mode": {
    "name": "ipython",
    "version": 3
   },
   "file_extension": ".py",
   "mimetype": "text/x-python",
   "name": "python",
   "nbconvert_exporter": "python",
   "pygments_lexer": "ipython3",
   "version": "3.12.9"
  }
 },
 "nbformat": 4,
 "nbformat_minor": 5
}

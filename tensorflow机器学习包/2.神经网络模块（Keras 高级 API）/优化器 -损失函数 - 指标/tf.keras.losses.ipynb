{
 "cells": [
  {
   "cell_type": "markdown",
   "id": "aa39a7f4-4b88-4864-a2ab-0bed4349c284",
   "metadata": {},
   "source": [
    "# 1.tf.keras.losses 作用\n",
    "`tf.keras.losses` 模块主要用于定义 损失函数（`Loss Function`），它的作用是衡量模型预测值 (y_pred) 与真实值 (y_true) 之间的差异，并为优化器（`Optimizer`）提供梯度信息，从而指导权重更新。\n",
    "\n",
    "---\n",
    "## 2. 常见损失函数分类\n",
    "| 类别        | 常用函数                                                       | 典型场景              |\n",
    "| --------- | ---------------------------------------------------------- | ----------------- |\n",
    "| **回归损失**  | `MeanSquaredError`, `MeanAbsoluteError`, `Huber`           | 预测连续值             |\n",
    "| **二分类损失** | `BinaryCrossentropy`                                       | 二分类（sigmoid 输出）   |\n",
    "| **多分类损失** | `CategoricalCrossentropy`, `SparseCategoricalCrossentropy` | 多类别分类（softmax 输出） |\n",
    "| **对比损失**  | `CosineSimilarity`, `KLDivergence`                         | 语义相似度、分布差异        |\n",
    "| **自定义损失** | 继承 `tf.keras.losses.Loss`                                  | 特殊任务或业务需求         |\n",
    "## 3. 使用方式\n",
    "loss 可以有三种使用形式：\n",
    "\n",
    "### ① 直接用字符串"
   ]
  },
  {
   "cell_type": "code",
   "execution_count": null,
   "id": "b7e82f9a-5587-4763-9923-957c94d6dcbf",
   "metadata": {},
   "outputs": [],
   "source": [
    "model.compile(loss='mse', optimizer='adam')\n"
   ]
  },
  {
   "cell_type": "markdown",
   "id": "6ee87480-2400-4817-92be-597505284373",
   "metadata": {},
   "source": [
    "### ② 使用类（推荐）"
   ]
  },
  {
   "cell_type": "code",
   "execution_count": null,
   "id": "0a6a7309-d152-4111-bb35-9ce12a013def",
   "metadata": {},
   "outputs": [],
   "source": [
    "from tensorflow.keras.losses import MeanSquaredError\n",
    "model.compile(loss=MeanSquaredError(), optimizer='adam')\n"
   ]
  },
  {
   "cell_type": "markdown",
   "id": "5488fb98-2841-4fc6-94dd-9a65088a2b99",
   "metadata": {},
   "source": [
    "### ③ 自定义函数"
   ]
  },
  {
   "cell_type": "code",
   "execution_count": null,
   "id": "2fc26f7c-5c90-4e4b-85c1-8fb95572fee9",
   "metadata": {},
   "outputs": [],
   "source": [
    "def my_loss(y_true, y_pred):\n",
    "    return tf.reduce_mean(tf.square(y_true - y_pred))\n",
    "\n",
    "model.compile(loss=my_loss, optimizer='adam')\n"
   ]
  },
  {
   "cell_type": "markdown",
   "id": "59031402-fe96-471f-a8cd-38242e4a2367",
   "metadata": {},
   "source": [
    "## 4. 参数讲解（以 BinaryCrossentropy 为例）"
   ]
  },
  {
   "cell_type": "code",
   "execution_count": null,
   "id": "05139bf9-edc0-4b38-9a00-ece38dce2c2b",
   "metadata": {},
   "outputs": [],
   "source": [
    "tf.keras.losses.BinaryCrossentropy(\n",
    "    from_logits=False,\n",
    "    label_smoothing=0.0,\n",
    "    axis=-1,\n",
    "    reduction=tf.keras.losses.Reduction.AUTO,\n",
    "    name='binary_crossentropy'\n",
    ")\n"
   ]
  },
  {
   "cell_type": "markdown",
   "id": "11a1898e-2695-49c4-962a-f76a465062af",
   "metadata": {},
   "source": [
    "| 参数                   | 类型      | 说明                                                         |\n",
    "| -------------------- | ------- | ---------------------------------------------------------- |\n",
    "| **from\\_logits**     | `bool`  | 如果模型输出**未经过 Sigmoid**，设为 `True`（内部会自动加 sigmoid），否则 `False` |\n",
    "| **label\\_smoothing** | `float` | 标签平滑系数，例如 0.1 会把 1 变为 0.9，0 变为 0.1                         |\n",
    "| **axis**             | `int`   | 计算损失的维度，默认 `-1`                                            |\n",
    "| **reduction**        | 枚举值     | 如何聚合损失值：`SUM`, `SUM_OVER_BATCH_SIZE`, `NONE`, `AUTO`       |\n",
    "| **name**             | `str`   | 损失函数名字，用于日志显示                                              |\n",
    "\n",
    "\n",
    "## 5. loss 与 metrics 的区别\n",
    "| 对比项           | Loss        | Metrics         |\n",
    "| ------------- | ----------- | --------------- |\n",
    "| **作用**        | 优化目标，参与反向传播 | 性能评估，不参与反向传播    |\n",
    "| **计算时机**      | 每个 batch    | 每个 batch（累计求平均） |\n",
    "| **是否影响梯度**    | ✅           | ❌               |\n",
    "| **是否在优化器中使用** | ✅           | ❌               |\n"
   ]
  },
  {
   "cell_type": "markdown",
   "id": "bd007634-9748-47e1-a02c-a28d3ab1abdc",
   "metadata": {},
   "source": [
    "## 6. 最小示例"
   ]
  },
  {
   "cell_type": "code",
   "execution_count": null,
   "id": "3951700e-953f-4d76-a27a-f61156ea4213",
   "metadata": {},
   "outputs": [],
   "source": [
    "import tensorflow as tf\n",
    "from tensorflow.keras import layers, models\n",
    "\n",
    "# 简单二分类模型\n",
    "model = models.Sequential([\n",
    "    layers.Dense(8, activation='relu', input_shape=(4,)),\n",
    "    layers.Dense(1, activation='sigmoid')\n",
    "])\n",
    "\n",
    "# 编译（使用损失函数）\n",
    "model.compile(\n",
    "    optimizer='adam',\n",
    "    loss=tf.keras.losses.BinaryCrossentropy(from_logits=False),\n",
    "    metrics=['accuracy']\n",
    ")\n",
    "\n",
    "# 生成假数据\n",
    "import numpy as np\n",
    "X = np.random.random((10, 4))\n",
    "y = np.random.randint(0, 2, size=(10, 1))\n",
    "\n",
    "# 训练\n",
    "model.fit(X, y, epochs=2)\n"
   ]
  },
  {
   "cell_type": "markdown",
   "id": "47d74f01-4386-43e2-826e-d95a61f1fb95",
   "metadata": {},
   "source": [
    "这里：\n",
    "\n",
    "loss 是 BinaryCrossentropy（指导训练）\n",
    "\n",
    "metrics 是 accuracy（仅显示性能，不参与训练）"
   ]
  },
  {
   "cell_type": "code",
   "execution_count": null,
   "id": "2d43d6bb-e146-453f-9351-27b6376ca3d1",
   "metadata": {},
   "outputs": [],
   "source": []
  },
  {
   "cell_type": "markdown",
   "id": "e11706d8-a78c-4ebc-a8a6-d955d050abfa",
   "metadata": {},
   "source": [
    "# 📌 TensorFlow tf.keras.losses 速查表\n",
    "| 损失函数                                       | 适用任务            | 主要参数                             | 备注 / 注意事项                                     |\n",
    "| ------------------------------------------ | --------------- | -------------------------------- | --------------------------------------------- |\n",
    "| **MeanSquaredError** (`'mse'`)             | 回归              | `reduction`, `name`              | 均方误差，预测连续值时常用                                 |\n",
    "| **MeanAbsoluteError** (`'mae'`)            | 回归              | 同上                               | 对异常值不敏感，适合稳健回归                                |\n",
    "| **MeanAbsolutePercentageError** (`'mape'`) | 回归              | 同上                               | 预测误差的百分比，适合关注相对误差的场景                          |\n",
    "| **Huber**                                  | 回归              | `delta`（切换 MAE 与 MSE 的阈值）        | 结合 MSE 和 MAE，抗噪性好                             |\n",
    "| **BinaryCrossentropy**                     | 二分类             | `from_logits`, `label_smoothing` | Sigmoid 输出设 `from_logits=False`，无激活输出设 `True` |\n",
    "| **CategoricalCrossentropy**                | 多分类（one-hot 标签） | `from_logits`, `label_smoothing` | Softmax 输出设 `False`，无激活设 `True`               |\n",
    "| **SparseCategoricalCrossentropy**          | 多分类（整数标签）       | 同上                               | 输入标签形如 `[0, 2, 1]` 而非 one-hot                 |\n",
    "| **KLDivergence**                           | 概率分布差异          | `reduction`, `name`              | 用于分布匹配任务，如知识蒸馏                                |\n",
    "| **CosineSimilarity**                       | 相似度             | `axis`（计算维度）                     | 用于向量相似度任务（值越大越相似）                             |\n",
    "| **Poisson**                                | 计数预测            | 同上                               | 适合预测泊松分布数据（如事件发生次数）                           |\n",
    "| **LogCosh**                                | 回归              | 同上                               | 对异常值更稳健，类似 Huber                              |\n",
    "| **Hinge**                                  | 二分类（SVM 风格）     | `reduction`, `name`              | 标签需为 {-1, 1}                                  |\n",
    "| **SquaredHinge**                           | 二分类（SVM 风格）     | 同上                               | Hinge 的平方版本                                   |\n",
    "| **CategoricalHinge**                       | 多分类（SVM 风格）     | 同上                               | 标签需为 one-hot                                  |\n",
    "\n",
    "# 📍 参数解释（通用）\n",
    "| 参数                   | 类型      | 作用                                           |\n",
    "| -------------------- | ------- | -------------------------------------------- |\n",
    "| **from\\_logits**     | `bool`  | 是否输入未经过激活函数（如 Sigmoid/Softmax）               |\n",
    "| **label\\_smoothing** | `float` | 标签平滑，减少过拟合（0\\~1）                             |\n",
    "| **delta**            | `float` | Huber/LogCosh 的切换阈值                          |\n",
    "| **axis**             | `int`   | CosineSimilarity 的计算维度                       |\n",
    "| **reduction**        | 枚举值     | `SUM`, `SUM_OVER_BATCH_SIZE`, `NONE`, `AUTO` |\n",
    "| **name**             | `str`   | 损失函数的名称                                      |\n",
    "\n",
    "# 📚 快速选择建议\n",
    "回归 → MSE, MAE, Huber\n",
    "\n",
    "二分类 → BinaryCrossentropy\n",
    "\n",
    "多分类（one-hot） → CategoricalCrossentropy\n",
    "\n",
    "多分类（整数标签） → SparseCategoricalCrossentropy\n",
    "\n",
    "分布匹配 → KLDivergence\n",
    "\n",
    "相似度任务 → CosineSimilarity\n",
    "\n",
    "SVM 风格 → Hinge / SquaredHinge / CategoricalHinge"
   ]
  },
  {
   "cell_type": "code",
   "execution_count": null,
   "id": "024c038a-3805-4e26-8a9e-503166a103ed",
   "metadata": {},
   "outputs": [],
   "source": []
  }
 ],
 "metadata": {
  "kernelspec": {
   "display_name": "Python (deepseek_env)",
   "language": "python",
   "name": "deepseek_env"
  },
  "language_info": {
   "codemirror_mode": {
    "name": "ipython",
    "version": 3
   },
   "file_extension": ".py",
   "mimetype": "text/x-python",
   "name": "python",
   "nbconvert_exporter": "python",
   "pygments_lexer": "ipython3",
   "version": "3.12.9"
  }
 },
 "nbformat": 4,
 "nbformat_minor": 5
}

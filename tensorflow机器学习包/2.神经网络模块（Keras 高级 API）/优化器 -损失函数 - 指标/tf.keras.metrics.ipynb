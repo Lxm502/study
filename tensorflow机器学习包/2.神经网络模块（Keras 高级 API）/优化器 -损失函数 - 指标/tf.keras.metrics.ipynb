{
 "cells": [
  {
   "cell_type": "markdown",
   "id": "593ae0f4-0488-4d7e-b5a1-39b8ce39f930",
   "metadata": {},
   "source": [
    "# 1. tf.keras.metrics ：概念\n",
    "tf.keras.metrics 模块提供了度量指标（Metrics），用于在训练和测试过程中评估模型性能。\\\n",
    "它可以用在：\n",
    "\n",
    "- `model.compile()` 的 `metrics` 参数中，作为训练和验证的实时评估指标\n",
    "\n",
    "也可以单独实例化，在训练循环中手动更新和计算\n",
    "\n",
    "区别于 `Loss`：\n",
    "- `Loss` 用来优化模型（参与反向传播）\n",
    "- `Metric` 只做评估（不参与梯度更新）\n",
    "\n",
    "## 2. 常用指标分类\n",
    "| 任务类型    | 常用指标                          | 说明                |\n",
    "| ------- | ----------------------------- | ----------------- |\n",
    "| **回归**  | `MeanAbsoluteError` (MAE)     | 平均绝对误差            |\n",
    "|         | `MeanSquaredError` (MSE)      | 平均平方误差            |\n",
    "|         | `RootMeanSquaredError` (RMSE) | 均方根误差             |\n",
    "| **二分类** | `BinaryAccuracy`              | 二分类准确率            |\n",
    "|         | `Precision`                   | 精确率               |\n",
    "|         | `Recall`                      | 召回率               |\n",
    "|         | `AUC`                         | ROC 曲线下的面积        |\n",
    "| **多分类** | `CategoricalAccuracy`         | 多分类准确率（独热编码标签）    |\n",
    "|         | `SparseCategoricalAccuracy`   | 多分类准确率（整数标签）      |\n",
    "| **通用**  | `Accuracy`                    | 自动选择二分类或多分类方式     |\n",
    "|         | `TopKCategoricalAccuracy`     | 前 K 个预测中包含真实标签的比例 |\n",
    "|         | `MeanIoU`                     | 交并比（图像分割常用）       |\n",
    "\n",
    "## 3. tf.keras.metrics.Metric 基本参数表\n",
    "大多数 Keras 指标类（如 tf.keras.metrics.Accuracy、tf.keras.metrics.Precision）继承自 tf.keras.metrics.Metric，它们通常有以下构造参数：\n",
    "| 参数               | 类型                            | 说明                         |\n",
    "| ---------------- | ----------------------------- | -------------------------- |\n",
    "| **`name`**       | `str`                         | 指标名称，默认自动生成                |\n",
    "| **`dtype`**      | `str` (`float32` / `float64`) | 计算时的数据类型                   |\n",
    "| **`thresholds`** | `list` 或 `float`              | 用于二分类的概率阈值（如 `0.5`）        |\n",
    "| **`top_k`**      | `int`                         | 仅在前 K 个预测中寻找正确类别（Top-K 精度） |\n",
    "\n",
    "## 4. 两种使用方式\n",
    "### 方式 1：在 model.compile() 中指定"
   ]
  },
  {
   "cell_type": "code",
   "execution_count": null,
   "id": "46d4bf5a-5407-4ccf-81e1-a51e16040f08",
   "metadata": {},
   "outputs": [],
   "source": [
    "model.compile(\n",
    "    optimizer='adam',\n",
    "    loss='categorical_crossentropy',\n",
    "    metrics=[\n",
    "        tf.keras.metrics.CategoricalAccuracy(name='acc'),\n",
    "        tf.keras.metrics.AUC(name='auc')\n",
    "    ]\n",
    ")\n"
   ]
  },
  {
   "cell_type": "markdown",
   "id": "5cba8f68-7a2b-4b6c-bf26-51c519214c5c",
   "metadata": {},
   "source": [
    "### 方式 2：手动创建并更新"
   ]
  },
  {
   "cell_type": "code",
   "execution_count": null,
   "id": "2503c709-bcff-4b08-9b2f-7d077509724b",
   "metadata": {},
   "outputs": [],
   "source": [
    "import tensorflow as tf\n",
    "\n",
    "m = tf.keras.metrics.Accuracy()\n",
    "\n",
    "# 模拟真实值与预测值\n",
    "y_true = [1, 2, 3, 4]\n",
    "y_pred = [0, 2, 3, 4]\n",
    "\n",
    "m.update_state(y_true, y_pred)  # 更新状态\n",
    "print(\"准确率：\", m.result().numpy())  # 输出: 0.75\n",
    "\n",
    "m.reset_state()  # 清空状态（下一轮计算前必须）\n"
   ]
  },
  {
   "cell_type": "markdown",
   "id": "0b143071-fe7c-48cf-a4e3-83a081257239",
   "metadata": {},
   "source": [
    "## 5. 运行机制\n",
    "每个指标类内部维护一个或多个状态变量（`state variables`），例如 count、total 等:\n",
    "- 1、`update_state`(y_true, y_pred)：接收真实值和预测值，更新内部状态（累计正确数、总数等）\n",
    "- 2、`result()`：计算并返回当前的指标值\n",
    "- 3、`reset_state()`：清空状态，为下一轮计算做准备\n",
    "\n",
    "---\n",
    "## 6. 注意事项\n",
    "- 在 回归任务 中，指标一般不会影响优化过程，仅作为监控手段\n",
    "\n",
    "- 训练日志中的 `loss` 和 `metrics` 是分别计算的，`loss` 参与梯度计算，`metrics` 不参与\n",
    "\n",
    "- 自定义指标可以继承 `tf.keras.metrics.Metric` 并实现三个方法：`__init__()`、`update_state()`、`result()`"
   ]
  },
  {
   "cell_type": "code",
   "execution_count": null,
   "id": "c8734b67-1e04-4997-bf50-1fba77d94537",
   "metadata": {},
   "outputs": [],
   "source": []
  },
  {
   "cell_type": "code",
   "execution_count": null,
   "id": "a85a0a3e-c509-4784-a7d1-6b6f8b886f5f",
   "metadata": {},
   "outputs": [],
   "source": []
  },
  {
   "cell_type": "code",
   "execution_count": null,
   "id": "ee808a39-27f9-48a7-947c-11320f379414",
   "metadata": {},
   "outputs": [],
   "source": []
  },
  {
   "cell_type": "code",
   "execution_count": null,
   "id": "7baf5ab5-2a1a-4ac6-b00a-2ad4d57db097",
   "metadata": {},
   "outputs": [],
   "source": []
  }
 ],
 "metadata": {
  "kernelspec": {
   "display_name": "Python (deepseek_env)",
   "language": "python",
   "name": "deepseek_env"
  },
  "language_info": {
   "codemirror_mode": {
    "name": "ipython",
    "version": 3
   },
   "file_extension": ".py",
   "mimetype": "text/x-python",
   "name": "python",
   "nbconvert_exporter": "python",
   "pygments_lexer": "ipython3",
   "version": "3.12.9"
  }
 },
 "nbformat": 4,
 "nbformat_minor": 5
}

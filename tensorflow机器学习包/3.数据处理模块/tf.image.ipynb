{
 "cells": [
  {
   "cell_type": "markdown",
   "id": "8d3e2c05-c53e-44cc-ba94-22161d333f02",
   "metadata": {},
   "source": [
    "# 1. tf.image 概述\n",
    "\n",
    "`tf.image` 是 TensorFlow 专门用于 `图像处理` 的子模块。\n",
    "\n",
    "- 功能涵盖：\n",
    "\n",
    "  - 图像大小调整（缩放、裁剪、填充）\n",
    "\n",
    "  - 图像颜色变换（亮度、对比度、饱和度、色调）\n",
    "\n",
    "  - 图像几何变换（翻转、旋转、转置）\n",
    "\n",
    "  - 图像归一化与标准化\n",
    "\n",
    "  - 数据增强（常用于训练 CNN 时）\n",
    "\n",
    "- 输入/输出格式：\n",
    "\n",
    "  - TensorFlow 中图像通常是 张量（Tensor），形状一般为：\n",
    "\n",
    "    - 单张图片：[height, width, channels]\n",
    "\n",
    "    - 批量图片：[batch, height, width, channels]\n",
    "\n",
    "- 数据类型一般是 tf.uint8（0-255）或 tf.float32（0.0-1.0）。\n",
    "\n",
    "# 2. 常用功能分类\n",
    "### 2.1 图像大小调整"
   ]
  },
  {
   "cell_type": "code",
   "execution_count": null,
   "id": "3ba4219b-9111-4cd7-8fa4-dc590a56a092",
   "metadata": {},
   "outputs": [],
   "source": [
    "tf.image.resize(images, size, method='bilinear')\n"
   ]
  },
  {
   "cell_type": "markdown",
   "id": "4886d069-a2a2-4bb4-ab71-e12830a0127e",
   "metadata": {},
   "source": [
    "**作用**：调整图片大小\n",
    "\n",
    "**参数**：\n",
    "- `images`：输入张量\n",
    "- `size`：`[new_height, new_width]`\n",
    "- `method`：插值方式（`bilinear`、`nearest`、`bicubic`、`area` 等）"
   ]
  },
  {
   "cell_type": "markdown",
   "id": "cdc39848-6213-4f9c-bd25-4cdbe45ad5ad",
   "metadata": {},
   "source": [
    "---"
   ]
  },
  {
   "cell_type": "markdown",
   "id": "1a48ef36-08bf-4f5a-ae1a-547d59db53e0",
   "metadata": {},
   "source": [
    "### 2.2 翻转 & 旋转"
   ]
  },
  {
   "cell_type": "code",
   "execution_count": null,
   "id": "13f01716-93e4-444a-8e3f-003547d2f097",
   "metadata": {},
   "outputs": [],
   "source": [
    "tf.image.flip_left_right(image)   # 水平翻转\n",
    "tf.image.flip_up_down(image)      # 垂直翻转\n",
    "tf.image.rot90(image, k=1)        # 旋转 90° (k 次)\n"
   ]
  },
  {
   "cell_type": "markdown",
   "id": "bed23e9e-639a-453d-af97-7e8f11a61dca",
   "metadata": {},
   "source": [
    "---\n",
    "### 2.3 裁剪 & 填充"
   ]
  },
  {
   "cell_type": "code",
   "execution_count": null,
   "id": "e8a2502c-6df7-4119-b3e2-09228db7976c",
   "metadata": {},
   "outputs": [],
   "source": [
    "tf.image.resize_with_crop_or_pad(image, target_height, target_width)  # 裁剪或填充\n",
    "tf.image.central_crop(image, central_fraction)                        # 中心裁剪\n"
   ]
  },
  {
   "cell_type": "markdown",
   "id": "2d8d9ecb-af97-42bb-a511-e4ca449efe51",
   "metadata": {},
   "source": [
    "---\n",
    "### 2.4 颜色调整"
   ]
  },
  {
   "cell_type": "code",
   "execution_count": null,
   "id": "6d6b1a67-ccae-44a0-ab19-37034956bb61",
   "metadata": {},
   "outputs": [],
   "source": [
    "tf.image.adjust_brightness(image, delta)    # 调整亮度\n",
    "tf.image.adjust_contrast(image, contrast_factor) # 调整对比度\n",
    "tf.image.adjust_saturation(image, saturation_factor) # 调整饱和度\n",
    "tf.image.adjust_hue(image, delta)           # 调整色调\n"
   ]
  },
  {
   "cell_type": "markdown",
   "id": "ab3ee249-36f2-4fc5-8778-9bfb7c9b0cb7",
   "metadata": {},
   "source": [
    "---\n",
    "### 2.5 标准化与归一化"
   ]
  },
  {
   "cell_type": "code",
   "execution_count": null,
   "id": "5074a169-9fdb-4687-9e7f-fddf2a77d44a",
   "metadata": {},
   "outputs": [],
   "source": [
    "tf.image.per_image_standardization(image)\n"
   ]
  },
  {
   "cell_type": "markdown",
   "id": "93b09ee6-fe34-448f-926c-30d9519053ea",
   "metadata": {},
   "source": [
    "---\n",
    "### 2.6 转置 & 通道操作"
   ]
  },
  {
   "cell_type": "code",
   "execution_count": null,
   "id": "5072eec9-c5ea-496f-a47e-68e4b37bd6af",
   "metadata": {},
   "outputs": [],
   "source": [
    "tf.image.transpose(image)                   # 图像转置\n",
    "tf.image.rgb_to_grayscale(image)            # RGB 转灰度\n",
    "tf.image.grayscale_to_rgb(image)            # 灰度转 RGB\n"
   ]
  },
  {
   "cell_type": "markdown",
   "id": "30e62998-61c3-4cba-8227-a2d3b08dc336",
   "metadata": {},
   "source": [
    "---"
   ]
  },
  {
   "cell_type": "markdown",
   "id": "33c14ab2-0f36-45b5-b794-bc1012e0125d",
   "metadata": {},
   "source": [
    "## 3. 常用数据增强组合\n",
    "\n",
    "在训练 `CNN` 时，`tf.image` 常用来做`数据增强`，例如："
   ]
  },
  {
   "cell_type": "code",
   "execution_count": null,
   "id": "65d2d5b9-e400-45d1-a02b-3ac124928ca6",
   "metadata": {},
   "outputs": [],
   "source": [
    "image = tf.image.random_flip_left_right(image)\n",
    "image = tf.image.random_brightness(image, max_delta=0.1)\n",
    "image = tf.image.random_contrast(image, lower=0.8, upper=1.2)\n",
    "image = tf.image.random_saturation(image, lower=0.8, upper=1.2)\n"
   ]
  },
  {
   "cell_type": "markdown",
   "id": "8ba3ef2c-cdbe-485f-bffc-753fe18e2f80",
   "metadata": {},
   "source": [
    "---\n",
    "## 4. 速查表（常用方法）\n",
    "| 功能  | 方法                                        | 说明          |\n",
    "| --- | ----------------------------------------- | ----------- |\n",
    "| 缩放  | `tf.image.resize`                         | 调整图片大小      |\n",
    "| 裁剪  | `tf.image.central_crop`                   | 按比例中心裁剪     |\n",
    "| 填充  | `tf.image.resize_with_crop_or_pad`        | 裁剪或填充到指定大小  |\n",
    "| 翻转  | `tf.image.flip_left_right / flip_up_down` | 水平/垂直翻转     |\n",
    "| 旋转  | `tf.image.rot90`                          | 旋转 90°      |\n",
    "| 亮度  | `tf.image.adjust_brightness`              | 调整亮度        |\n",
    "| 对比度 | `tf.image.adjust_contrast`                | 调整对比度       |\n",
    "| 饱和度 | `tf.image.adjust_saturation`              | 调整饱和度       |\n",
    "| 色调  | `tf.image.adjust_hue`                     | 调整色调        |\n",
    "| 标准化 | `tf.image.per_image_standardization`      | Z-Score 标准化 |\n",
    "| 转换  | `tf.image.rgb_to_grayscale`               | RGB → 灰度    |\n"
   ]
  },
  {
   "cell_type": "code",
   "execution_count": null,
   "id": "5062c053-cb9a-428d-837f-cea129547e64",
   "metadata": {},
   "outputs": [],
   "source": []
  }
 ],
 "metadata": {
  "kernelspec": {
   "display_name": "Python [conda env:deepseek_env]",
   "language": "python",
   "name": "conda-env-deepseek_env-py"
  },
  "language_info": {
   "codemirror_mode": {
    "name": "ipython",
    "version": 3
   },
   "file_extension": ".py",
   "mimetype": "text/x-python",
   "name": "python",
   "nbconvert_exporter": "python",
   "pygments_lexer": "ipython3",
   "version": "3.12.9"
  }
 },
 "nbformat": 4,
 "nbformat_minor": 5
}

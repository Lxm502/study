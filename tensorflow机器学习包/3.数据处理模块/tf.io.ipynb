{
 "cells": [
  {
   "cell_type": "markdown",
   "id": "3fde7507-7ee4-4b5a-9a54-e733fe3090f3",
   "metadata": {},
   "source": [
    "# `tf.io` 模块\n",
    "主要用于 数据输入输出（I/O），即数据的 读取、解析、序列化、编码、解码 等操作。它在数据处理管道（特别是 `tf.data`）中经常用到，常用于 TFRecord 文件的读写、字符串处理、序列化/反序列化、编码转换。\n",
    "\n",
    "## 一、常见功能分类\n",
    "### 1. TFRecord 文件读写\n",
    "\n",
    "`tf.io.TFRecordWriter(path)`\n",
    "\n",
    "   - 用于写入 TFRecord 文件。\n",
    "\n",
    "`tf.io.tf_record_iterator(path)`\n",
    "\n",
    "   - 用于遍历 TFRecord 文件中的序列化 Example。\n",
    "\n",
    "### 2. Example/Feature 序列化 & 反序列化\n",
    "\n",
    "`tf.io.serialize_tensor(tensor)`\n",
    "\n",
    "  - 将张量序列化成字符串。\n",
    "\n",
    "`tf.io.parse_tensor`(serialized, out_type)\n",
    "\n",
    "  - 将序列化的字符串反序列化回张量。\n",
    "\n",
    "`tf.io.parse_single_example(serialized, features)`\n",
    "\n",
    "  - 解析单个序列化的 `tf.train.Example`。\n",
    "\n",
    "`tf.io.parse_example(serialized, features)`\n",
    "\n",
    "  - 解析批量的 `Example`。\n",
    "\n",
    "### 3. 数据编码与解码\n",
    "\n",
    "`tf.io.encode_jpeg(image)` / `tf.io.decode_jpeg(contents)`\n",
    "\n",
    " - 图像编码/解码。\n",
    "\n",
    "`tf.io.encode_png(image)` / `tf.io.decode_png(contents)`\n",
    "\n",
    "`tf.io.encode_base64(input)` / `tf.io.decode_base64(input)`\n",
    "\n",
    " - Base64 编解码（常用于网络数据存储）。\n",
    "\n",
    "`tf.io.decode_raw(bytes, out_type)`\n",
    "\n",
    " - 将原始字节解码为张量。\n",
    "\n",
    "### 4. 字符串与字节处理\n",
    "\n",
    "`tf.io.serialize_tensor(tensor)`\n",
    "\n",
    "`tf.io.parse_tensor(serialized, out_type)`\n",
    "\n",
    "`tf.io.decode_compressed(bytes, compression_type)`\n",
    "\n",
    "- 解压缩数据（如 GZIP）。\n",
    "\n",
    "## 二、常用示例\n",
    "### 1. 写入和读取 TFRecord"
   ]
  },
  {
   "cell_type": "code",
   "execution_count": null,
   "id": "dafe69c7-a2a0-40b4-8005-8f942af885dc",
   "metadata": {},
   "outputs": [],
   "source": [
    "import tensorflow as tf\n",
    "\n",
    "# 写入\n",
    "with tf.io.TFRecordWriter(\"data.tfrecord\") as writer:\n",
    "    for i in range(3):\n",
    "        feature = {\n",
    "            \"x\": tf.train.Feature(int64_list=tf.train.Int64List(value=[i])),\n",
    "            \"y\": tf.train.Feature(float_list=tf.train.FloatList(value=[i * 0.5]))\n",
    "        }\n",
    "        example = tf.train.Example(features=tf.train.Features(feature=feature))\n",
    "        writer.write(example.SerializeToString())\n",
    "\n",
    "# 读取\n",
    "raw_dataset = tf.data.TFRecordDataset(\"data.tfrecord\")\n",
    "for raw_record in raw_dataset:\n",
    "    example = tf.train.Example()\n",
    "    example.ParseFromString(raw_record.numpy())\n",
    "    print(example)\n"
   ]
  },
  {
   "cell_type": "markdown",
   "id": "c4884c2c-ceeb-43d9-8a53-990e477e3aa8",
   "metadata": {},
   "source": [
    "### 2. 序列化 & 反序列化张量"
   ]
  },
  {
   "cell_type": "code",
   "execution_count": 2,
   "id": "2c500bc0-237f-416c-b8cb-57a9032df0ec",
   "metadata": {},
   "outputs": [
    {
     "name": "stdout",
     "output_type": "stream",
     "text": [
      "序列化: tf.Tensor(b'\\x08\\x01\\x12\\x08\\x12\\x02\\x08\\x02\\x12\\x02\\x08\\x02\"\\x10\\x00\\x00\\x80?\\x00\\x00\\x00@\\x00\\x00@@\\x00\\x00\\x80@', shape=(), dtype=string)\n",
      "还原: tf.Tensor(\n",
      "[[1. 2.]\n",
      " [3. 4.]], shape=(2, 2), dtype=float32)\n"
     ]
    }
   ],
   "source": [
    "import tensorflow as tf \n",
    "tensor = tf.constant([[1.0, 2.0], [3.0, 4.0]])\n",
    "serialized = tf.io.serialize_tensor(tensor)\n",
    "print(\"序列化:\", serialized)\n",
    "\n",
    "restored = tf.io.parse_tensor(serialized, out_type=tf.float32)\n",
    "print(\"还原:\", restored)\n"
   ]
  },
  {
   "cell_type": "markdown",
   "id": "4be10f56-17ec-4329-a139-029297e780ac",
   "metadata": {},
   "source": [
    "### 3. 图像编码与解码"
   ]
  },
  {
   "cell_type": "code",
   "execution_count": null,
   "id": "855d16ac-f361-46ec-8cfe-21b0fcf6e91f",
   "metadata": {},
   "outputs": [],
   "source": [
    "import tensorflow as tf\n",
    "\n",
    "image = tf.random.uniform(shape=[64, 64, 3], minval=0, maxval=255, dtype=tf.int32)\n",
    "image = tf.cast(image, tf.uint8)\n",
    "\n",
    "# 编码为 JPEG 格式\n",
    "jpeg_bytes = tf.io.encode_jpeg(image)\n",
    "\n",
    "# 解码回张量\n",
    "decoded = tf.io.decode_jpeg(jpeg_bytes)\n",
    "\n",
    "print(\"原图:\", image.shape, \"解码后:\", decoded.shape)\n"
   ]
  },
  {
   "cell_type": "markdown",
   "id": "ffd2be3a-810b-4d06-9395-ff3941e26fc5",
   "metadata": {},
   "source": [
    "## 三、参数表格示例（以 tf.io.parse_single_example 为例）\n",
    "| 参数           | 类型                      | 说明                                                                          |\n",
    "| ------------ | ----------------------- | --------------------------------------------------------------------------- |\n",
    "| `serialized` | `Tensor` (dtype=string) | 单个序列化的 Example（二进制字符串）                                                      |\n",
    "| `features`   | dict                    | 指定要解析的特征结构，key 是特征名，value 是 `tf.io.FixedLenFeature` 或 `tf.io.VarLenFeature` |\n",
    "\n",
    "---\n",
    "## 四、总结\n",
    "\n",
    "- `tf.io` = TensorFlow 的数据 I/O 工具箱\n",
    "\n",
    "- 常用场景：\n",
    "\n",
    "   - 1、TFRecord 文件存储和读取\n",
    "\n",
    "   - 2、张量的序列化/反序列化\n",
    "\n",
    "   - 3、数据的编码/解码（JPEG、PNG、Base64、压缩）\n",
    "\n",
    "   - 4、解析 Example 格式数据"
   ]
  },
  {
   "cell_type": "code",
   "execution_count": null,
   "id": "dd87bb32-037f-488e-98c0-4435bdf952a8",
   "metadata": {},
   "outputs": [],
   "source": []
  }
 ],
 "metadata": {
  "kernelspec": {
   "display_name": "Python [conda env:deepseek_env]",
   "language": "python",
   "name": "conda-env-deepseek_env-py"
  },
  "language_info": {
   "codemirror_mode": {
    "name": "ipython",
    "version": 3
   },
   "file_extension": ".py",
   "mimetype": "text/x-python",
   "name": "python",
   "nbconvert_exporter": "python",
   "pygments_lexer": "ipython3",
   "version": "3.12.9"
  }
 },
 "nbformat": 4,
 "nbformat_minor": 5
}

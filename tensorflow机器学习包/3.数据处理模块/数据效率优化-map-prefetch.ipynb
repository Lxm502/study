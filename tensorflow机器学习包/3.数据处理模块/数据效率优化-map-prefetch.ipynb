{
 "cells": [
  {
   "cell_type": "markdown",
   "id": "1edc94ed-df0a-48c4-ab1d-31e5509685d8",
   "metadata": {},
   "source": [
    "# 🚀 TensorFlow 数据效率优化：map 与 prefetch\n",
    "## 1. 背景\n",
    "\n",
    "在深度学习中，数据准备（加载、解析、增强）往往比模型训练更耗时。\n",
    "\n",
    "如果不优化，GPU/TPU 可能会“等数据”，导致算力浪费。\n",
    "\n",
    "- `tf.data.Dataset` 提供了 流水线式处理，其中：\n",
    "\n",
    "  -` map()` 用来对数据集逐元素处理（如解析图片、增强数据）。\n",
    "\n",
    "  - `prefetch()` 用来异步加载数据（边训练边准备下一批）。\n",
    "\n",
    "## 2. map() 用法与参数详解"
   ]
  },
  {
   "cell_type": "code",
   "execution_count": null,
   "id": "f5fa5a32-13b1-4799-bf1f-0a33cc2c1ddf",
   "metadata": {},
   "outputs": [],
   "source": [
    "dataset = dataset.map(\n",
    "    map_func,\n",
    "    num_parallel_calls=tf.data.AUTOTUNE\n",
    ")\n"
   ]
  },
  {
   "cell_type": "markdown",
   "id": "a37957a2-53ef-4b0e-ad37-78da9238a79f",
   "metadata": {},
   "source": [
    "| 参数                   | 类型                       | 说明                               |\n",
    "| -------------------- | ------------------------ | -------------------------------- |\n",
    "| `map_func`           | function                 | 映射函数，定义每个元素如何被处理（如归一化、解码、增强等）。   |\n",
    "| `num_parallel_calls` | int / `tf.data.AUTOTUNE` | 并行调用数。设置为 `AUTOTUNE` 可自动选择最优线程数。 |\n",
    "\n",
    "### 示例：图片归一化"
   ]
  },
  {
   "cell_type": "code",
   "execution_count": null,
   "id": "8207a527-b07b-4488-9f36-769589c2886b",
   "metadata": {},
   "outputs": [],
   "source": [
    "def preprocess(image, label):\n",
    "    image = tf.cast(image, tf.float32) / 255.0  # 归一化\n",
    "    return image, label\n",
    "\n",
    "dataset = dataset.map(preprocess, num_parallel_calls=tf.data.AUTOTUNE)\n"
   ]
  },
  {
   "cell_type": "markdown",
   "id": "e374a00e-3898-4785-8f68-e5f269951357",
   "metadata": {},
   "source": [
    "#### 📌 优势：\n",
    "\n",
    "- 数据增强（翻转、旋转、裁剪等）可以放到 map 里。\n",
    "\n",
    "- 并行处理大幅加快数据预处理。\n",
    "\n",
    "---\n",
    "## 3. prefetch() 用法与参数详解"
   ]
  },
  {
   "cell_type": "code",
   "execution_count": null,
   "id": "779f9441-4bde-4cc8-a37b-0b4d62f2e9f8",
   "metadata": {},
   "outputs": [],
   "source": [
    "dataset = dataset.prefetch(buffer_size=tf.data.AUTOTUNE)\n"
   ]
  },
  {
   "cell_type": "markdown",
   "id": "2e5322ff-79da-4021-9754-232c8b0aef42",
   "metadata": {},
   "source": [
    "| 参数            | 类型                       | 说明                                         |\n",
    "| ------------- | ------------------------ | ------------------------------------------ |\n",
    "| `buffer_size` | int / `tf.data.AUTOTUNE` | 预取的数据批次数。设置为 `AUTOTUNE` 时，TensorFlow 自动调优。 |\n",
    "\n",
    "### 📌 作用：\n",
    "\n",
    " - 在 训练第 n 批数据时，后台会预先准备第 n+1 批数据。\n",
    "\n",
    " - 实现 计算（GPU/TPU）与数据准备（CPU）并行。\n",
    "\n",
    "---\n",
    "## 4. 综合示例：高效数据流水线"
   ]
  },
  {
   "cell_type": "code",
   "execution_count": null,
   "id": "bce9c976-cda0-43ef-b402-131b6f9c454a",
   "metadata": {},
   "outputs": [],
   "source": [
    "import tensorflow as tf\n",
    "\n",
    "# 假设 dataset 已经创建\n",
    "def preprocess(image, label):\n",
    "    image = tf.cast(image, tf.float32) / 255.0\n",
    "    return image, label\n",
    "\n",
    "dataset = (\n",
    "    dataset\n",
    "    .map(preprocess, num_parallel_calls=tf.data.AUTOTUNE)  # 并行预处理\n",
    "    .shuffle(1000)                                         # 打乱数据\n",
    "    .batch(32)                                             # 按批次分组\n",
    "    .prefetch(tf.data.AUTOTUNE)                            # 异步加载\n",
    ")\n"
   ]
  },
  {
   "cell_type": "markdown",
   "id": "419aa93b-c532-44a3-b93a-3e111b4504d4",
   "metadata": {},
   "source": [
    "### ⚡ 优点\n",
    "\n",
    " - map()：高效的数据预处理（利用多核 CPU 并行）。\n",
    "\n",
    " - prefetch()：减少 GPU/TPU 等待数据的时间。\n",
    "\n",
    "二者结合：最大化硬件利用率。\n",
    "\n",
    "---\n",
    "## 5. 总结\n",
    "\n",
    " - map()：逐元素预处理，可并行化 → CPU 加速。\n",
    "\n",
    " - prefetch()：异步预取批次 → GPU/TPU 不等待数据。\n",
    "\n",
    "常见最佳实践："
   ]
  },
  {
   "cell_type": "code",
   "execution_count": null,
   "id": "de12132e-ba23-40df-a0a3-b7c30cd4aed3",
   "metadata": {},
   "outputs": [],
   "source": [
    "dataset = dataset.map(..., num_parallel_calls=tf.data.AUTOTUNE).prefetch(tf.data.AUTOTUNE)\n"
   ]
  },
  {
   "cell_type": "code",
   "execution_count": null,
   "id": "41373b88-cca3-41c9-82e6-973774fb0860",
   "metadata": {},
   "outputs": [],
   "source": []
  }
 ],
 "metadata": {
  "kernelspec": {
   "display_name": "Python [conda env:deepseek_env]",
   "language": "python",
   "name": "conda-env-deepseek_env-py"
  },
  "language_info": {
   "codemirror_mode": {
    "name": "ipython",
    "version": 3
   },
   "file_extension": ".py",
   "mimetype": "text/x-python",
   "name": "python",
   "nbconvert_exporter": "python",
   "pygments_lexer": "ipython3",
   "version": "3.12.9"
  }
 },
 "nbformat": 4,
 "nbformat_minor": 5
}

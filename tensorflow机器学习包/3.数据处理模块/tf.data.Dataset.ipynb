{
 "cells": [
  {
   "cell_type": "markdown",
   "id": "971de3c4-973c-4d0e-a340-f6aece065a38",
   "metadata": {},
   "source": [
    "# TensorFlow / Keras 里，独热编码（One-Hot Encoding）\n",
    "有多种方式可以实现，下面我给你讲解一下 官方推荐的自带方法，并区分场景。\n",
    "## 1. tf.one_hot() —— 最基础的方法\n",
    "\n",
    "TensorFlow 提供的原生函数，直接把整数类别转成独热向量。"
   ]
  },
  {
   "cell_type": "code",
   "execution_count": null,
   "id": "0e5039d3-c423-4a7b-819c-d35cfab2f229",
   "metadata": {},
   "outputs": [],
   "source": [
    "import tensorflow as tf\n",
    "\n",
    "# 假设类别是 0,1,2\n",
    "labels = [0, 1, 2]\n",
    "\n",
    "one_hot = tf.one_hot(labels, depth=3)  \n",
    "print(one_hot)\n",
    "\n",
    "输出\n",
    "tf.Tensor(\n",
    "[[1. 0. 0.]   # 类别 0\n",
    " [0. 1. 0.]   # 类别 1\n",
    " [0. 0. 1.]], # 类别 2\n",
    " shape=(3, 3), dtype=float32)\n"
   ]
  },
  {
   "cell_type": "markdown",
   "id": "9fb76e92-e525-4a90-a4ce-f5d1edde1fa8",
   "metadata": {},
   "source": [
    "### ✅ 常用参数：\n",
    " - `indices`：输入的整数序列（类别标签）。\n",
    " - `depth`：类别总数（维度大小）。\n",
    " - `on_value` / `off_value`：默认为 1/0，可自定义。\n",
    " - `dtype`：结果类型，默认 float32。\n",
    "\n",
    "### 例子："
   ]
  },
  {
   "cell_type": "code",
   "execution_count": null,
   "id": "44eec7a8-8ab3-4cd2-ad18-3c4c044b8986",
   "metadata": {},
   "outputs": [],
   "source": [
    "tf.one_hot([1,2], depth=4, on_value=5, off_value=-1)\n",
    "# 输出: [[-1  5 -1 -1], [-1 -1  5 -1]]\n",
    "\n",
    "👉 适合在 模型外 手动预处理标签。"
   ]
  },
  {
   "cell_type": "markdown",
   "id": "678f90a6-8421-4e36-a803-94ff74f2165a",
   "metadata": {},
   "source": [
    "---"
   ]
  },
  {
   "cell_type": "markdown",
   "id": "502fc6fd-3ee0-4c91-914e-a759ae4f5b83",
   "metadata": {},
   "source": [
    "# 2. tf.keras.utils.to_categorical()\n",
    "\n",
    "这是 Keras 的 高层封装，专门用于把整数标签转为独热编码。"
   ]
  },
  {
   "cell_type": "code",
   "execution_count": null,
   "id": "b1031b2f-2fbf-4d73-8b0d-aebb095f42ee",
   "metadata": {},
   "outputs": [],
   "source": [
    "from tensorflow.keras.utils import to_categorical\n",
    "\n",
    "labels = [0, 1, 2]\n",
    "one_hot = to_categorical(labels, num_classes=3)\n",
    "print(one_hot)\n",
    "\n",
    "输出：\n",
    "[[1. 0. 0.]\n",
    " [0. 1. 0.]\n",
    " [0. 0. 1.]]\n"
   ]
  },
  {
   "cell_type": "markdown",
   "id": "488fbc1c-bead-444c-9c1a-0d10201c6b34",
   "metadata": {},
   "source": [
    "### ✅ 特点：\n",
    "\n",
    "- `num_classes`：类别总数（可不写，会自动根据最大值+1）。\n",
    "\n",
    "- 输入必须是整数索引。\n",
    "\n",
    "- 返回 float32 数组。\n",
    "\n",
    "### 👉 适合在 `分类问题` 中准备 `y_train` / `y_test`。"
   ]
  },
  {
   "cell_type": "markdown",
   "id": "8a8f24e0-4b1e-409f-965f-9a1a4fe5f561",
   "metadata": {},
   "source": [
    "---"
   ]
  },
  {
   "cell_type": "markdown",
   "id": "1c60dc81-fa7b-40b7-9ac4-9bebd91d1517",
   "metadata": {},
   "source": [
    "# 3. tf.keras.layers.CategoryEncoding —— 作为模型层\n",
    "\n",
    "在 模型里直接用层实现独热编码，无需在数据预处理阶段手动转换。"
   ]
  },
  {
   "cell_type": "code",
   "execution_count": null,
   "id": "29e7df5e-c098-471c-805e-8b9f5506c661",
   "metadata": {},
   "outputs": [],
   "source": [
    "from tensorflow.keras.layers import CategoryEncoding, Input\n",
    "from tensorflow.keras.models import Model\n",
    "\n",
    "# 输入整数类别\n",
    "inp = Input(shape=(1,), dtype=\"int32\")\n",
    "\n",
    "# 独热编码层\n",
    "x = CategoryEncoding(num_tokens=5, output_mode=\"one_hot\")(inp)\n",
    "\n",
    "model = Model(inp, x)\n",
    "\n",
    "print(model(tf.constant([[0],[3],[4]])))\n",
    "\n",
    "输出：\n",
    "tf.Tensor(\n",
    "[[1. 0. 0. 0. 0.]\n",
    " [0. 0. 0. 1. 0.]\n",
    " [0. 0. 0. 0. 1.]], shape=(3, 5), dtype=float32)\n"
   ]
  },
  {
   "cell_type": "markdown",
   "id": "2215ec31-b12c-404c-b36b-affc27f3e1a4",
   "metadata": {},
   "source": [
    "### ✅ 参数：\n",
    "\n",
    "- `num_tokens`：类别数（必须指定）。\n",
    "\n",
    "- `output_mode`：\n",
    "\n",
    "    - `one_hot` → 独热编码\n",
    "\n",
    "    - `multi_hot` → 多热编码（用于多标签）\n",
    "\n",
    "    - `count` → 统计次数\n",
    "\n",
    "### 👉 适合放在 模型的输入层，直接处理类别特征"
   ]
  },
  {
   "cell_type": "markdown",
   "id": "194c50bd-5621-40b1-b918-75eedd57fd39",
   "metadata": {},
   "source": [
    "---"
   ]
  },
  {
   "cell_type": "markdown",
   "id": "0fe353f2-7f20-4d47-92db-64df8fe8d73e",
   "metadata": {},
   "source": [
    "# 4. tf.keras.layers.StringLookup + CategoryEncoding\n",
    "\n",
    "如果你的类别是字符串（比如 \"`cat`\", \"`dog`\"），需要先把字符串映射为整数，再做独热编码。\n",
    "#### 👉 常用于 非数值型类别特征。"
   ]
  },
  {
   "cell_type": "code",
   "execution_count": null,
   "id": "16703283-b0a2-4a1f-8d04-c2856949404b",
   "metadata": {},
   "outputs": [],
   "source": [
    "from tensorflow.keras.layers import StringLookup\n",
    "\n",
    "vocab = [\"cat\", \"dog\", \"fish\"]\n",
    "lookup = StringLookup(vocabulary=vocab, output_mode=\"int\")\n",
    "\n",
    "labels = tf.constant([\"dog\", \"cat\", \"fish\"])\n",
    "int_encoded = lookup(labels)          # -> [2, 1, 3]\n",
    "\n",
    "one_hot_layer = CategoryEncoding(num_tokens=len(vocab)+1, output_mode=\"one_hot\")\n",
    "one_hot = one_hot_layer(int_encoded)\n",
    "\n",
    "print(one_hot)\n"
   ]
  },
  {
   "cell_type": "markdown",
   "id": "0973f7f4-5158-4fd8-97ca-8e2d47f3b341",
   "metadata": {},
   "source": [
    "# 📌 总结\n",
    "\n",
    "TensorFlow 自带独热编码主要有 3 种方式：\n",
    "| 方法                 | 场景              | 特点                                          |\n",
    "| ------------------ | --------------- | ------------------------------------------- |\n",
    "| `tf.one_hot()`     | 低层 API，直接编码整数标签 | 灵活，适合预处理                                    |\n",
    "| `to_categorical()` | 高层 API，分类标签处理   | 简单，常用于 `y`                                  |\n",
    "| `CategoryEncoding` | 作为模型层           | 直接集成到网络输入层，支持 one\\_hot / multi\\_hot / count |\n",
    "\n",
    "- 如果你处理的是 字符串类别 → `StringLookup` + `CategoryEncoding`\n",
    "- 如果你处理的是 整数类别 → `CategoryEncoding` 或 `to_categorical`\n",
    "- 如果你只想快速预处理 → `tf.one_hot`\n"
   ]
  },
  {
   "cell_type": "code",
   "execution_count": null,
   "id": "e9b6b79a-3d64-4bc1-bff4-1795c728ccac",
   "metadata": {},
   "outputs": [],
   "source": []
  },
  {
   "cell_type": "markdown",
   "id": "2e90d4d5-ecb3-4cfe-aace-7e77bf62484f",
   "metadata": {},
   "source": [
    "---"
   ]
  },
  {
   "cell_type": "markdown",
   "id": "46f6155d-2584-4bd5-9225-abb227ed9f73",
   "metadata": {},
   "source": [
    "# 1. 什么是 tf.data.Dataset\n",
    "\n",
    "`tf.data.Dataset` 表示一个 元素序列（sequence of elements）。\n",
    "\n",
    "- 每个元素可以是：\n",
    "\n",
    "    - 一个张量（`Tensor`）\n",
    "\n",
    "    - 或者一个张量的元组（(`features`, `label`)）\n",
    "\n",
    "    - 甚至是嵌套结构（`dict`, `tuple` 等）。\n",
    "\n",
    "### 👉 用一句话概括：\n",
    "\n",
    "`Dataset` = 可迭代的数据对象，用来替代传统的 `for` 循环 / `feed_dict`。\n",
    "\n",
    "---\n",
    "# 2. 创建 Dataset 的方式\n",
    "### (1) 从张量创建"
   ]
  },
  {
   "cell_type": "code",
   "execution_count": null,
   "id": "2bc8c628-70ca-42a9-bda8-097dbee486e6",
   "metadata": {},
   "outputs": [],
   "source": [
    "import tensorflow as tf\n",
    "\n",
    "# 一维张量\n",
    "dataset = tf.data.Dataset.from_tensor_slices([1,2,3,4,5])\n",
    "for x in dataset:\n",
    "    print(x.numpy())\n",
    "\n",
    "输出：\n",
    "\n",
    "1\n",
    "2\n",
    "3\n",
    "4\n",
    "5"
   ]
  },
  {
   "cell_type": "markdown",
   "id": "3e7b692f-a4dc-43c2-8c94-937c0b60bf6a",
   "metadata": {},
   "source": [
    "如果是 特征 + 标签："
   ]
  },
  {
   "cell_type": "code",
   "execution_count": null,
   "id": "12e475c2-89d6-4228-bd47-e6c356322d8e",
   "metadata": {},
   "outputs": [],
   "source": [
    "features = tf.constant([[1,2],[3,4],[5,6]])\n",
    "labels = tf.constant([0,1,0])\n",
    "dataset = tf.data.Dataset.from_tensor_slices((features, labels))\n",
    "\n",
    "for x,y in dataset:\n",
    "    print(x.numpy(), y.numpy())\n"
   ]
  },
  {
   "cell_type": "markdown",
   "id": "a5a7094b-5993-4bbf-b99c-aacd2a3d1a79",
   "metadata": {},
   "source": [
    "### (2) 从 generator 创建"
   ]
  },
  {
   "cell_type": "code",
   "execution_count": null,
   "id": "09a81e9b-74c4-4b1c-949e-edd714d24292",
   "metadata": {},
   "outputs": [],
   "source": [
    "\n",
    "import numpy as np\n",
    "\n",
    "def gen():\n",
    "    for i in range(5):\n",
    "        yield i, i*i\n",
    "\n",
    "dataset = tf.data.Dataset.from_generator(\n",
    "    gen,\n",
    "    output_types=(tf.int32, tf.int32),\n",
    "    output_shapes=((),())\n",
    ")\n",
    "\n"
   ]
  },
  {
   "cell_type": "markdown",
   "id": "076c4cdc-6f77-4750-af14-6565c0a3648a",
   "metadata": {},
   "source": [
    "### (3) 从文件创建\n",
    "\n",
    "TFRecord 文件"
   ]
  },
  {
   "cell_type": "code",
   "execution_count": null,
   "id": "c2a7e306-6293-4fe1-89bc-cd0e5ada7320",
   "metadata": {},
   "outputs": [],
   "source": [
    "dataset = tf.data.TFRecordDataset(\"data.tfrecord\")"
   ]
  },
  {
   "cell_type": "code",
   "execution_count": null,
   "id": "9ac8b61a-e4c3-47eb-a38e-e56e9fe1c4fe",
   "metadata": {},
   "outputs": [],
   "source": [
    "文本文件"
   ]
  },
  {
   "cell_type": "code",
   "execution_count": null,
   "id": "3586ecde-a31b-4964-947b-bdb9255ca58b",
   "metadata": {},
   "outputs": [],
   "source": [
    "dataset = tf.data.TextLineDataset(\"data.txt\")"
   ]
  },
  {
   "cell_type": "code",
   "execution_count": null,
   "id": "4316edea-88f6-481f-88c7-81e84936049b",
   "metadata": {},
   "outputs": [],
   "source": [
    "多个文件"
   ]
  },
  {
   "cell_type": "code",
   "execution_count": null,
   "id": "87b90af0-54a0-46fe-8a39-b923636d62df",
   "metadata": {},
   "outputs": [],
   "source": [
    "files = [\"file1.tfrecord\", \"file2.tfrecord\"]\n",
    "dataset = tf.data.TFRecordDataset(files)"
   ]
  },
  {
   "cell_type": "markdown",
   "id": "0fc6e740-03e9-4df2-ad50-4fa6c0bc52aa",
   "metadata": {},
   "source": [
    "---"
   ]
  },
  {
   "cell_type": "markdown",
   "id": "d9c14802-e4cb-4484-9ea7-8ccb550402e7",
   "metadata": {},
   "source": [
    "# 3. 常用操作（变换算子）\n",
    "### (1) map() —— 映射（预处理）\n",
    "\n",
    "对每个元素应用函数。"
   ]
  },
  {
   "cell_type": "code",
   "execution_count": null,
   "id": "67d277cb-7f3b-48fd-94fe-35d2f410be71",
   "metadata": {},
   "outputs": [],
   "source": [
    "dataset = dataset.map(lambda x: x+1)\n"
   ]
  },
  {
   "cell_type": "markdown",
   "id": "1fde83df-18d3-4e96-8d21-c8e6e67af63a",
   "metadata": {},
   "source": [
    "### (2) batch() —— 批处理"
   ]
  },
  {
   "cell_type": "code",
   "execution_count": null,
   "id": "bb7e073f-4313-40aa-9c92-df488398d68b",
   "metadata": {},
   "outputs": [],
   "source": [
    "dataset = dataset.batch(2)\n",
    "\n",
    "输入 [1,2,3,4,5] → [[1,2],[3,4],[5]]"
   ]
  },
  {
   "cell_type": "markdown",
   "id": "34780eff-f227-4d21-9f6c-5b5bb5953b81",
   "metadata": {},
   "source": [
    "### (3) shuffle() —— 打乱顺序"
   ]
  },
  {
   "cell_type": "code",
   "execution_count": null,
   "id": "db5b4cd0-f550-4f65-a481-18f42cd7f4ac",
   "metadata": {},
   "outputs": [],
   "source": [
    "dataset = dataset.shuffle(buffer_size=100)\n",
    "\n",
    "buffer_size 越大，打乱效果越好。"
   ]
  },
  {
   "cell_type": "markdown",
   "id": "096bfb61-35b8-4e58-a835-f6fbf12bec9c",
   "metadata": {},
   "source": [
    "### (4) repeat() —— 重复数据"
   ]
  },
  {
   "cell_type": "code",
   "execution_count": null,
   "id": "f9fcf87b-fa14-412c-b355-c3f753e87c5a",
   "metadata": {},
   "outputs": [],
   "source": [
    "dataset = dataset.repeat(2)   # 数据重复两次\n",
    "dataset = dataset.repeat()    # 无限重复\n"
   ]
  },
  {
   "cell_type": "markdown",
   "id": "5da576ec-0836-459d-a883-6f2f69dcde5c",
   "metadata": {},
   "source": [
    "### (5) prefetch() —— 数据预取"
   ]
  },
  {
   "cell_type": "code",
   "execution_count": null,
   "id": "7c5a50c5-5c44-4328-9318-1f544eb891d9",
   "metadata": {},
   "outputs": [],
   "source": [
    "dataset = dataset.prefetch(buffer_size=tf.data.AUTOTUNE)\n",
    "\n",
    "👉 训练和数据准备并行，提高 GPU 利用率。"
   ]
  },
  {
   "cell_type": "markdown",
   "id": "fa39296b-3094-4aac-8994-7b0918840e8a",
   "metadata": {},
   "source": [
    "---"
   ]
  },
  {
   "cell_type": "markdown",
   "id": "24775055-14e7-48c3-8a6e-3c416925d3e9",
   "metadata": {},
   "source": [
    "# 4. 综合示例（完整输入管道）"
   ]
  },
  {
   "cell_type": "code",
   "execution_count": null,
   "id": "8f45c68f-61af-4ab2-b310-29f6db9847c1",
   "metadata": {},
   "outputs": [],
   "source": [
    "# 假设 features, labels 已经准备好\n",
    "dataset = tf.data.Dataset.from_tensor_slices((features, labels))\n",
    "\n",
    "dataset = (dataset\n",
    "           .shuffle(buffer_size=1000)   # 打乱\n",
    "           .map(lambda x,y: (x/255.0, y))  # 归一化\n",
    "           .batch(32)                   # 批处理\n",
    "           .prefetch(tf.data.AUTOTUNE)  # 预取\n",
    ")\n",
    "\n",
    "然后交给模型训练：\n",
    "\n",
    "model.fit(dataset, epochs=10)\n"
   ]
  },
  {
   "cell_type": "markdown",
   "id": "d0ae5fa1-173b-4dc2-84e2-cd5be6a2d0b3",
   "metadata": {},
   "source": [
    "---"
   ]
  },
  {
   "cell_type": "markdown",
   "id": "1fde6923-e60f-4396-8640-b7a3a324742b",
   "metadata": {},
   "source": [
    "# 5. Dataset 的迭代方式"
   ]
  },
  {
   "cell_type": "code",
   "execution_count": null,
   "id": "f1db5f62-23d6-4f22-905a-bc5f4b4b42b6",
   "metadata": {},
   "outputs": [],
   "source": [
    "for batch_x, batch_y in dataset.take(1):\n",
    "    print(batch_x.shape, batch_y)\n"
   ]
  },
  {
   "cell_type": "markdown",
   "id": "e16416db-21b8-40e6-9cd2-3d1da7f1f237",
   "metadata": {},
   "source": [
    "- `take`(1) 只取 1 个 `batch`。\n",
    "\n",
    "- 如果数据量大，建议不要 `list(dataset)`，要逐批迭代。"
   ]
  },
  {
   "cell_type": "markdown",
   "id": "38d63aad-eba3-4dc4-8ae8-8d55459de113",
   "metadata": {},
   "source": [
    "# 6. 高级技巧\n",
    "\n",
    "## 1.多线程 map（加速预处理）"
   ]
  },
  {
   "cell_type": "code",
   "execution_count": null,
   "id": "a74209f0-a97b-4646-a659-d7bd295dccc7",
   "metadata": {},
   "outputs": [],
   "source": [
    "dataset = dataset.map(preprocess_fn, num_parallel_calls=tf.data.AUTOTUNE)\n"
   ]
  },
  {
   "cell_type": "markdown",
   "id": "c17e05fb-25fd-453a-9961-46334153cddb",
   "metadata": {},
   "source": [
    "### 2.交错加载多个文件"
   ]
  },
  {
   "cell_type": "code",
   "execution_count": null,
   "id": "15ada7f4-3e95-44fd-a2df-1b9180278c14",
   "metadata": {},
   "outputs": [],
   "source": [
    "dataset = tf.data.Dataset.list_files(\"data/*.tfrecord\")\n",
    "dataset = dataset.interleave(tf.data.TFRecordDataset,\n",
    "                             cycle_length=4,\n",
    "                             num_parallel_calls=tf.data.AUTOTUNE)\n"
   ]
  },
  {
   "cell_type": "markdown",
   "id": "afd8e475-1db7-4e3a-bd17-e490a9995a2f",
   "metadata": {},
   "source": [
    "### 3.缓存数据（避免重复计算）"
   ]
  },
  {
   "cell_type": "code",
   "execution_count": null,
   "id": "5002f8eb-e968-4117-af1a-ec95e07d5519",
   "metadata": {},
   "outputs": [],
   "source": [
    "dataset = dataset.cache()\n"
   ]
  },
  {
   "cell_type": "markdown",
   "id": "025bde92-b370-4f43-9cd9-b5f1a425a4be",
   "metadata": {},
   "source": [
    "# 7. 总结记忆\n",
    "\n",
    "- 创建方式：from_tensor_slices、from_generator、TFRecordDataset\n",
    "\n",
    "- 变换算子：map（预处理）、batch（批次）、shuffle（打乱）、repeat（重复）、prefetch（加速）\n",
    "\n",
    "### 最佳实践：\n",
    "```python\n",
    "dataset = (dataset\n",
    "           .shuffle()\n",
    "           .map(..., num_parallel_calls=AUTOTUNE)\n",
    "           .batch()\n",
    "           .prefetch(AUTOTUNE))"
   ]
  },
  {
   "cell_type": "markdown",
   "id": "bd34bc33-d26a-46e6-a7c9-0d3a3683978e",
   "metadata": {},
   "source": [
    "---"
   ]
  },
  {
   "cell_type": "markdown",
   "id": "2f6855d9-e267-4732-9b25-caaec6a55316",
   "metadata": {},
   "source": [
    "# 📌 tf.data.Dataset 常用方法速查表\n",
    "\n",
    "| 方法 | 作用 | 示例 |\n",
    "|------|------|------|\n",
    "| `from_tensor_slices(data)` | 从张量/数组创建数据集 | `Dataset.from_tensor_slices((x, y))` |\n",
    "| `from_generator(gen, output_types, output_shapes)` | 从生成器创建数据集 | `Dataset.from_generator(gen, (tf.int32, tf.int32), ((),()))` |\n",
    "| `TFRecordDataset(filenames)` | 从 TFRecord 文件创建 | `Dataset.TFRecordDataset(\"data.tfrecord\")` |\n",
    "| `TextLineDataset(filenames)` | 从文本文件创建 | `Dataset.TextLineDataset(\"data.txt\")` |\n",
    "| `list_files(pattern)` | 读取多个文件路径（可用于交错加载） | `Dataset.list_files(\"data/*.tfrecord\")` |\n",
    "| `map(map_func, num_parallel_calls)` | 对每个元素应用函数（预处理） | `ds.map(lambda x: x/255.0, num_parallel_calls=AUTOTUNE)` |\n",
    "| `batch(batch_size, drop_remainder=False)` | 按批次取数据 | `ds.batch(32)` |\n",
    "| `shuffle(buffer_size)` | 打乱数据顺序 | `ds.shuffle(1000)` |\n",
    "| `repeat(count=None)` | 重复数据集，`None` 表示无限重复 | `ds.repeat(10)` |\n",
    "| `prefetch(buffer_size)` | 预取数据，加速训练 | `ds.prefetch(AUTOTUNE)` |\n",
    "| `take(n)` | 只取前 n 个元素 | `ds.take(1)` |\n",
    "| `cache(filename=None)` | 缓存数据到内存/文件 | `ds.cache()` |\n",
    "| `skip(n)` | 跳过前 n 个元素 | `ds.skip(10)` |\n",
    "| `filter(predicate)` | 过滤不满足条件的数据 | `ds.filter(lambda x: x > 0)` |\n",
    "| `flat_map(map_func)` | 展开并合并多个子数据集 | `ds.flat_map(lambda x: Dataset.from_tensor_slices(x))` |\n",
    "| `interleave(map_func, cycle_length)` | 交错加载多个子数据集 | `files.interleave(TFRecordDataset, cycle_length=4)` |\n",
    "| `enumerate()` | 给元素加上索引 | `ds.enumerate()` |\n",
    "\n",
    "---\n",
    "\n",
    "✅ **推荐最佳实践组合：**\n",
    "```python\n",
    "dataset = (tf.data.Dataset.from_tensor_slices((features, labels))\n",
    "           .shuffle(buffer_size=1000)\n",
    "           .map(preprocess_fn, num_parallel_calls=tf.data.AUTOTUNE)\n",
    "           .batch(32)\n",
    "           .prefetch(tf.data.AUTOTUNE))\n"
   ]
  },
  {
   "cell_type": "code",
   "execution_count": null,
   "id": "06cca200-5aed-4f0b-928b-daadd06da963",
   "metadata": {},
   "outputs": [],
   "source": []
  }
 ],
 "metadata": {
  "kernelspec": {
   "display_name": "Python [conda env:deepseek_env]",
   "language": "python",
   "name": "conda-env-deepseek_env-py"
  },
  "language_info": {
   "codemirror_mode": {
    "name": "ipython",
    "version": 3
   },
   "file_extension": ".py",
   "mimetype": "text/x-python",
   "name": "python",
   "nbconvert_exporter": "python",
   "pygments_lexer": "ipython3",
   "version": "3.12.9"
  }
 },
 "nbformat": 4,
 "nbformat_minor": 5
}

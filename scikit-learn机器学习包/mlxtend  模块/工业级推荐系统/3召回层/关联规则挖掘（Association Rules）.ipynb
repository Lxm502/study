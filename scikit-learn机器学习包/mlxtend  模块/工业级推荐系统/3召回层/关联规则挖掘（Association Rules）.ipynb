{
 "cells": [
  {
   "cell_type": "markdown",
   "id": "53df606a-58ed-49e7-8c4c-8fa522fa0103",
   "metadata": {},
   "source": [
    "# 关联规则挖掘（Association Rules）\n",
    "关联规则挖掘是数据挖掘中用于发现变量之间有趣关系的重要技术，最经典的案例就是购物篮分析。MLxtend 提供了完整的关联规则挖掘工具。\n",
    "\n",
    "##  1. 基本概念\n",
    "- 事务（transaction）：一笔购物记录（items 列表）。\n",
    "- 项集（itemset）：若干个商品的集合（例如 {面包, 牛奶}）。\n",
    "- 支持度（support）：support(𝐴) = 𝑃(𝐴) =（#transactions containing 𝐴） / 𝑁\n",
    "    - “#transactions containing 𝐴” 的直接意思是：包含项集 A 的交易（Transaction）的数量。\n",
    "    - 支持度(项集) = (包含该项集的事务数量) / (总事务数量)\n",
    "\n",
    "\n",
    "- 置信度（confidence）：confidence(𝐴⇒𝐵) = 𝑃(𝐵∣𝐴) = support(𝐴∪𝐵) / support(𝐴)\n",
    "\n",
    "- 提升度（lift）：lift(𝐴⇒𝐵) = confidence(𝐴⇒𝐵) / support(𝐵) = 𝑃(𝐴∪𝐵) / 𝑃(𝐴)𝑃(𝐵)\n",
    "\n",
    "    -  lift > 1 表示 A 与 B 正相关；≈1 表示独立；<1 表示负相关。\n",
    "\n",
    "- 杠杆度（leverage）：leverage = 𝑃(𝐴∪𝐵)−𝑃(𝐴)𝑃(𝐵)\n",
    "\n",
    "- 置信度反因（conviction）：conviction =（1−𝑃(𝐵)） / （1−confidence(𝐴⇒𝐵)）\n",
    "\n",
    "    - confidence 趋近 1 时 conviction → ∞。\n",
    "\n"
   ]
  },
  {
   "cell_type": "markdown",
   "id": "d8768d7d-1a58-41cc-a394-8597c94d7679",
   "metadata": {},
   "source": [
    "---\n",
    "## 2.mlxtend 中常用函数（模块）\n",
    "\n",
    "- `mlxtend.preprocessing.TransactionEncoder` —— 把 list-of-lists 的事务转换成 `one-hot` DataFrame（apriori 要求的格式）\n",
    "\n",
    "- `mlxtend.frequent_patterns.apriori` —— 挖掘频繁项集（返回 `itemsets` 与 `support`）\n",
    "\n",
    "- `mlxtend.frequent_patterns.fpgrowth` —— （可选）`FP-Growth` 算法的实现（在大数据上通常比 apriori 快）\n",
    "\n",
    "- `mlxtend.frequent_patterns.association_rules` —— 从频繁项集生成关联规则（计算 confidence, lift, leverage, conviction 等\n",
    "\n",
    "---"
   ]
  },
  {
   "cell_type": "markdown",
   "id": "04cd99b4-4266-489d-9fc1-806bf742a540",
   "metadata": {},
   "source": [
    "### 2.1数据处理模块  TransactionEncoder\n",
    "将交易数据转换为one-hot编码格式"
   ]
  },
  {
   "cell_type": "code",
   "execution_count": null,
   "id": "c3806873-a5ec-4220-ae61-5272b420ad6e",
   "metadata": {},
   "outputs": [],
   "source": [
    "import pandas as pd\n",
    "from mlxtend.preprocessing import TransactionEncoder\n",
    "\n",
    "# 示例交易数据\n",
    "transactions = [\n",
    "    ['牛奶', '面包', '尿布'],\n",
    "    ['可乐', '面包', '尿布', '啤酒'],\n",
    "    ['牛奶', '尿布', '啤酒', '鸡蛋'],\n",
    "    ['面包', '牛奶', '尿布', '啤酒'],\n",
    "    ['面包', '牛奶', '尿布', '可乐']\n",
    "]\n",
    "\n",
    "# 使用TransactionEncoder进行转换\n",
    "te = TransactionEncoder()\n",
    "te_array = te.fit(transactions).transform(transactions)\n",
    "\n",
    "# 转换为DataFrame\n",
    "df = pd.DataFrame(te_array, columns=te.columns_)\n",
    "print(df)\n",
    "\n",
    "输出：\n",
    "\n",
    "   牛奶    面包    尿布    可乐    啤酒    鸡蛋\n",
    "0  True   True   True  False  False  False\n",
    "1  False  True   True   True   True  False\n",
    "2  True  False   True  False   True   True\n",
    "3  True   True   True  False   True  False\n",
    "4  True   True   True   True  False  False"
   ]
  },
  {
   "cell_type": "markdown",
   "id": "86e2566d-4b39-44a8-9668-9680719d310a",
   "metadata": {},
   "source": [
    "### 2.2频繁项集挖掘 ：Apriori算法"
   ]
  },
  {
   "cell_type": "code",
   "execution_count": null,
   "id": "d500ed8f-d6bc-4448-b072-8e7ce92c8e46",
   "metadata": {},
   "outputs": [],
   "source": [
    "from mlxtend.frequent_patterns import apriori\n",
    "\n",
    "# 挖掘频繁项集\n",
    "frequent_itemsets = apriori(df, \n",
    "                           min_support=0.4,  # 最小支持度\n",
    "                           use_colnames=True) # 使用列名而非索引\n",
    "\n",
    "print(\"频繁项集:\")\n",
    "print(frequent_itemsets)"
   ]
  },
  {
   "cell_type": "markdown",
   "id": "75438a8e-0b3f-4dc2-83da-5052e1658b05",
   "metadata": {},
   "source": [
    "常见参数说明（实用）\n",
    "\n",
    "- apriori(df, min_support=..., use_colnames=True, max_len=None, verbose=0)\n",
    "\n",
    "    - `min_support` ：频繁项集的最低支持度阈值（必调）。\n",
    "    \n",
    "    - `use_colnames` = `True`：返回` item `名称（更可读）。\n",
    "    \n",
    "    - `max_len`：限制项集的最大长度（节省时间/内存）。\n",
    " \n",
    "---"
   ]
  },
  {
   "cell_type": "markdown",
   "id": "8c9f6782-a2ad-425c-ad57-92aeb1a29abb",
   "metadata": {},
   "source": [
    "### 2.3频繁项集挖掘 ：FP-Growth算法"
   ]
  },
  {
   "cell_type": "code",
   "execution_count": null,
   "id": "98fc0278-75e5-499e-b57a-842b9a1add8c",
   "metadata": {},
   "outputs": [],
   "source": [
    "from mlxtend.frequent_patterns import fpgrowth\n",
    "\n",
    "# 使用FP-Growth算法（更适合大数据集）\n",
    "frequent_itemsets_fp = fpgrowth(df, \n",
    "                               min_support=0.4, \n",
    "                               use_colnames=True)"
   ]
  },
  {
   "cell_type": "markdown",
   "id": "ad3a547b-5ef7-425c-b975-7b81d26dffa8",
   "metadata": {},
   "source": [
    "常见参数说明（实用）\n",
    "- association_rules(df, metric='confidence', min_threshold=0.8)\n",
    "\n",
    "    - `metric` ：用于筛规则的指标（'support' | 'confidence' | 'lift' | 'leverage' | 'conviction' 等）。\n",
    "\n",
    "    - `min_threshold` ：对应 metric 的最小阈值。\n",
    "\n",
    "---"
   ]
  },
  {
   "cell_type": "markdown",
   "id": "bb106270-07ff-4d02-86ab-bff170d837eb",
   "metadata": {},
   "source": [
    "### 2.4关联规则生成 ： association_rules "
   ]
  },
  {
   "cell_type": "code",
   "execution_count": null,
   "id": "fcc690f3-d9c8-4806-a6eb-774d8aaa7a7e",
   "metadata": {},
   "outputs": [],
   "source": [
    "from mlxtend.frequent_patterns import association_rules\n",
    "\n",
    "# 生成关联规则\n",
    "rules = association_rules(frequent_itemsets, \n",
    "                         metric=\"confidence\",  # 评估指标\n",
    "                         min_threshold=0.7)    # 最小阈值\n",
    "\n",
    "print(\"关联规则:\")\n",
    "print(rules[['antecedents', 'consequents', 'support', 'confidence', 'lift']])"
   ]
  },
  {
   "cell_type": "markdown",
   "id": "d862bbe2-8679-452d-a45b-5f761296c001",
   "metadata": {},
   "source": [
    "## 3.数据准备要点\n",
    "\n",
    "`mlxtend `要求的输入是` one-hot `编码的` DataFrame`（列为` item`，值为` 0/1 `或` bool`）。\n",
    "\n",
    "如果你有原始的事务列表（`list of lists`），用` TransactionEncoder `快速转换（上面模板）。\n",
    "\n",
    "如果你有购物频次（商品可能出现多次），`APRIORI/FP-GROWTH `只看“`是否出现`”，多次出现不会额外计数；若需考虑数量，可先离散化（比如` milk_qty>=2` -> `\"milk_2plus\"`）。\n",
    "\n",
    "对于大类目／长尾商品：先剔除低频商品或只保留` top-k `商品，以降低维度。\n",
    "\n",
    "---"
   ]
  },
  {
   "cell_type": "markdown",
   "id": "36cd18b0-b18e-4ab9-8eb8-a8ef4edf5c70",
   "metadata": {},
   "source": [
    "## 4.完整的实际案例\n",
    "超市购物篮分析"
   ]
  },
  {
   "cell_type": "code",
   "execution_count": 8,
   "id": "05396876-550f-4703-85bf-4e0646906d94",
   "metadata": {},
   "outputs": [
    {
     "name": "stdout",
     "output_type": "stream",
     "text": [
      "数据概览:\n",
      "交易数量: 14\n",
      "商品种类: 28\n",
      "\n",
      "商品出现频率:\n",
      "面包      8\n",
      "牛奶      6\n",
      "啤酒      4\n",
      "黄油      4\n",
      "薯片      3\n",
      "奶酪      3\n",
      "鸡蛋      3\n",
      "火腿      2\n",
      "尿布      2\n",
      "可乐      2\n",
      "坚果      2\n",
      "冰淇淋     1\n",
      "水果      1\n",
      "橄榄      1\n",
      "果酱      1\n",
      "果汁      1\n",
      "巧克力     1\n",
      "婴儿食品    1\n",
      "牛肉干     1\n",
      "湿巾      1\n",
      "蛋黄酱     1\n",
      "葡萄酒     1\n",
      "茶       1\n",
      "蜂蜜      1\n",
      "饼干      1\n",
      "酸奶      1\n",
      "香蕉      1\n",
      "麦片      1\n",
      "dtype: int64\n",
      "\n",
      "频繁项集 (支持度 ≥ 0.3):\n",
      "    support  itemsets\n",
      "1  0.571429      (面包)\n",
      "0  0.428571      (牛奶)\n",
      "2  0.357143  (牛奶, 面包)\n",
      "\n",
      "关联规则 (提升度 > 1.2):\n",
      "  antecedents consequents   support  confidence      lift\n",
      "0        (牛奶)        (面包)  0.357143    0.833333  1.458333\n",
      "1        (面包)        (牛奶)  0.357143    0.625000  1.458333\n"
     ]
    },
    {
     "data": {
      "image/png": "[encoded data removed]",
      "text/plain": [
       "<Figure size 1500x500 with 3 Axes>"
      ]
     },
     "metadata": {},
     "output_type": "display_data"
    }
   ],
   "source": [
    "import pandas as pd\n",
    "from mlxtend.preprocessing import TransactionEncoder\n",
    "from mlxtend.frequent_patterns import apriori, association_rules\n",
    "import matplotlib.pyplot as plt\n",
    "import seaborn as sns\n",
    "import warnings  # 过滤所有警告 \n",
    "warnings.filterwarnings('ignore')\n",
    "plt.rcParams['axes.unicode_minus']=False\n",
    "plt.rcParams['font.sans-serif'] = ['SimHei']\n",
    "\n",
    "# 创建更真实的超市交易数据\n",
    "supermarket_transactions = [\n",
    "    ['牛奶', '面包', '黄油', '鸡蛋'],\n",
    "    ['面包', '奶酪', '火腿', '黄油'],\n",
    "    ['牛奶', '面包', '尿布', '啤酒'],\n",
    "    ['可乐', '薯片', '啤酒', '坚果'],\n",
    "    ['牛奶', '鸡蛋', '面包', '水果'],\n",
    "    ['面包', '黄油', '果酱', '牛奶'],\n",
    "    ['啤酒', '尿布', '婴儿食品', '湿巾'],\n",
    "    ['葡萄酒', '奶酪', '饼干', '橄榄'],\n",
    "    ['牛奶', '麦片', '香蕉', '酸奶'],\n",
    "    ['面包', '火腿', '奶酪', '蛋黄酱'],\n",
    "    ['可乐', '冰淇淋', '薯片', '巧克力'],\n",
    "    ['牛奶', '面包', '鸡蛋', '果汁'],\n",
    "    ['啤酒', '坚果', '薯片', '牛肉干'],\n",
    "    ['面包', '黄油', '蜂蜜', '茶']\n",
    "]\n",
    "\n",
    "# 数据预处理\n",
    "te = TransactionEncoder()\n",
    "te_array = te.fit(supermarket_transactions).transform(supermarket_transactions)\n",
    "df_supermarket = pd.DataFrame(te_array, columns=te.columns_)\n",
    "\n",
    "print(\"数据概览:\")\n",
    "print(f\"交易数量: {len(df_supermarket)}\")\n",
    "print(f\"商品种类: {len(df_supermarket.columns)}\")\n",
    "print(\"\\n商品出现频率:\")\n",
    "print(df_supermarket.sum().sort_values(ascending=False))\n",
    "\n",
    "# 挖掘频繁项集\n",
    "frequent_itemsets = apriori(df_supermarket, \n",
    "                           min_support=0.3, \n",
    "                           use_colnames=True,\n",
    "                           max_len=3)  # 最大项集大小\n",
    "\n",
    "print(\"\\n频繁项集 (支持度 ≥ 0.3):\")\n",
    "print(frequent_itemsets.sort_values('support', ascending=False))\n",
    "\n",
    "# 生成关联规则\n",
    "rules = association_rules(frequent_itemsets, \n",
    "                         metric=\"lift\", \n",
    "                         min_threshold=1.2)\n",
    "\n",
    "print(\"\\n关联规则 (提升度 > 1.2):\")\n",
    "print(rules[['antecedents', 'consequents', 'support', 'confidence', 'lift']]\n",
    "      .sort_values('lift', ascending=False))\n",
    "\n",
    "# 可视化分析\n",
    "plt.figure(figsize=(15, 5))\n",
    "\n",
    "# 支持度 vs 置信度散点图\n",
    "plt.subplot(1, 3, 1)\n",
    "plt.scatter(rules['support'], rules['confidence'], alpha=0.5)\n",
    "plt.xlabel('支持度')\n",
    "plt.ylabel('置信度')\n",
    "plt.title('支持度 vs 置信度')\n",
    "\n",
    "# 提升度分布\n",
    "plt.subplot(1, 3, 2)\n",
    "plt.hist(rules['lift'], bins=10, alpha=0.7)\n",
    "plt.xlabel('提升度')\n",
    "plt.ylabel('频数')\n",
    "plt.title('提升度分布')\n",
    "\n",
    "# 前10个规则的提升度\n",
    "plt.subplot(1, 3, 3)\n",
    "top_rules = rules.nlargest(10, 'lift')\n",
    "rules_labels = [f\"{list(rule.antecedents)}→{list(rule.consequents)}\" \n",
    "                for rule in top_rules.itertuples()]\n",
    "plt.barh(rules_labels, top_rules['lift'])\n",
    "plt.xlabel('提升度')\n",
    "plt.title('Top 10 Rules by Lift')\n",
    "plt.tight_layout()\n",
    "plt.show()"
   ]
  },
  {
   "cell_type": "markdown",
   "id": "0579b6df-37c2-4531-8073-4d5beb6a0e84",
   "metadata": {},
   "source": [
    "## 5.高级功能和参数调优\n",
    "多指标筛选"
   ]
  },
  {
   "cell_type": "code",
   "execution_count": null,
   "id": "c31a7522-898f-4b39-bd9e-bb30043d9b94",
   "metadata": {},
   "outputs": [],
   "source": [
    "# 使用多个指标进行筛选\n",
    "filtered_rules = association_rules(frequent_itemsets, \n",
    "                                  metric=\"confidence\", \n",
    "                                  min_threshold=0.6)\n",
    "\n",
    "# 进一步筛选\n",
    "final_rules = filtered_rules[\n",
    "    (filtered_rules['lift'] > 1.2) & \n",
    "    (filtered_rules['support'] > 0.2)\n",
    "]\n",
    "\n",
    "print(\"筛选后的规则:\")\n",
    "print(final_rules[['antecedents', 'consequents', 'support', 'confidence', 'lift']])"
   ]
  },
  {
   "cell_type": "markdown",
   "id": "b22e7f19-9e1e-44ad-b481-4a1e5bfba725",
   "metadata": {},
   "source": [
    "## 6. 结果解释和业务应用\n",
    "规则解释示例"
   ]
  },
  {
   "cell_type": "code",
   "execution_count": null,
   "id": "e1c4ac89-6cc5-4990-b0eb-818fa88e6d52",
   "metadata": {},
   "outputs": [],
   "source": [
    "def interpret_rules(rules_df, top_n=5):\n",
    "    \"\"\"解释关联规则的业务含义\"\"\"\n",
    "    top_rules = rules_df.nlargest(top_n, 'lift')\n",
    "    \n",
    "    for i, rule in top_rules.iterrows():\n",
    "        antecedents = list(rule['antecedents'])\n",
    "        consequents = list(rule['consequents'])\n",
    "        \n",
    "        print(f\"\\n规则 {i+1}:\")\n",
    "        print(f\"当顾客购买 {antecedents} 时，也会购买 {consequents}\")\n",
    "        print(f\"支持度: {rule['support']:.3f} (在所有交易中出现的频率)\")\n",
    "        print(f\"置信度: {rule['confidence']:.3f} (规则的可靠性)\")\n",
    "        print(f\"提升度: {rule['lift']:.3f} (规则的有效性)\")\n",
    "        \n",
    "        if rule['lift'] > 1:\n",
    "            print(\"✅ 这是一个有效的正相关规则\")\n",
    "        else:\n",
    "            print(\"❌ 这个规则可能没有实际意义\")\n",
    "\n",
    "# 解释规则\n",
    "interpret_rules(rules)"
   ]
  },
  {
   "cell_type": "markdown",
   "id": "fa7586de-df30-416b-a77e-c2184240bdfa",
   "metadata": {},
   "source": [
    "## 7. 实际应用建议\n",
    "#### 参数选择策略\n",
    "- min_support：\n",
    "\n",
    "    - 若是超市零售类（百万笔级），min_support 可以设得较小（0.01 以下）以发现长尾组合；\n",
    "    \n",
    "    - 小数据集建议 0.1 ~ 0.3 以减少噪声。\n",
    "\n",
    "- min_confidence：常用 0.5~0.8。\n",
    "\n",
    "- lift：用来发现有实际关联（>1.2、>1.5 依据业务严格度）。\n",
    "\n",
    "- metric选择:\n",
    "\n",
    "    - 寻找强关联: confidence > 0.7\n",
    "    \n",
    "    - 寻找有趣规则: lift > 1.2\n",
    "    \n",
    "    - 平衡考虑: 结合support和confidence\n",
    "\n",
    "结合业务 KPIs：不要只看统计指标，也看规则是否能带来交叉销售提升、促销逻辑或产品组合优化\n",
    "\n",
    "\n",
    "#### 业务应用场景\n",
    "- 商品摆放优化: 将关联商品摆放在相近位置\n",
    "\n",
    "- 促销策略: 对关联商品进行捆绑销售\n",
    "\n",
    "- 库存管理: 根据关联规则预测商品需求\n",
    "\n",
    "- 推荐系统: 基于购买历史推荐关联商品"
   ]
  },
  {
   "cell_type": "markdown",
   "id": "bf6268c9-abe8-4824-9fcd-88506b6f711b",
   "metadata": {},
   "source": [
    "---\n",
    "## 8.常见陷阱 & 注意事项\n",
    "\n",
    "- 支持度太低：会产生大量噪声规则；太高又可能漏掉有价值的长尾规则。\n",
    "\n",
    "- 置信度误导：高置信度不一定意味着强关联（若` consequent `很常见）。这时用` lift `进行补充判定。\n",
    "\n",
    "- 频繁项集与规则解释：`apriori` 根据存在/不存在工作，不计算商品数量；若你关心“购买 3 瓶牛奶”这种情况，需要先把数量离散化成“milk_>=3”。\n",
    "\n",
    "- 数据稀疏 / 维度高：先降维（过滤低频商品或只使用` top-K `类目）会明显加速计算且结果更易解释。\n",
    "\n",
    "- 时间/序列信息：关联规则不保留事务顺序；若需要顺序模式（序列规则），需使用序列模式挖掘算法（不是 apriori/association_rules 的范畴）。"
   ]
  },
  {
   "cell_type": "code",
   "execution_count": null,
   "id": "921b6371-712a-460e-9168-3b4e2c7eb42a",
   "metadata": {},
   "outputs": [],
   "source": []
  }
 ],
 "metadata": {
  "kernelspec": {
   "display_name": "Python [conda env:deepseek_env]",
   "language": "python",
   "name": "conda-env-deepseek_env-py"
  },
  "language_info": {
   "codemirror_mode": {
    "name": "ipython",
    "version": 3
   },
   "file_extension": ".py",
   "mimetype": "text/x-python",
   "name": "python",
   "nbconvert_exporter": "python",
   "pygments_lexer": "ipython3",
   "version": "3.12.9"
  }
 },
 "nbformat": 4,
 "nbformat_minor": 5
}

{
 "cells": [
  {
   "cell_type": "markdown",
   "id": "86afce54-9e0f-442d-83d0-04cc5fea1a47",
   "metadata": {},
   "source": [
    "# mlxtend库包含以下几个主要方面的功能：\n",
    "\n",
    "- 1.数据预处理（Preprocessing）\n",
    "\n",
    "- 2.特征提取（Feature Extraction）\n",
    "\n",
    "- 3.特征选择（Feature Selection）\n",
    "\n",
    "- 4.模型评估（Model Evaluation）\n",
    "\n",
    "- 5.可视化（Plotting）\n",
    "\n",
    "- 6.关联规则挖掘（Association Rules）\n",
    "\n",
    "- 7.集成方法（Ensemble Methods）\n",
    "\n",
    "- 8.文本处理（Text Processing）\n",
    "\n",
    "- 9.其他实用工具（Miscellaneous Utilities）"
   ]
  },
  {
   "cell_type": "code",
   "execution_count": null,
   "id": "f9992769-26d9-41a6-85f0-2742ae326db3",
   "metadata": {},
   "outputs": [],
   "source": []
  }
 ],
 "metadata": {
  "kernelspec": {
   "display_name": "Python [conda env:deepseek_env]",
   "language": "python",
   "name": "conda-env-deepseek_env-py"
  },
  "language_info": {
   "codemirror_mode": {
    "name": "ipython",
    "version": 3
   },
   "file_extension": ".py",
   "mimetype": "text/x-python",
   "name": "python",
   "nbconvert_exporter": "python",
   "pygments_lexer": "ipython3",
   "version": "3.12.9"
  }
 },
 "nbformat": 4,
 "nbformat_minor": 5
}
